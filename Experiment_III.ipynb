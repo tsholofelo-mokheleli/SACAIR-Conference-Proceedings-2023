{
  "nbformat": 4,
  "nbformat_minor": 0,
  "metadata": {
    "colab": {
      "provenance": [],
      "toc_visible": true,
      "authorship_tag": "ABX9TyPAm5WwJ+3uGkg8HNswcdjr",
      "include_colab_link": true
    },
    "kernelspec": {
      "name": "python3",
      "display_name": "Python 3"
    },
    "language_info": {
      "name": "python"
    }
  },
  "cells": [
    {
      "cell_type": "markdown",
      "metadata": {
        "id": "view-in-github",
        "colab_type": "text"
      },
      "source": [
        "<a href=\"https://colab.research.google.com/github/tsholofelo-mokheleli/SACAIR-Conference-Proceedings-2023/blob/main/Experiment_III.ipynb\" target=\"_parent\"><img src=\"https://colab.research.google.com/assets/colab-badge.svg\" alt=\"Open In Colab\"/></a>"
      ]
    },
    {
      "cell_type": "markdown",
      "source": [
        "### **Libraries**"
      ],
      "metadata": {
        "id": "jqCSMFnAzxYe"
      }
    },
    {
      "cell_type": "code",
      "execution_count": 410,
      "metadata": {
        "id": "rmjMaUkvEjBz"
      },
      "outputs": [],
      "source": [
        "# Load the libraries\n",
        "import pandas  as pd\n",
        "import numpy as np\n",
        "import seaborn as sns\n",
        "import matplotlib.pyplot as plt\n",
        "\n",
        "# Warning filter\n",
        "import warnings\n",
        "warnings.filterwarnings('ignore')\n",
        "cmap=sns.color_palette('Blues_r')\n",
        "\n",
        "from sklearn.metrics import mean_absolute_error\n",
        "from sklearn.metrics import mean_squared_error\n",
        "from scipy.stats import ks_2samp\n",
        "\n",
        "# Imputation\n",
        "from sklearn.experimental import enable_iterative_imputer  # noqa\n",
        "from sklearn.impute import IterativeImputer\n",
        "from sklearn.neighbors import NearestNeighbors\n",
        "from sklearn.impute import KNNImputer\n",
        "\n",
        "# Plot Theme\n",
        "sns.set_style(\"darkgrid\")\n",
        "plt.style.use(\"seaborn-deep\")"
      ]
    },
    {
      "cell_type": "markdown",
      "source": [
        "### **Load Data**"
      ],
      "metadata": {
        "id": "ozUM1jrxFjmk"
      }
    },
    {
      "cell_type": "code",
      "source": [
        "data = pd.read_csv(\"Clean Mental Health.csv\")"
      ],
      "metadata": {
        "id": "um2eny9XFnvz"
      },
      "execution_count": 382,
      "outputs": []
    },
    {
      "cell_type": "code",
      "source": [
        "data.info()"
      ],
      "metadata": {
        "colab": {
          "base_uri": "https://localhost:8080/"
        },
        "id": "ovp1Xfr7J8fc",
        "outputId": "795503d4-073a-40cd-fd4e-0af07497dd47"
      },
      "execution_count": 383,
      "outputs": [
        {
          "output_type": "stream",
          "name": "stdout",
          "text": [
            "<class 'pandas.core.frame.DataFrame'>\n",
            "RangeIndex: 3269 entries, 0 to 3268\n",
            "Data columns (total 25 columns):\n",
            " #   Column                    Non-Null Count  Dtype  \n",
            "---  ------                    --------------  -----  \n",
            " 0   self_employed             3269 non-null   int64  \n",
            " 1   no_employees              2723 non-null   float64\n",
            " 2   tech_company              2723 non-null   float64\n",
            " 3   company_role              1840 non-null   float64\n",
            " 4   benefits                  2723 non-null   float64\n",
            " 5   care_options              2427 non-null   float64\n",
            " 6   wellness_program          2723 non-null   float64\n",
            " 7   seek_help                 2723 non-null   float64\n",
            " 8   anonymity                 2723 non-null   float64\n",
            " 9   leave                     2723 non-null   float64\n",
            " 10  mental_importance         2723 non-null   float64\n",
            " 11  neg_consequence_coworker  2980 non-null   float64\n",
            " 12  discuss_mh                1859 non-null   float64\n",
            " 13  work_interfere            546 non-null    float64\n",
            " 14  coworkers                 2841 non-null   float64\n",
            " 15  supervisor                2841 non-null   float64\n",
            " 16  mental_health_interview   3269 non-null   int64  \n",
            " 17  family_history            3269 non-null   int64  \n",
            " 18  past_mental_health        3246 non-null   float64\n",
            " 19  mental_health             3269 non-null   int64  \n",
            " 20  mental_health_diagnosed   2189 non-null   float64\n",
            " 21  treatment                 3269 non-null   int64  \n",
            " 22  age                       3259 non-null   float64\n",
            " 23  gender                    3269 non-null   int64  \n",
            " 24  country                   3269 non-null   int64  \n",
            "dtypes: float64(18), int64(7)\n",
            "memory usage: 638.6 KB\n"
          ]
        }
      ]
    },
    {
      "cell_type": "code",
      "source": [
        "for column in data.columns:\n",
        "    unique_values = data[column].unique()\n",
        "    print(f\"Unique values in '{column}': {unique_values}\")"
      ],
      "metadata": {
        "colab": {
          "base_uri": "https://localhost:8080/"
        },
        "id": "aeghiNyqoyZC",
        "outputId": "eba5282b-5116-4696-8b1b-a9c577e2a57c"
      },
      "execution_count": 384,
      "outputs": [
        {
          "output_type": "stream",
          "name": "stdout",
          "text": [
            "Unique values in 'self_employed': [0 1]\n",
            "Unique values in 'no_employees': [ 2.  1. nan  5.  3.  4.  0.]\n",
            "Unique values in 'tech_company': [ 1. nan  0.]\n",
            "Unique values in 'company_role': [nan  1.  0.]\n",
            "Unique values in 'benefits': [ 3.  0. nan  1.  2.]\n",
            "Unique values in 'care_options': [nan  1.  2.  0.]\n",
            "Unique values in 'wellness_program': [ 0.  1. nan  2.]\n",
            "Unique values in 'seek_help': [ 0.  1. nan  2.]\n",
            "Unique values in 'anonymity': [ 2.  1. nan  0.]\n",
            "Unique values in 'leave': [ 1.  2.  3. nan  6.  4.  5.]\n",
            "Unique values in 'mental_importance': [ 2.  1. nan  0.]\n",
            "Unique values in 'neg_consequence_coworker': [ 0. nan  1.  2.  3.]\n",
            "Unique values in 'discuss_mh': [nan  1.  0.  2.]\n",
            "Unique values in 'work_interfere': [nan  1.  2.  0.]\n",
            "Unique values in 'coworkers': [ 2.  0.  1. nan]\n",
            "Unique values in 'supervisor': [ 2.  0.  1. nan]\n",
            "Unique values in 'mental_health_interview': [2 0 1]\n",
            "Unique values in 'family_history': [0 1 2]\n",
            "Unique values in 'past_mental_health': [ 1.  2.  0. nan  3.]\n",
            "Unique values in 'mental_health': [0 1 2 3]\n",
            "Unique values in 'mental_health_diagnosed': [ 1.  0. nan]\n",
            "Unique values in 'treatment': [0 1]\n",
            "Unique values in 'age': [39. 29. 38. 43. 42. 30. 37. 44. 28. 34. 35. 52. 32. 25. 31. 26. 33. 27.\n",
            " 36. 40. 46. 41. 45. 19. 21. 24. 17. 23. 22. 51. 48. 55. 50. 49. 20. 54.\n",
            " 47. 56. 57. 63. nan 61. 62. 53. 58. 66. 59. 15. 65. 74. 70. 18. 64. 60.\n",
            " 67.]\n",
            "Unique values in 'gender': [1 0 2 3]\n",
            "Unique values in 'country': [77 78 14 29 52 20 46  4 27 80 59  8 10 21 72 62 70 36 50 73 55  3 39 41\n",
            " 26 17 18 81 12 53 69 67  5  6  2 57  0 31 61 56 11 42 38 34 40 22  9 16\n",
            " 15 32 74 65 24 35 37 60 43 19 76 66  7 75 45 82 49 64 54 44 79 25 47 33\n",
            " 28 30 51 13 58 71 23 48 68  1 63]\n"
          ]
        }
      ]
    },
    {
      "cell_type": "code",
      "source": [
        "#Get the numbers of missing values in each column\n",
        "missing = data.isnull().sum()\n",
        "\n",
        "#Get the percentage of missing values in each column\n",
        "missing_pct = round(data.isnull().sum()/len(data) * 100, 1)\n",
        "\n",
        "orig_data_missing = pd.concat([missing, missing_pct], axis=1)\n",
        "orig_data_missing.columns = [\"Num\", \"%\"]\n",
        "print(orig_data_missing)"
      ],
      "metadata": {
        "colab": {
          "base_uri": "https://localhost:8080/"
        },
        "id": "y0z02wrmQ13-",
        "outputId": "5fc6231a-8363-427d-f62b-4a55107c5a4b"
      },
      "execution_count": 385,
      "outputs": [
        {
          "output_type": "stream",
          "name": "stdout",
          "text": [
            "                           Num     %\n",
            "self_employed                0   0.0\n",
            "no_employees               546  16.7\n",
            "tech_company               546  16.7\n",
            "company_role              1429  43.7\n",
            "benefits                   546  16.7\n",
            "care_options               842  25.8\n",
            "wellness_program           546  16.7\n",
            "seek_help                  546  16.7\n",
            "anonymity                  546  16.7\n",
            "leave                      546  16.7\n",
            "mental_importance          546  16.7\n",
            "neg_consequence_coworker   289   8.8\n",
            "discuss_mh                1410  43.1\n",
            "work_interfere            2723  83.3\n",
            "coworkers                  428  13.1\n",
            "supervisor                 428  13.1\n",
            "mental_health_interview      0   0.0\n",
            "family_history               0   0.0\n",
            "past_mental_health          23   0.7\n",
            "mental_health                0   0.0\n",
            "mental_health_diagnosed   1080  33.0\n",
            "treatment                    0   0.0\n",
            "age                         10   0.3\n",
            "gender                       0   0.0\n",
            "country                      0   0.0\n"
          ]
        }
      ]
    },
    {
      "cell_type": "code",
      "source": [
        "# Create a bar plot to visualize the missing values\n",
        "plt.figure(figsize=(10, 6))\n",
        "plt.bar(orig_data_missing.index, orig_data_missing[\"%\"], color='blue')\n",
        "plt.xlabel(\"Columns\")\n",
        "plt.ylabel(\"% Missing\")\n",
        "plt.title(\"Percentage of Missing Values in Each Column\")\n",
        "plt.xticks(rotation=90)\n",
        "plt.tight_layout()\n",
        "\n",
        "# Show the plot\n",
        "plt.show()"
      ],
      "metadata": {
        "colab": {
          "base_uri": "https://localhost:8080/",
          "height": 607
        },
        "id": "kYku0QlLRaRj",
        "outputId": "c4807f47-fa94-452f-83b6-82031322f0b5"
      },
      "execution_count": 386,
      "outputs": [
        {
          "output_type": "display_data",
          "data": {
            "text/plain": [
              "<Figure size 1000x600 with 1 Axes>"
            ],
            "image/png": "[encoded data removed]"
          },
          "metadata": {}
        }
      ]
    },
    {
      "cell_type": "code",
      "source": [
        "orig_data = data\n",
        "\n",
        "orig_data.info()"
      ],
      "metadata": {
        "colab": {
          "base_uri": "https://localhost:8080/"
        },
        "id": "7Jdy8audX5wv",
        "outputId": "b5b29a84-7e26-452f-81ca-6479025593c3"
      },
      "execution_count": 387,
      "outputs": [
        {
          "output_type": "stream",
          "name": "stdout",
          "text": [
            "<class 'pandas.core.frame.DataFrame'>\n",
            "RangeIndex: 3269 entries, 0 to 3268\n",
            "Data columns (total 25 columns):\n",
            " #   Column                    Non-Null Count  Dtype  \n",
            "---  ------                    --------------  -----  \n",
            " 0   self_employed             3269 non-null   int64  \n",
            " 1   no_employees              2723 non-null   float64\n",
            " 2   tech_company              2723 non-null   float64\n",
            " 3   company_role              1840 non-null   float64\n",
            " 4   benefits                  2723 non-null   float64\n",
            " 5   care_options              2427 non-null   float64\n",
            " 6   wellness_program          2723 non-null   float64\n",
            " 7   seek_help                 2723 non-null   float64\n",
            " 8   anonymity                 2723 non-null   float64\n",
            " 9   leave                     2723 non-null   float64\n",
            " 10  mental_importance         2723 non-null   float64\n",
            " 11  neg_consequence_coworker  2980 non-null   float64\n",
            " 12  discuss_mh                1859 non-null   float64\n",
            " 13  work_interfere            546 non-null    float64\n",
            " 14  coworkers                 2841 non-null   float64\n",
            " 15  supervisor                2841 non-null   float64\n",
            " 16  mental_health_interview   3269 non-null   int64  \n",
            " 17  family_history            3269 non-null   int64  \n",
            " 18  past_mental_health        3246 non-null   float64\n",
            " 19  mental_health             3269 non-null   int64  \n",
            " 20  mental_health_diagnosed   2189 non-null   float64\n",
            " 21  treatment                 3269 non-null   int64  \n",
            " 22  age                       3259 non-null   float64\n",
            " 23  gender                    3269 non-null   int64  \n",
            " 24  country                   3269 non-null   int64  \n",
            "dtypes: float64(18), int64(7)\n",
            "memory usage: 638.6 KB\n"
          ]
        }
      ]
    },
    {
      "cell_type": "code",
      "source": [
        "orig_data = orig_data.drop([\"mental_health_diagnosed\"], axis=1)\n",
        "\n",
        "orig_incomplete = orig_data\n",
        "\n",
        "print(orig_incomplete.shape)\n",
        "print()\n",
        "orig_incomplete.info()"
      ],
      "metadata": {
        "colab": {
          "base_uri": "https://localhost:8080/"
        },
        "id": "Gt5u9gF7YQz1",
        "outputId": "7dca5633-d65e-4277-fa04-0ec6359bc653"
      },
      "execution_count": 388,
      "outputs": [
        {
          "output_type": "stream",
          "name": "stdout",
          "text": [
            "(3269, 24)\n",
            "\n",
            "<class 'pandas.core.frame.DataFrame'>\n",
            "RangeIndex: 3269 entries, 0 to 3268\n",
            "Data columns (total 24 columns):\n",
            " #   Column                    Non-Null Count  Dtype  \n",
            "---  ------                    --------------  -----  \n",
            " 0   self_employed             3269 non-null   int64  \n",
            " 1   no_employees              2723 non-null   float64\n",
            " 2   tech_company              2723 non-null   float64\n",
            " 3   company_role              1840 non-null   float64\n",
            " 4   benefits                  2723 non-null   float64\n",
            " 5   care_options              2427 non-null   float64\n",
            " 6   wellness_program          2723 non-null   float64\n",
            " 7   seek_help                 2723 non-null   float64\n",
            " 8   anonymity                 2723 non-null   float64\n",
            " 9   leave                     2723 non-null   float64\n",
            " 10  mental_importance         2723 non-null   float64\n",
            " 11  neg_consequence_coworker  2980 non-null   float64\n",
            " 12  discuss_mh                1859 non-null   float64\n",
            " 13  work_interfere            546 non-null    float64\n",
            " 14  coworkers                 2841 non-null   float64\n",
            " 15  supervisor                2841 non-null   float64\n",
            " 16  mental_health_interview   3269 non-null   int64  \n",
            " 17  family_history            3269 non-null   int64  \n",
            " 18  past_mental_health        3246 non-null   float64\n",
            " 19  mental_health             3269 non-null   int64  \n",
            " 20  treatment                 3269 non-null   int64  \n",
            " 21  age                       3259 non-null   float64\n",
            " 22  gender                    3269 non-null   int64  \n",
            " 23  country                   3269 non-null   int64  \n",
            "dtypes: float64(17), int64(7)\n",
            "memory usage: 613.1 KB\n"
          ]
        }
      ]
    },
    {
      "cell_type": "markdown",
      "source": [
        "### **Initial Data Imputation**"
      ],
      "metadata": {
        "id": "_XwxUJp_hl39"
      }
    },
    {
      "cell_type": "code",
      "source": [
        "columns_to_impute = data.columns[data.columns != \"mental_health_diagnosed\"]\n",
        "\n",
        "# Impute NaN values with -1 in the selected columns\n",
        "data[columns_to_impute] = data[columns_to_impute].fillna(-1)"
      ],
      "metadata": {
        "id": "anryqb4EhoR8"
      },
      "execution_count": 389,
      "outputs": []
    },
    {
      "cell_type": "code",
      "source": [
        "data = data.drop([\"mental_health_diagnosed\"], axis=1)\n",
        "\n",
        "# Convert all columns to int data type\n",
        "for column in data.columns:\n",
        "    data[column] = data[column].astype('int64')\n",
        "\n",
        "\n",
        "incomplete = data\n",
        "incomplete.info()"
      ],
      "metadata": {
        "colab": {
          "base_uri": "https://localhost:8080/"
        },
        "id": "lqyyrm-OhtJN",
        "outputId": "3c40a987-b57e-4c63-a5fc-8d66d9564d23"
      },
      "execution_count": 390,
      "outputs": [
        {
          "output_type": "stream",
          "name": "stdout",
          "text": [
            "<class 'pandas.core.frame.DataFrame'>\n",
            "RangeIndex: 3269 entries, 0 to 3268\n",
            "Data columns (total 24 columns):\n",
            " #   Column                    Non-Null Count  Dtype\n",
            "---  ------                    --------------  -----\n",
            " 0   self_employed             3269 non-null   int64\n",
            " 1   no_employees              3269 non-null   int64\n",
            " 2   tech_company              3269 non-null   int64\n",
            " 3   company_role              3269 non-null   int64\n",
            " 4   benefits                  3269 non-null   int64\n",
            " 5   care_options              3269 non-null   int64\n",
            " 6   wellness_program          3269 non-null   int64\n",
            " 7   seek_help                 3269 non-null   int64\n",
            " 8   anonymity                 3269 non-null   int64\n",
            " 9   leave                     3269 non-null   int64\n",
            " 10  mental_importance         3269 non-null   int64\n",
            " 11  neg_consequence_coworker  3269 non-null   int64\n",
            " 12  discuss_mh                3269 non-null   int64\n",
            " 13  work_interfere            3269 non-null   int64\n",
            " 14  coworkers                 3269 non-null   int64\n",
            " 15  supervisor                3269 non-null   int64\n",
            " 16  mental_health_interview   3269 non-null   int64\n",
            " 17  family_history            3269 non-null   int64\n",
            " 18  past_mental_health        3269 non-null   int64\n",
            " 19  mental_health             3269 non-null   int64\n",
            " 20  treatment                 3269 non-null   int64\n",
            " 21  age                       3269 non-null   int64\n",
            " 22  gender                    3269 non-null   int64\n",
            " 23  country                   3269 non-null   int64\n",
            "dtypes: int64(24)\n",
            "memory usage: 613.1 KB\n"
          ]
        }
      ]
    },
    {
      "cell_type": "markdown",
      "source": [
        "### **Mode Imputation**"
      ],
      "metadata": {
        "id": "HriHMSzfS8ny"
      }
    },
    {
      "cell_type": "code",
      "source": [
        "data = pd.read_csv(\"Clean Mental Health.csv\")"
      ],
      "metadata": {
        "id": "qNLB8Ul6TFKa"
      },
      "execution_count": 391,
      "outputs": []
    },
    {
      "cell_type": "code",
      "source": [
        "columns_to_impute = data.columns[data.columns != \"mental_health_diagnosed\"]\n",
        "\n",
        "# Iterate through columns to impute missing values with mode\n",
        "for column in columns_to_impute:\n",
        "    mode_value = data[column].mode()[0]\n",
        "    data[column].fillna(mode_value, inplace=True)\n",
        "\n",
        "data.info()"
      ],
      "metadata": {
        "colab": {
          "base_uri": "https://localhost:8080/"
        },
        "id": "kkxn62kzTTMU",
        "outputId": "4c8d93e0-519c-48fa-bf0e-bdca1907b7a9"
      },
      "execution_count": 392,
      "outputs": [
        {
          "output_type": "stream",
          "name": "stdout",
          "text": [
            "<class 'pandas.core.frame.DataFrame'>\n",
            "RangeIndex: 3269 entries, 0 to 3268\n",
            "Data columns (total 25 columns):\n",
            " #   Column                    Non-Null Count  Dtype  \n",
            "---  ------                    --------------  -----  \n",
            " 0   self_employed             3269 non-null   int64  \n",
            " 1   no_employees              3269 non-null   float64\n",
            " 2   tech_company              3269 non-null   float64\n",
            " 3   company_role              3269 non-null   float64\n",
            " 4   benefits                  3269 non-null   float64\n",
            " 5   care_options              3269 non-null   float64\n",
            " 6   wellness_program          3269 non-null   float64\n",
            " 7   seek_help                 3269 non-null   float64\n",
            " 8   anonymity                 3269 non-null   float64\n",
            " 9   leave                     3269 non-null   float64\n",
            " 10  mental_importance         3269 non-null   float64\n",
            " 11  neg_consequence_coworker  3269 non-null   float64\n",
            " 12  discuss_mh                3269 non-null   float64\n",
            " 13  work_interfere            3269 non-null   float64\n",
            " 14  coworkers                 3269 non-null   float64\n",
            " 15  supervisor                3269 non-null   float64\n",
            " 16  mental_health_interview   3269 non-null   int64  \n",
            " 17  family_history            3269 non-null   int64  \n",
            " 18  past_mental_health        3269 non-null   float64\n",
            " 19  mental_health             3269 non-null   int64  \n",
            " 20  mental_health_diagnosed   2189 non-null   float64\n",
            " 21  treatment                 3269 non-null   int64  \n",
            " 22  age                       3269 non-null   float64\n",
            " 23  gender                    3269 non-null   int64  \n",
            " 24  country                   3269 non-null   int64  \n",
            "dtypes: float64(18), int64(7)\n",
            "memory usage: 638.6 KB\n"
          ]
        }
      ]
    },
    {
      "cell_type": "code",
      "source": [
        "data = data.drop([\"mental_health_diagnosed\"], axis=1)\n",
        "\n",
        "# Convert all columns to int data type\n",
        "for column in data.columns:\n",
        "    data[column] = data[column].astype('int64')\n",
        "\n",
        "\n",
        "mode_imputed = data\n",
        "mode_imputed.info()"
      ],
      "metadata": {
        "colab": {
          "base_uri": "https://localhost:8080/"
        },
        "id": "Ppf7qJwUT22i",
        "outputId": "31c8bfe6-a1a8-4802-efde-b23d82387e7f"
      },
      "execution_count": 393,
      "outputs": [
        {
          "output_type": "stream",
          "name": "stdout",
          "text": [
            "<class 'pandas.core.frame.DataFrame'>\n",
            "RangeIndex: 3269 entries, 0 to 3268\n",
            "Data columns (total 24 columns):\n",
            " #   Column                    Non-Null Count  Dtype\n",
            "---  ------                    --------------  -----\n",
            " 0   self_employed             3269 non-null   int64\n",
            " 1   no_employees              3269 non-null   int64\n",
            " 2   tech_company              3269 non-null   int64\n",
            " 3   company_role              3269 non-null   int64\n",
            " 4   benefits                  3269 non-null   int64\n",
            " 5   care_options              3269 non-null   int64\n",
            " 6   wellness_program          3269 non-null   int64\n",
            " 7   seek_help                 3269 non-null   int64\n",
            " 8   anonymity                 3269 non-null   int64\n",
            " 9   leave                     3269 non-null   int64\n",
            " 10  mental_importance         3269 non-null   int64\n",
            " 11  neg_consequence_coworker  3269 non-null   int64\n",
            " 12  discuss_mh                3269 non-null   int64\n",
            " 13  work_interfere            3269 non-null   int64\n",
            " 14  coworkers                 3269 non-null   int64\n",
            " 15  supervisor                3269 non-null   int64\n",
            " 16  mental_health_interview   3269 non-null   int64\n",
            " 17  family_history            3269 non-null   int64\n",
            " 18  past_mental_health        3269 non-null   int64\n",
            " 19  mental_health             3269 non-null   int64\n",
            " 20  treatment                 3269 non-null   int64\n",
            " 21  age                       3269 non-null   int64\n",
            " 22  gender                    3269 non-null   int64\n",
            " 23  country                   3269 non-null   int64\n",
            "dtypes: int64(24)\n",
            "memory usage: 613.1 KB\n"
          ]
        }
      ]
    },
    {
      "cell_type": "markdown",
      "source": [
        "### **Multiple Imputation**"
      ],
      "metadata": {
        "id": "iKXk3KMJVJDZ"
      }
    },
    {
      "cell_type": "code",
      "source": [
        "data = pd.read_csv(\"Clean Mental Health.csv\")"
      ],
      "metadata": {
        "id": "v3emOQiKVK-i"
      },
      "execution_count": 394,
      "outputs": []
    },
    {
      "cell_type": "code",
      "source": [
        "# Initialize the MICE imputer\n",
        "mice_imputer = IterativeImputer()\n",
        "\n",
        "# Exclude the 'mental_health_diagnosed' column from imputation\n",
        "columns_to_impute = [col for col in data.columns if col != 'mental_health_diagnosed']\n",
        "\n",
        "# Perform MICE imputation on the selected columns\n",
        "data[columns_to_impute] = mice_imputer.fit_transform(data[columns_to_impute])\n",
        "\n",
        "data.info()"
      ],
      "metadata": {
        "colab": {
          "base_uri": "https://localhost:8080/"
        },
        "id": "LufffsUvV5Da",
        "outputId": "7fedab72-5743-4f28-fd06-e6021b5294a2"
      },
      "execution_count": 395,
      "outputs": [
        {
          "output_type": "stream",
          "name": "stdout",
          "text": [
            "<class 'pandas.core.frame.DataFrame'>\n",
            "RangeIndex: 3269 entries, 0 to 3268\n",
            "Data columns (total 25 columns):\n",
            " #   Column                    Non-Null Count  Dtype  \n",
            "---  ------                    --------------  -----  \n",
            " 0   self_employed             3269 non-null   float64\n",
            " 1   no_employees              3269 non-null   float64\n",
            " 2   tech_company              3269 non-null   float64\n",
            " 3   company_role              3269 non-null   float64\n",
            " 4   benefits                  3269 non-null   float64\n",
            " 5   care_options              3269 non-null   float64\n",
            " 6   wellness_program          3269 non-null   float64\n",
            " 7   seek_help                 3269 non-null   float64\n",
            " 8   anonymity                 3269 non-null   float64\n",
            " 9   leave                     3269 non-null   float64\n",
            " 10  mental_importance         3269 non-null   float64\n",
            " 11  neg_consequence_coworker  3269 non-null   float64\n",
            " 12  discuss_mh                3269 non-null   float64\n",
            " 13  work_interfere            3269 non-null   float64\n",
            " 14  coworkers                 3269 non-null   float64\n",
            " 15  supervisor                3269 non-null   float64\n",
            " 16  mental_health_interview   3269 non-null   float64\n",
            " 17  family_history            3269 non-null   float64\n",
            " 18  past_mental_health        3269 non-null   float64\n",
            " 19  mental_health             3269 non-null   float64\n",
            " 20  mental_health_diagnosed   2189 non-null   float64\n",
            " 21  treatment                 3269 non-null   float64\n",
            " 22  age                       3269 non-null   float64\n",
            " 23  gender                    3269 non-null   float64\n",
            " 24  country                   3269 non-null   float64\n",
            "dtypes: float64(25)\n",
            "memory usage: 638.6 KB\n"
          ]
        }
      ]
    },
    {
      "cell_type": "code",
      "source": [
        "data = data.drop([\"mental_health_diagnosed\"], axis=1)\n",
        "\n",
        "# Convert all columns to int data type\n",
        "for column in data.columns:\n",
        "    data[column] = data[column].astype('int64')\n",
        "\n",
        "\n",
        "mice_imputed = data\n",
        "mice_imputed.info()"
      ],
      "metadata": {
        "colab": {
          "base_uri": "https://localhost:8080/"
        },
        "id": "LJHMxZBFWN0y",
        "outputId": "d84173c2-4ff9-4596-8e68-53c94ab0992f"
      },
      "execution_count": 396,
      "outputs": [
        {
          "output_type": "stream",
          "name": "stdout",
          "text": [
            "<class 'pandas.core.frame.DataFrame'>\n",
            "RangeIndex: 3269 entries, 0 to 3268\n",
            "Data columns (total 24 columns):\n",
            " #   Column                    Non-Null Count  Dtype\n",
            "---  ------                    --------------  -----\n",
            " 0   self_employed             3269 non-null   int64\n",
            " 1   no_employees              3269 non-null   int64\n",
            " 2   tech_company              3269 non-null   int64\n",
            " 3   company_role              3269 non-null   int64\n",
            " 4   benefits                  3269 non-null   int64\n",
            " 5   care_options              3269 non-null   int64\n",
            " 6   wellness_program          3269 non-null   int64\n",
            " 7   seek_help                 3269 non-null   int64\n",
            " 8   anonymity                 3269 non-null   int64\n",
            " 9   leave                     3269 non-null   int64\n",
            " 10  mental_importance         3269 non-null   int64\n",
            " 11  neg_consequence_coworker  3269 non-null   int64\n",
            " 12  discuss_mh                3269 non-null   int64\n",
            " 13  work_interfere            3269 non-null   int64\n",
            " 14  coworkers                 3269 non-null   int64\n",
            " 15  supervisor                3269 non-null   int64\n",
            " 16  mental_health_interview   3269 non-null   int64\n",
            " 17  family_history            3269 non-null   int64\n",
            " 18  past_mental_health        3269 non-null   int64\n",
            " 19  mental_health             3269 non-null   int64\n",
            " 20  treatment                 3269 non-null   int64\n",
            " 21  age                       3269 non-null   int64\n",
            " 22  gender                    3269 non-null   int64\n",
            " 23  country                   3269 non-null   int64\n",
            "dtypes: int64(24)\n",
            "memory usage: 613.1 KB\n"
          ]
        }
      ]
    },
    {
      "cell_type": "markdown",
      "source": [
        "### **Hot Deck Imputation**"
      ],
      "metadata": {
        "id": "iOZmi11DXCyy"
      }
    },
    {
      "cell_type": "code",
      "source": [
        "data = pd.read_csv(\"Clean Mental Health.csv\")"
      ],
      "metadata": {
        "id": "mFiiC0G2XkC6"
      },
      "execution_count": 397,
      "outputs": []
    },
    {
      "cell_type": "code",
      "source": [
        "columns_to_impute = data.columns[data.columns != \"mental_health_diagnosed\"]\n",
        "imputed_data = data.copy()\n",
        "\n",
        "# Iterate through columns to impute missing values with mode\n",
        "for column in columns_to_impute:\n",
        "  vars_to_impute = [column]\n",
        "\n",
        "  for var in vars_to_impute:\n",
        "      # Create a donor pool consisting of cases without missing values for the current variable\n",
        "      donor_pool = imputed_data.dropna(subset=[var])\n",
        "\n",
        "      # Iterate over each case with a missing value for the current variable\n",
        "      for index, row in imputed_data[imputed_data[var].isnull()].iterrows():\n",
        "          # Check if there are any donor cases available\n",
        "          if not donor_pool.empty:\n",
        "              # Find the closest donor case based on a chosen similarity measure\n",
        "              similarity_scores = np.abs(donor_pool[vars_to_impute] - row[vars_to_impute])\n",
        "              closest_donor = donor_pool.iloc[similarity_scores.sum(axis=1).idxmin()]\n",
        "\n",
        "              # Impute the missing value with the value from the closest donor case\n",
        "              imputed_data.at[index, var] = closest_donor[var]\n",
        "          else:\n",
        "              # Handle the case where there are no donor cases available\n",
        "              # You can choose to skip imputation or use another imputation method\n",
        "              imputed_data.at[index, var] = np.nan  # or any other imputation approach\n",
        "\n",
        "data = imputed_data\n",
        "data.info()"
      ],
      "metadata": {
        "colab": {
          "base_uri": "https://localhost:8080/"
        },
        "id": "SdGtyDhcboMq",
        "outputId": "80ebb24c-3758-4622-dc2a-43201543f7ab"
      },
      "execution_count": 398,
      "outputs": [
        {
          "output_type": "stream",
          "name": "stdout",
          "text": [
            "<class 'pandas.core.frame.DataFrame'>\n",
            "RangeIndex: 3269 entries, 0 to 3268\n",
            "Data columns (total 25 columns):\n",
            " #   Column                    Non-Null Count  Dtype  \n",
            "---  ------                    --------------  -----  \n",
            " 0   self_employed             3269 non-null   int64  \n",
            " 1   no_employees              3269 non-null   float64\n",
            " 2   tech_company              3269 non-null   float64\n",
            " 3   company_role              3269 non-null   float64\n",
            " 4   benefits                  3269 non-null   float64\n",
            " 5   care_options              3269 non-null   float64\n",
            " 6   wellness_program          3269 non-null   float64\n",
            " 7   seek_help                 3269 non-null   float64\n",
            " 8   anonymity                 3269 non-null   float64\n",
            " 9   leave                     3269 non-null   float64\n",
            " 10  mental_importance         3269 non-null   float64\n",
            " 11  neg_consequence_coworker  3269 non-null   float64\n",
            " 12  discuss_mh                3269 non-null   float64\n",
            " 13  work_interfere            3269 non-null   float64\n",
            " 14  coworkers                 3269 non-null   float64\n",
            " 15  supervisor                3269 non-null   float64\n",
            " 16  mental_health_interview   3269 non-null   int64  \n",
            " 17  family_history            3269 non-null   int64  \n",
            " 18  past_mental_health        3269 non-null   float64\n",
            " 19  mental_health             3269 non-null   int64  \n",
            " 20  mental_health_diagnosed   2189 non-null   float64\n",
            " 21  treatment                 3269 non-null   int64  \n",
            " 22  age                       3269 non-null   float64\n",
            " 23  gender                    3269 non-null   int64  \n",
            " 24  country                   3269 non-null   int64  \n",
            "dtypes: float64(18), int64(7)\n",
            "memory usage: 638.6 KB\n"
          ]
        }
      ]
    },
    {
      "cell_type": "code",
      "source": [
        "data = data.drop([\"mental_health_diagnosed\"], axis=1)\n",
        "\n",
        "# Convert all columns to int data type\n",
        "for column in data.columns:\n",
        "    data[column] = data[column].astype('int64')\n",
        "\n",
        "\n",
        "hotdeck_imputed = data\n",
        "hotdeck_imputed.info()"
      ],
      "metadata": {
        "colab": {
          "base_uri": "https://localhost:8080/"
        },
        "id": "SBqdwRSbX337",
        "outputId": "a6a0ac37-4e0b-4063-d9d8-ec700d31340f"
      },
      "execution_count": 399,
      "outputs": [
        {
          "output_type": "stream",
          "name": "stdout",
          "text": [
            "<class 'pandas.core.frame.DataFrame'>\n",
            "RangeIndex: 3269 entries, 0 to 3268\n",
            "Data columns (total 24 columns):\n",
            " #   Column                    Non-Null Count  Dtype\n",
            "---  ------                    --------------  -----\n",
            " 0   self_employed             3269 non-null   int64\n",
            " 1   no_employees              3269 non-null   int64\n",
            " 2   tech_company              3269 non-null   int64\n",
            " 3   company_role              3269 non-null   int64\n",
            " 4   benefits                  3269 non-null   int64\n",
            " 5   care_options              3269 non-null   int64\n",
            " 6   wellness_program          3269 non-null   int64\n",
            " 7   seek_help                 3269 non-null   int64\n",
            " 8   anonymity                 3269 non-null   int64\n",
            " 9   leave                     3269 non-null   int64\n",
            " 10  mental_importance         3269 non-null   int64\n",
            " 11  neg_consequence_coworker  3269 non-null   int64\n",
            " 12  discuss_mh                3269 non-null   int64\n",
            " 13  work_interfere            3269 non-null   int64\n",
            " 14  coworkers                 3269 non-null   int64\n",
            " 15  supervisor                3269 non-null   int64\n",
            " 16  mental_health_interview   3269 non-null   int64\n",
            " 17  family_history            3269 non-null   int64\n",
            " 18  past_mental_health        3269 non-null   int64\n",
            " 19  mental_health             3269 non-null   int64\n",
            " 20  treatment                 3269 non-null   int64\n",
            " 21  age                       3269 non-null   int64\n",
            " 22  gender                    3269 non-null   int64\n",
            " 23  country                   3269 non-null   int64\n",
            "dtypes: int64(24)\n",
            "memory usage: 613.1 KB\n"
          ]
        }
      ]
    },
    {
      "cell_type": "markdown",
      "source": [
        "### **K-Nearest Neighbors Imputation**"
      ],
      "metadata": {
        "id": "Cou3lIvQYAI7"
      }
    },
    {
      "cell_type": "code",
      "source": [
        "data = pd.read_csv(\"Clean Mental Health.csv\")"
      ],
      "metadata": {
        "id": "wByl3vUnYG2i"
      },
      "execution_count": 400,
      "outputs": []
    },
    {
      "cell_type": "code",
      "source": [
        "target_column = 'mental_health_diagnosed'\n",
        "y = data[target_column]\n",
        "\n",
        "# Remove the target column from the DataFrame for imputation\n",
        "X = data.drop(columns=[target_column])\n",
        "\n",
        "# Perform KNN imputation\n",
        "imputer = KNNImputer(n_neighbors=5)  # You can adjust the number of neighbors (k) as needed\n",
        "X_imputed = imputer.fit_transform(X)\n",
        "\n",
        "# Convert the imputed array back to a DataFrame\n",
        "X_imputed_df = pd.DataFrame(X_imputed, columns=X.columns)\n",
        "\n",
        "# Combine the imputed data with the target column\n",
        "data_imputed = pd.concat([X_imputed_df, y], axis=1)\n",
        "\n",
        "data = data_imputed\n",
        "data.info()"
      ],
      "metadata": {
        "colab": {
          "base_uri": "https://localhost:8080/"
        },
        "id": "co1GelGXYf0y",
        "outputId": "31e9da1c-66f4-4085-ffbc-bb86f34ec8c4"
      },
      "execution_count": 401,
      "outputs": [
        {
          "output_type": "stream",
          "name": "stdout",
          "text": [
            "<class 'pandas.core.frame.DataFrame'>\n",
            "RangeIndex: 3269 entries, 0 to 3268\n",
            "Data columns (total 25 columns):\n",
            " #   Column                    Non-Null Count  Dtype  \n",
            "---  ------                    --------------  -----  \n",
            " 0   self_employed             3269 non-null   float64\n",
            " 1   no_employees              3269 non-null   float64\n",
            " 2   tech_company              3269 non-null   float64\n",
            " 3   company_role              3269 non-null   float64\n",
            " 4   benefits                  3269 non-null   float64\n",
            " 5   care_options              3269 non-null   float64\n",
            " 6   wellness_program          3269 non-null   float64\n",
            " 7   seek_help                 3269 non-null   float64\n",
            " 8   anonymity                 3269 non-null   float64\n",
            " 9   leave                     3269 non-null   float64\n",
            " 10  mental_importance         3269 non-null   float64\n",
            " 11  neg_consequence_coworker  3269 non-null   float64\n",
            " 12  discuss_mh                3269 non-null   float64\n",
            " 13  work_interfere            3269 non-null   float64\n",
            " 14  coworkers                 3269 non-null   float64\n",
            " 15  supervisor                3269 non-null   float64\n",
            " 16  mental_health_interview   3269 non-null   float64\n",
            " 17  family_history            3269 non-null   float64\n",
            " 18  past_mental_health        3269 non-null   float64\n",
            " 19  mental_health             3269 non-null   float64\n",
            " 20  treatment                 3269 non-null   float64\n",
            " 21  age                       3269 non-null   float64\n",
            " 22  gender                    3269 non-null   float64\n",
            " 23  country                   3269 non-null   float64\n",
            " 24  mental_health_diagnosed   2189 non-null   float64\n",
            "dtypes: float64(25)\n",
            "memory usage: 638.6 KB\n"
          ]
        }
      ]
    },
    {
      "cell_type": "code",
      "source": [
        "data = data.drop([\"mental_health_diagnosed\"], axis=1)\n",
        "\n",
        "# Convert all columns to int data type\n",
        "for column in data.columns:\n",
        "    data[column] = data[column].astype('int64')\n",
        "\n",
        "\n",
        "knn_imputed = data\n",
        "knn_imputed.info()"
      ],
      "metadata": {
        "colab": {
          "base_uri": "https://localhost:8080/"
        },
        "id": "u1tssJ8DYmta",
        "outputId": "dbfceb36-0074-482c-9a4f-dd662ee910df"
      },
      "execution_count": 402,
      "outputs": [
        {
          "output_type": "stream",
          "name": "stdout",
          "text": [
            "<class 'pandas.core.frame.DataFrame'>\n",
            "RangeIndex: 3269 entries, 0 to 3268\n",
            "Data columns (total 24 columns):\n",
            " #   Column                    Non-Null Count  Dtype\n",
            "---  ------                    --------------  -----\n",
            " 0   self_employed             3269 non-null   int64\n",
            " 1   no_employees              3269 non-null   int64\n",
            " 2   tech_company              3269 non-null   int64\n",
            " 3   company_role              3269 non-null   int64\n",
            " 4   benefits                  3269 non-null   int64\n",
            " 5   care_options              3269 non-null   int64\n",
            " 6   wellness_program          3269 non-null   int64\n",
            " 7   seek_help                 3269 non-null   int64\n",
            " 8   anonymity                 3269 non-null   int64\n",
            " 9   leave                     3269 non-null   int64\n",
            " 10  mental_importance         3269 non-null   int64\n",
            " 11  neg_consequence_coworker  3269 non-null   int64\n",
            " 12  discuss_mh                3269 non-null   int64\n",
            " 13  work_interfere            3269 non-null   int64\n",
            " 14  coworkers                 3269 non-null   int64\n",
            " 15  supervisor                3269 non-null   int64\n",
            " 16  mental_health_interview   3269 non-null   int64\n",
            " 17  family_history            3269 non-null   int64\n",
            " 18  past_mental_health        3269 non-null   int64\n",
            " 19  mental_health             3269 non-null   int64\n",
            " 20  treatment                 3269 non-null   int64\n",
            " 21  age                       3269 non-null   int64\n",
            " 22  gender                    3269 non-null   int64\n",
            " 23  country                   3269 non-null   int64\n",
            "dtypes: int64(24)\n",
            "memory usage: 613.1 KB\n"
          ]
        }
      ]
    },
    {
      "cell_type": "markdown",
      "source": [
        "### **Evaluations**"
      ],
      "metadata": {
        "id": "jTAZemyyrmWV"
      }
    },
    {
      "cell_type": "markdown",
      "source": [
        "#### **1. Preservation of relationships**"
      ],
      "metadata": {
        "id": "xuKDLgliHP9t"
      }
    },
    {
      "cell_type": "code",
      "source": [
        "orig_incomplete = orig_incomplete.corr()\n",
        "\n",
        "mode_complete_corr = mode_imputed.corr()\n",
        "mice_complete_corr = mice_imputed.corr()\n",
        "hd_complete_corr = hotdeck_imputed.corr()\n",
        "knn_complete_corr = knn_imputed.corr()\n",
        "\n",
        "mode_complete_corr_diff = np.abs(orig_incomplete - mode_complete_corr)\n",
        "mice_complete_corr_diff = np.abs(orig_incomplete - mice_complete_corr)\n",
        "hd_complete_corr_diff = np.abs(orig_incomplete - hd_complete_corr)\n",
        "knn_complete_corr_diff = np.abs(orig_incomplete - knn_complete_corr)\n",
        "\n",
        "mode_average_diff = mode_complete_corr_diff.mean().mean()\n",
        "mice_average_diff = mice_complete_corr_diff.mean().mean()\n",
        "hd_average_diff = hd_complete_corr_diff.mean().mean()\n",
        "knn_average_diff = knn_complete_corr_diff .mean().mean()\n",
        "\n",
        "print(\"Mode Average difference in correlation matrices:\", mode_average_diff)\n",
        "print(\"Mice Average difference in correlation matrices:\", mice_average_diff)\n",
        "print(\"Hot Deck Average difference in correlation matrices:\", hd_average_diff)\n",
        "print(\"KNN Average difference in correlation matrices:\", knn_average_diff)"
      ],
      "metadata": {
        "colab": {
          "base_uri": "https://localhost:8080/"
        },
        "id": "X4OcYhW7HVs9",
        "outputId": "9eda1c49-971b-46be-f43e-c35dac2a1b75"
      },
      "execution_count": 403,
      "outputs": [
        {
          "output_type": "stream",
          "name": "stdout",
          "text": [
            "Mode Average difference in correlation matrices: 0.03729250758778035\n",
            "Mice Average difference in correlation matrices: 0.039580235292611544\n",
            "Hot Deck Average difference in correlation matrices: 0.05131635614342911\n",
            "KNN Average difference in correlation matrices: 0.025685127671372893\n"
          ]
        }
      ]
    },
    {
      "cell_type": "markdown",
      "source": [
        "#### **2. Mean Absolute Error**"
      ],
      "metadata": {
        "id": "p7kTVXVSHjDx"
      }
    },
    {
      "cell_type": "markdown",
      "source": [
        "- The **Mean Squared Error (MSE)** calculation can be used to assess the quality of imputation methods when the original data has missing values."
      ],
      "metadata": {
        "id": "HjkwrMFoagBD"
      }
    },
    {
      "cell_type": "code",
      "source": [
        "imputation_methods = [\"Mode\", \"MICE\", \"Hot Deck\", \"KNN\"]\n",
        "imputed_datasets = [mode_imputed, mice_imputed, hotdeck_imputed, knn_imputed]\n",
        "\n",
        "for method, imputed_data in zip(imputation_methods, imputed_datasets):\n",
        "    squared_diffs = (imputed_data - incomplete) ** 2\n",
        "\n",
        "    mse = np.nanmean(squared_diffs)\n",
        "\n",
        "    print(f\"{method} Imputation MSE:\", mse)"
      ],
      "metadata": {
        "colab": {
          "base_uri": "https://localhost:8080/"
        },
        "id": "oRu0-eAMd7kR",
        "outputId": "c7c78233-50f7-48a7-e86c-9d8451fd55d8"
      },
      "execution_count": 404,
      "outputs": [
        {
          "output_type": "stream",
          "name": "stdout",
          "text": [
            "Mode Imputation MSE: 1.0226751300091772\n",
            "MICE Imputation MSE: 0.6884750688283879\n",
            "Hot Deck Imputation MSE: 1.2657285612317732\n",
            "KNN Imputation MSE: 0.7068930355868257\n"
          ]
        }
      ]
    },
    {
      "cell_type": "markdown",
      "source": [
        "#### **3. Root Mean Squared Error**"
      ],
      "metadata": {
        "id": "Lz318XiCHzpr"
      }
    },
    {
      "cell_type": "code",
      "source": [
        "# Define a function to calculate RMSE\n",
        "def rmse(y_true, y_pred):\n",
        "    return np.sqrt(mean_squared_error(y_true, y_pred))\n",
        "\n",
        "# Calculate RMSE for each dataset\n",
        "mode_rmse = rmse(incomplete, mode_imputed)\n",
        "multiple_rmse = rmse(incomplete, mice_imputed)\n",
        "hot_deck_rmse = rmse(incomplete, hotdeck_imputed)\n",
        "knn_rmse = rmse(incomplete, knn_imputed)\n",
        "\n",
        "print(\"Mode Imputation RMSE:\", mode_rmse)\n",
        "print(\"Mice Imputation RMSE:\", multiple_rmse)\n",
        "print(\"Hot Deck Imputation RMSE:\", hot_deck_rmse)\n",
        "print(\"KNN Imputation RMSE:\", knn_rmse)"
      ],
      "metadata": {
        "colab": {
          "base_uri": "https://localhost:8080/"
        },
        "id": "NiL1mWAfHyr6",
        "outputId": "38bcdb26-2f5f-402b-fe91-a0e53d312b5e"
      },
      "execution_count": 405,
      "outputs": [
        {
          "output_type": "stream",
          "name": "stdout",
          "text": [
            "Mode Imputation RMSE: 1.0112740133164588\n",
            "Mice Imputation RMSE: 0.8297439778801579\n",
            "Hot Deck Imputation RMSE: 1.1250460262726025\n",
            "KNN Imputation RMSE: 0.840769311753721\n"
          ]
        }
      ]
    }
  ]
}