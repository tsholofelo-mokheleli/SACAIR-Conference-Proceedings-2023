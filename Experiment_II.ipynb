{
  "nbformat": 4,
  "nbformat_minor": 0,
  "metadata": {
    "colab": {
      "provenance": [],
      "authorship_tag": "ABX9TyMxk9EDUo6SN23pScB4EWh2",
      "include_colab_link": true
    },
    "kernelspec": {
      "name": "python3",
      "display_name": "Python 3"
    },
    "language_info": {
      "name": "python"
    }
  },
  "cells": [
    {
      "cell_type": "markdown",
      "metadata": {
        "id": "view-in-github",
        "colab_type": "text"
      },
      "source": [
        "<a href=\"https://colab.research.google.com/github/tsholofelo-mokheleli/SACAIR-Conference-Proceedings-2023/blob/main/Experiment_II.ipynb\" target=\"_parent\"><img src=\"https://colab.research.google.com/assets/colab-badge.svg\" alt=\"Open In Colab\"/></a>"
      ]
    },
    {
      "cell_type": "code",
      "execution_count": 12,
      "metadata": {
        "id": "rmjMaUkvEjBz"
      },
      "outputs": [],
      "source": [
        "# Load the libraries\n",
        "import pandas  as pd\n",
        "import numpy as np\n",
        "import seaborn as sns\n",
        "import matplotlib.pyplot as plt\n",
        "\n",
        "# Warning filter\n",
        "import warnings\n",
        "warnings.filterwarnings('ignore')\n",
        "cmap=sns.color_palette('Blues_r')\n",
        "\n",
        "from sklearn.metrics import mean_absolute_error\n",
        "from sklearn.metrics import mean_squared_error\n",
        "from sklearn.model_selection import KFold\n",
        "\n",
        "# Imputation\n",
        "from sklearn.experimental import enable_iterative_imputer  # noqa\n",
        "from sklearn.impute import IterativeImputer\n",
        "from sklearn.neighbors import NearestNeighbors\n",
        "from sklearn.impute import KNNImputer\n",
        "\n",
        "# Plot Theme\n",
        "sns.set_style(\"darkgrid\")\n",
        "plt.style.use(\"seaborn-deep\")"
      ]
    },
    {
      "cell_type": "markdown",
      "source": [
        "### **Load Data**"
      ],
      "metadata": {
        "id": "ozUM1jrxFjmk"
      }
    },
    {
      "cell_type": "code",
      "source": [
        "data = pd.read_csv(\"Clean Mental Health.csv\")"
      ],
      "metadata": {
        "id": "um2eny9XFnvz"
      },
      "execution_count": 13,
      "outputs": []
    },
    {
      "cell_type": "code",
      "source": [
        "data.info()"
      ],
      "metadata": {
        "colab": {
          "base_uri": "https://localhost:8080/"
        },
        "id": "ovp1Xfr7J8fc",
        "outputId": "b706c4dd-2c26-460e-909e-e8360a9f7d33"
      },
      "execution_count": 14,
      "outputs": [
        {
          "output_type": "stream",
          "name": "stdout",
          "text": [
            "<class 'pandas.core.frame.DataFrame'>\n",
            "RangeIndex: 3269 entries, 0 to 3268\n",
            "Data columns (total 25 columns):\n",
            " #   Column                    Non-Null Count  Dtype  \n",
            "---  ------                    --------------  -----  \n",
            " 0   self_employed             3269 non-null   int64  \n",
            " 1   no_employees              2723 non-null   float64\n",
            " 2   tech_company              2723 non-null   float64\n",
            " 3   company_role              1840 non-null   float64\n",
            " 4   benefits                  2723 non-null   float64\n",
            " 5   care_options              2427 non-null   float64\n",
            " 6   wellness_program          2723 non-null   float64\n",
            " 7   seek_help                 2723 non-null   float64\n",
            " 8   anonymity                 2723 non-null   float64\n",
            " 9   leave                     2723 non-null   float64\n",
            " 10  mental_importance         2723 non-null   float64\n",
            " 11  neg_consequence_coworker  2980 non-null   float64\n",
            " 12  discuss_mh                1859 non-null   float64\n",
            " 13  work_interfere            546 non-null    float64\n",
            " 14  coworkers                 2841 non-null   float64\n",
            " 15  supervisor                2841 non-null   float64\n",
            " 16  mental_health_interview   3269 non-null   int64  \n",
            " 17  family_history            3269 non-null   int64  \n",
            " 18  past_mental_health        3246 non-null   float64\n",
            " 19  mental_health             3269 non-null   int64  \n",
            " 20  mental_health_diagnosed   2189 non-null   float64\n",
            " 21  treatment                 3269 non-null   int64  \n",
            " 22  age                       3259 non-null   float64\n",
            " 23  gender                    3269 non-null   int64  \n",
            " 24  country                   3269 non-null   int64  \n",
            "dtypes: float64(18), int64(7)\n",
            "memory usage: 638.6 KB\n"
          ]
        }
      ]
    },
    {
      "cell_type": "markdown",
      "source": [
        "### **Initial Data Imputation**"
      ],
      "metadata": {
        "id": "cl9FnprVSg1K"
      }
    },
    {
      "cell_type": "code",
      "source": [
        "columns_to_impute = data.columns[data.columns != \"mental_health_diagnosed\"]\n",
        "\n",
        "# Impute NaN values with -1 in the selected columns\n",
        "data[columns_to_impute] = data[columns_to_impute].fillna(-1)"
      ],
      "metadata": {
        "id": "Y2S9tTsyMqbq"
      },
      "execution_count": 15,
      "outputs": []
    },
    {
      "cell_type": "code",
      "source": [
        "data.info()"
      ],
      "metadata": {
        "colab": {
          "base_uri": "https://localhost:8080/"
        },
        "id": "Q7D4xnrmLDb6",
        "outputId": "f9e7fa73-0900-4a6f-959d-ad846e69c4a1"
      },
      "execution_count": 16,
      "outputs": [
        {
          "output_type": "stream",
          "name": "stdout",
          "text": [
            "<class 'pandas.core.frame.DataFrame'>\n",
            "RangeIndex: 3269 entries, 0 to 3268\n",
            "Data columns (total 25 columns):\n",
            " #   Column                    Non-Null Count  Dtype  \n",
            "---  ------                    --------------  -----  \n",
            " 0   self_employed             3269 non-null   int64  \n",
            " 1   no_employees              3269 non-null   float64\n",
            " 2   tech_company              3269 non-null   float64\n",
            " 3   company_role              3269 non-null   float64\n",
            " 4   benefits                  3269 non-null   float64\n",
            " 5   care_options              3269 non-null   float64\n",
            " 6   wellness_program          3269 non-null   float64\n",
            " 7   seek_help                 3269 non-null   float64\n",
            " 8   anonymity                 3269 non-null   float64\n",
            " 9   leave                     3269 non-null   float64\n",
            " 10  mental_importance         3269 non-null   float64\n",
            " 11  neg_consequence_coworker  3269 non-null   float64\n",
            " 12  discuss_mh                3269 non-null   float64\n",
            " 13  work_interfere            3269 non-null   float64\n",
            " 14  coworkers                 3269 non-null   float64\n",
            " 15  supervisor                3269 non-null   float64\n",
            " 16  mental_health_interview   3269 non-null   int64  \n",
            " 17  family_history            3269 non-null   int64  \n",
            " 18  past_mental_health        3269 non-null   float64\n",
            " 19  mental_health             3269 non-null   int64  \n",
            " 20  mental_health_diagnosed   2189 non-null   float64\n",
            " 21  treatment                 3269 non-null   int64  \n",
            " 22  age                       3269 non-null   float64\n",
            " 23  gender                    3269 non-null   int64  \n",
            " 24  country                   3269 non-null   int64  \n",
            "dtypes: float64(18), int64(7)\n",
            "memory usage: 638.6 KB\n"
          ]
        }
      ]
    },
    {
      "cell_type": "code",
      "source": [
        "#Get the numbers of missing values in each column\n",
        "missing = data.isnull().sum()\n",
        "\n",
        "#Get the percentage of missing values in each column\n",
        "missing_pct = round(data.isnull().sum()/len(data) * 100, 1)\n",
        "\n",
        "data_missing = pd.concat([missing, missing_pct], axis=1)\n",
        "data_missing.columns = [\"Num\", \"%\"]\n",
        "print(data_missing)"
      ],
      "metadata": {
        "colab": {
          "base_uri": "https://localhost:8080/"
        },
        "id": "TqBIY9MITdRa",
        "outputId": "cad0a481-0ffa-467c-a020-edbef9043716"
      },
      "execution_count": 17,
      "outputs": [
        {
          "output_type": "stream",
          "name": "stdout",
          "text": [
            "                           Num     %\n",
            "self_employed                0   0.0\n",
            "no_employees                 0   0.0\n",
            "tech_company                 0   0.0\n",
            "company_role                 0   0.0\n",
            "benefits                     0   0.0\n",
            "care_options                 0   0.0\n",
            "wellness_program             0   0.0\n",
            "seek_help                    0   0.0\n",
            "anonymity                    0   0.0\n",
            "leave                        0   0.0\n",
            "mental_importance            0   0.0\n",
            "neg_consequence_coworker     0   0.0\n",
            "discuss_mh                   0   0.0\n",
            "work_interfere               0   0.0\n",
            "coworkers                    0   0.0\n",
            "supervisor                   0   0.0\n",
            "mental_health_interview      0   0.0\n",
            "family_history               0   0.0\n",
            "past_mental_health           0   0.0\n",
            "mental_health                0   0.0\n",
            "mental_health_diagnosed   1080  33.0\n",
            "treatment                    0   0.0\n",
            "age                          0   0.0\n",
            "gender                       0   0.0\n",
            "country                      0   0.0\n"
          ]
        }
      ]
    },
    {
      "cell_type": "code",
      "source": [
        "data = data.drop([\"mental_health_diagnosed\"], axis=1)\n",
        "\n",
        "# Convert all columns to int data type\n",
        "for column in data.columns:\n",
        "    data[column] = data[column].astype('int64')\n",
        "\n",
        "\n",
        "incomplete = data\n",
        "incomplete.info()"
      ],
      "metadata": {
        "colab": {
          "base_uri": "https://localhost:8080/"
        },
        "id": "2lebSAByPwqq",
        "outputId": "8452f58d-5e34-4cad-ecaa-cb678588f3c0"
      },
      "execution_count": 18,
      "outputs": [
        {
          "output_type": "stream",
          "name": "stdout",
          "text": [
            "<class 'pandas.core.frame.DataFrame'>\n",
            "RangeIndex: 3269 entries, 0 to 3268\n",
            "Data columns (total 24 columns):\n",
            " #   Column                    Non-Null Count  Dtype\n",
            "---  ------                    --------------  -----\n",
            " 0   self_employed             3269 non-null   int64\n",
            " 1   no_employees              3269 non-null   int64\n",
            " 2   tech_company              3269 non-null   int64\n",
            " 3   company_role              3269 non-null   int64\n",
            " 4   benefits                  3269 non-null   int64\n",
            " 5   care_options              3269 non-null   int64\n",
            " 6   wellness_program          3269 non-null   int64\n",
            " 7   seek_help                 3269 non-null   int64\n",
            " 8   anonymity                 3269 non-null   int64\n",
            " 9   leave                     3269 non-null   int64\n",
            " 10  mental_importance         3269 non-null   int64\n",
            " 11  neg_consequence_coworker  3269 non-null   int64\n",
            " 12  discuss_mh                3269 non-null   int64\n",
            " 13  work_interfere            3269 non-null   int64\n",
            " 14  coworkers                 3269 non-null   int64\n",
            " 15  supervisor                3269 non-null   int64\n",
            " 16  mental_health_interview   3269 non-null   int64\n",
            " 17  family_history            3269 non-null   int64\n",
            " 18  past_mental_health        3269 non-null   int64\n",
            " 19  mental_health             3269 non-null   int64\n",
            " 20  treatment                 3269 non-null   int64\n",
            " 21  age                       3269 non-null   int64\n",
            " 22  gender                    3269 non-null   int64\n",
            " 23  country                   3269 non-null   int64\n",
            "dtypes: int64(24)\n",
            "memory usage: 613.1 KB\n"
          ]
        }
      ]
    },
    {
      "cell_type": "markdown",
      "source": [
        "### **Mode Imputation**"
      ],
      "metadata": {
        "id": "HriHMSzfS8ny"
      }
    },
    {
      "cell_type": "code",
      "source": [
        "data = pd.read_csv(\"Clean Mental Health.csv\")"
      ],
      "metadata": {
        "id": "qNLB8Ul6TFKa"
      },
      "execution_count": 19,
      "outputs": []
    },
    {
      "cell_type": "code",
      "source": [
        "columns_to_impute = data.columns[data.columns != \"mental_health_diagnosed\"]\n",
        "\n",
        "# Iterate through columns to impute missing values with mode\n",
        "for column in columns_to_impute:\n",
        "    mode_value = data[column].mode()[0]\n",
        "    data[column].fillna(mode_value, inplace=True)\n",
        "\n",
        "data.info()"
      ],
      "metadata": {
        "colab": {
          "base_uri": "https://localhost:8080/"
        },
        "id": "kkxn62kzTTMU",
        "outputId": "7b4bbec7-accd-402f-f9b1-821250d82a3d"
      },
      "execution_count": 20,
      "outputs": [
        {
          "output_type": "stream",
          "name": "stdout",
          "text": [
            "<class 'pandas.core.frame.DataFrame'>\n",
            "RangeIndex: 3269 entries, 0 to 3268\n",
            "Data columns (total 25 columns):\n",
            " #   Column                    Non-Null Count  Dtype  \n",
            "---  ------                    --------------  -----  \n",
            " 0   self_employed             3269 non-null   int64  \n",
            " 1   no_employees              3269 non-null   float64\n",
            " 2   tech_company              3269 non-null   float64\n",
            " 3   company_role              3269 non-null   float64\n",
            " 4   benefits                  3269 non-null   float64\n",
            " 5   care_options              3269 non-null   float64\n",
            " 6   wellness_program          3269 non-null   float64\n",
            " 7   seek_help                 3269 non-null   float64\n",
            " 8   anonymity                 3269 non-null   float64\n",
            " 9   leave                     3269 non-null   float64\n",
            " 10  mental_importance         3269 non-null   float64\n",
            " 11  neg_consequence_coworker  3269 non-null   float64\n",
            " 12  discuss_mh                3269 non-null   float64\n",
            " 13  work_interfere            3269 non-null   float64\n",
            " 14  coworkers                 3269 non-null   float64\n",
            " 15  supervisor                3269 non-null   float64\n",
            " 16  mental_health_interview   3269 non-null   int64  \n",
            " 17  family_history            3269 non-null   int64  \n",
            " 18  past_mental_health        3269 non-null   float64\n",
            " 19  mental_health             3269 non-null   int64  \n",
            " 20  mental_health_diagnosed   2189 non-null   float64\n",
            " 21  treatment                 3269 non-null   int64  \n",
            " 22  age                       3269 non-null   float64\n",
            " 23  gender                    3269 non-null   int64  \n",
            " 24  country                   3269 non-null   int64  \n",
            "dtypes: float64(18), int64(7)\n",
            "memory usage: 638.6 KB\n"
          ]
        }
      ]
    },
    {
      "cell_type": "code",
      "source": [
        "data = data.drop([\"mental_health_diagnosed\"], axis=1)\n",
        "\n",
        "# Convert all columns to int data type\n",
        "for column in data.columns:\n",
        "    data[column] = data[column].astype('int64')\n",
        "\n",
        "\n",
        "mode_imputed = data\n",
        "mode_imputed.info()"
      ],
      "metadata": {
        "colab": {
          "base_uri": "https://localhost:8080/"
        },
        "id": "Ppf7qJwUT22i",
        "outputId": "bfa0eed9-397a-4b0b-a174-a4903ba2b527"
      },
      "execution_count": 21,
      "outputs": [
        {
          "output_type": "stream",
          "name": "stdout",
          "text": [
            "<class 'pandas.core.frame.DataFrame'>\n",
            "RangeIndex: 3269 entries, 0 to 3268\n",
            "Data columns (total 24 columns):\n",
            " #   Column                    Non-Null Count  Dtype\n",
            "---  ------                    --------------  -----\n",
            " 0   self_employed             3269 non-null   int64\n",
            " 1   no_employees              3269 non-null   int64\n",
            " 2   tech_company              3269 non-null   int64\n",
            " 3   company_role              3269 non-null   int64\n",
            " 4   benefits                  3269 non-null   int64\n",
            " 5   care_options              3269 non-null   int64\n",
            " 6   wellness_program          3269 non-null   int64\n",
            " 7   seek_help                 3269 non-null   int64\n",
            " 8   anonymity                 3269 non-null   int64\n",
            " 9   leave                     3269 non-null   int64\n",
            " 10  mental_importance         3269 non-null   int64\n",
            " 11  neg_consequence_coworker  3269 non-null   int64\n",
            " 12  discuss_mh                3269 non-null   int64\n",
            " 13  work_interfere            3269 non-null   int64\n",
            " 14  coworkers                 3269 non-null   int64\n",
            " 15  supervisor                3269 non-null   int64\n",
            " 16  mental_health_interview   3269 non-null   int64\n",
            " 17  family_history            3269 non-null   int64\n",
            " 18  past_mental_health        3269 non-null   int64\n",
            " 19  mental_health             3269 non-null   int64\n",
            " 20  treatment                 3269 non-null   int64\n",
            " 21  age                       3269 non-null   int64\n",
            " 22  gender                    3269 non-null   int64\n",
            " 23  country                   3269 non-null   int64\n",
            "dtypes: int64(24)\n",
            "memory usage: 613.1 KB\n"
          ]
        }
      ]
    },
    {
      "cell_type": "markdown",
      "source": [
        "### **Multiple Imputation by Chained Equations (MICE)**"
      ],
      "metadata": {
        "id": "iKXk3KMJVJDZ"
      }
    },
    {
      "cell_type": "code",
      "source": [
        "data = pd.read_csv(\"Clean Mental Health.csv\")"
      ],
      "metadata": {
        "id": "v3emOQiKVK-i"
      },
      "execution_count": 22,
      "outputs": []
    },
    {
      "cell_type": "code",
      "source": [
        "# Initialize the MICE imputer\n",
        "mice_imputer = IterativeImputer()\n",
        "\n",
        "# Exclude the 'mental_health_diagnosed' column from imputation\n",
        "columns_to_impute = [col for col in data.columns if col != 'mental_health_diagnosed']\n",
        "\n",
        "# Perform MICE imputation on the selected columns\n",
        "data[columns_to_impute] = mice_imputer.fit_transform(data[columns_to_impute])\n",
        "\n",
        "data.info()"
      ],
      "metadata": {
        "colab": {
          "base_uri": "https://localhost:8080/"
        },
        "id": "LufffsUvV5Da",
        "outputId": "408ca1f9-4b91-4886-d77e-6fbd45e6ff02"
      },
      "execution_count": 23,
      "outputs": [
        {
          "output_type": "stream",
          "name": "stdout",
          "text": [
            "<class 'pandas.core.frame.DataFrame'>\n",
            "RangeIndex: 3269 entries, 0 to 3268\n",
            "Data columns (total 25 columns):\n",
            " #   Column                    Non-Null Count  Dtype  \n",
            "---  ------                    --------------  -----  \n",
            " 0   self_employed             3269 non-null   float64\n",
            " 1   no_employees              3269 non-null   float64\n",
            " 2   tech_company              3269 non-null   float64\n",
            " 3   company_role              3269 non-null   float64\n",
            " 4   benefits                  3269 non-null   float64\n",
            " 5   care_options              3269 non-null   float64\n",
            " 6   wellness_program          3269 non-null   float64\n",
            " 7   seek_help                 3269 non-null   float64\n",
            " 8   anonymity                 3269 non-null   float64\n",
            " 9   leave                     3269 non-null   float64\n",
            " 10  mental_importance         3269 non-null   float64\n",
            " 11  neg_consequence_coworker  3269 non-null   float64\n",
            " 12  discuss_mh                3269 non-null   float64\n",
            " 13  work_interfere            3269 non-null   float64\n",
            " 14  coworkers                 3269 non-null   float64\n",
            " 15  supervisor                3269 non-null   float64\n",
            " 16  mental_health_interview   3269 non-null   float64\n",
            " 17  family_history            3269 non-null   float64\n",
            " 18  past_mental_health        3269 non-null   float64\n",
            " 19  mental_health             3269 non-null   float64\n",
            " 20  mental_health_diagnosed   2189 non-null   float64\n",
            " 21  treatment                 3269 non-null   float64\n",
            " 22  age                       3269 non-null   float64\n",
            " 23  gender                    3269 non-null   float64\n",
            " 24  country                   3269 non-null   float64\n",
            "dtypes: float64(25)\n",
            "memory usage: 638.6 KB\n"
          ]
        }
      ]
    },
    {
      "cell_type": "code",
      "source": [
        "data = data.drop([\"mental_health_diagnosed\"], axis=1)\n",
        "\n",
        "# Convert all columns to int data type\n",
        "for column in data.columns:\n",
        "    data[column] = data[column].astype('int64')\n",
        "\n",
        "\n",
        "mice_imputed = data\n",
        "mice_imputed.info()"
      ],
      "metadata": {
        "colab": {
          "base_uri": "https://localhost:8080/"
        },
        "id": "LJHMxZBFWN0y",
        "outputId": "8464eb70-e27a-475e-d6d3-a9938240007b"
      },
      "execution_count": 24,
      "outputs": [
        {
          "output_type": "stream",
          "name": "stdout",
          "text": [
            "<class 'pandas.core.frame.DataFrame'>\n",
            "RangeIndex: 3269 entries, 0 to 3268\n",
            "Data columns (total 24 columns):\n",
            " #   Column                    Non-Null Count  Dtype\n",
            "---  ------                    --------------  -----\n",
            " 0   self_employed             3269 non-null   int64\n",
            " 1   no_employees              3269 non-null   int64\n",
            " 2   tech_company              3269 non-null   int64\n",
            " 3   company_role              3269 non-null   int64\n",
            " 4   benefits                  3269 non-null   int64\n",
            " 5   care_options              3269 non-null   int64\n",
            " 6   wellness_program          3269 non-null   int64\n",
            " 7   seek_help                 3269 non-null   int64\n",
            " 8   anonymity                 3269 non-null   int64\n",
            " 9   leave                     3269 non-null   int64\n",
            " 10  mental_importance         3269 non-null   int64\n",
            " 11  neg_consequence_coworker  3269 non-null   int64\n",
            " 12  discuss_mh                3269 non-null   int64\n",
            " 13  work_interfere            3269 non-null   int64\n",
            " 14  coworkers                 3269 non-null   int64\n",
            " 15  supervisor                3269 non-null   int64\n",
            " 16  mental_health_interview   3269 non-null   int64\n",
            " 17  family_history            3269 non-null   int64\n",
            " 18  past_mental_health        3269 non-null   int64\n",
            " 19  mental_health             3269 non-null   int64\n",
            " 20  treatment                 3269 non-null   int64\n",
            " 21  age                       3269 non-null   int64\n",
            " 22  gender                    3269 non-null   int64\n",
            " 23  country                   3269 non-null   int64\n",
            "dtypes: int64(24)\n",
            "memory usage: 613.1 KB\n"
          ]
        }
      ]
    },
    {
      "cell_type": "markdown",
      "source": [
        "### **Hot Deck Imputation**"
      ],
      "metadata": {
        "id": "iOZmi11DXCyy"
      }
    },
    {
      "cell_type": "code",
      "source": [
        "data = pd.read_csv(\"Clean Mental Health.csv\")"
      ],
      "metadata": {
        "id": "mFiiC0G2XkC6"
      },
      "execution_count": 25,
      "outputs": []
    },
    {
      "cell_type": "code",
      "source": [
        "columns_to_impute = data.columns[data.columns != \"mental_health_diagnosed\"]\n",
        "imputed_data = data.copy()\n",
        "\n",
        "# Iterate through columns to impute missing values with mode\n",
        "for column in columns_to_impute:\n",
        "  vars_to_impute = [column]\n",
        "\n",
        "  for var in vars_to_impute:\n",
        "      # Create a donor pool consisting of cases without missing values for the current variable\n",
        "      donor_pool = imputed_data.dropna(subset=[var])\n",
        "\n",
        "      # Iterate over each case with a missing value for the current variable\n",
        "      for index, row in imputed_data[imputed_data[var].isnull()].iterrows():\n",
        "          # Check if there are any donor cases available\n",
        "          if not donor_pool.empty:\n",
        "              # Find the closest donor case based on a chosen similarity measure\n",
        "              similarity_scores = np.abs(donor_pool[vars_to_impute] - row[vars_to_impute])\n",
        "              closest_donor = donor_pool.iloc[similarity_scores.sum(axis=1).idxmin()]\n",
        "\n",
        "              # Impute the missing value with the value from the closest donor case\n",
        "              imputed_data.at[index, var] = closest_donor[var]\n",
        "          else:\n",
        "              # Handle the case where there are no donor cases available\n",
        "              # You can choose to skip imputation or use another imputation method\n",
        "              imputed_data.at[index, var] = np.nan  # or any other imputation approach\n",
        "\n",
        "data = imputed_data\n",
        "data.info()"
      ],
      "metadata": {
        "colab": {
          "base_uri": "https://localhost:8080/"
        },
        "id": "SdGtyDhcboMq",
        "outputId": "de420fa8-4687-430a-ba0a-ab96f9fc7f77"
      },
      "execution_count": 26,
      "outputs": [
        {
          "output_type": "stream",
          "name": "stdout",
          "text": [
            "<class 'pandas.core.frame.DataFrame'>\n",
            "RangeIndex: 3269 entries, 0 to 3268\n",
            "Data columns (total 25 columns):\n",
            " #   Column                    Non-Null Count  Dtype  \n",
            "---  ------                    --------------  -----  \n",
            " 0   self_employed             3269 non-null   int64  \n",
            " 1   no_employees              3269 non-null   float64\n",
            " 2   tech_company              3269 non-null   float64\n",
            " 3   company_role              3269 non-null   float64\n",
            " 4   benefits                  3269 non-null   float64\n",
            " 5   care_options              3269 non-null   float64\n",
            " 6   wellness_program          3269 non-null   float64\n",
            " 7   seek_help                 3269 non-null   float64\n",
            " 8   anonymity                 3269 non-null   float64\n",
            " 9   leave                     3269 non-null   float64\n",
            " 10  mental_importance         3269 non-null   float64\n",
            " 11  neg_consequence_coworker  3269 non-null   float64\n",
            " 12  discuss_mh                3269 non-null   float64\n",
            " 13  work_interfere            3269 non-null   float64\n",
            " 14  coworkers                 3269 non-null   float64\n",
            " 15  supervisor                3269 non-null   float64\n",
            " 16  mental_health_interview   3269 non-null   int64  \n",
            " 17  family_history            3269 non-null   int64  \n",
            " 18  past_mental_health        3269 non-null   float64\n",
            " 19  mental_health             3269 non-null   int64  \n",
            " 20  mental_health_diagnosed   2189 non-null   float64\n",
            " 21  treatment                 3269 non-null   int64  \n",
            " 22  age                       3269 non-null   float64\n",
            " 23  gender                    3269 non-null   int64  \n",
            " 24  country                   3269 non-null   int64  \n",
            "dtypes: float64(18), int64(7)\n",
            "memory usage: 638.6 KB\n"
          ]
        }
      ]
    },
    {
      "cell_type": "code",
      "source": [
        "data = data.drop([\"mental_health_diagnosed\"], axis=1)\n",
        "\n",
        "# Convert all columns to int data type\n",
        "for column in data.columns:\n",
        "    data[column] = data[column].astype('int64')\n",
        "\n",
        "\n",
        "hotdeck_imputed = data\n",
        "hotdeck_imputed.info()"
      ],
      "metadata": {
        "colab": {
          "base_uri": "https://localhost:8080/"
        },
        "id": "SBqdwRSbX337",
        "outputId": "24ead718-e6fc-4463-8983-8fa6e0c82242"
      },
      "execution_count": 27,
      "outputs": [
        {
          "output_type": "stream",
          "name": "stdout",
          "text": [
            "<class 'pandas.core.frame.DataFrame'>\n",
            "RangeIndex: 3269 entries, 0 to 3268\n",
            "Data columns (total 24 columns):\n",
            " #   Column                    Non-Null Count  Dtype\n",
            "---  ------                    --------------  -----\n",
            " 0   self_employed             3269 non-null   int64\n",
            " 1   no_employees              3269 non-null   int64\n",
            " 2   tech_company              3269 non-null   int64\n",
            " 3   company_role              3269 non-null   int64\n",
            " 4   benefits                  3269 non-null   int64\n",
            " 5   care_options              3269 non-null   int64\n",
            " 6   wellness_program          3269 non-null   int64\n",
            " 7   seek_help                 3269 non-null   int64\n",
            " 8   anonymity                 3269 non-null   int64\n",
            " 9   leave                     3269 non-null   int64\n",
            " 10  mental_importance         3269 non-null   int64\n",
            " 11  neg_consequence_coworker  3269 non-null   int64\n",
            " 12  discuss_mh                3269 non-null   int64\n",
            " 13  work_interfere            3269 non-null   int64\n",
            " 14  coworkers                 3269 non-null   int64\n",
            " 15  supervisor                3269 non-null   int64\n",
            " 16  mental_health_interview   3269 non-null   int64\n",
            " 17  family_history            3269 non-null   int64\n",
            " 18  past_mental_health        3269 non-null   int64\n",
            " 19  mental_health             3269 non-null   int64\n",
            " 20  treatment                 3269 non-null   int64\n",
            " 21  age                       3269 non-null   int64\n",
            " 22  gender                    3269 non-null   int64\n",
            " 23  country                   3269 non-null   int64\n",
            "dtypes: int64(24)\n",
            "memory usage: 613.1 KB\n"
          ]
        }
      ]
    },
    {
      "cell_type": "markdown",
      "source": [
        "### **K-Nearest Neighbors Imputation**"
      ],
      "metadata": {
        "id": "Cou3lIvQYAI7"
      }
    },
    {
      "cell_type": "code",
      "source": [
        "data = pd.read_csv(\"Clean Mental Health.csv\")"
      ],
      "metadata": {
        "id": "wByl3vUnYG2i"
      },
      "execution_count": 28,
      "outputs": []
    },
    {
      "cell_type": "code",
      "source": [
        "target_column = 'mental_health_diagnosed'\n",
        "y = data[target_column]\n",
        "\n",
        "# Remove the target column from the DataFrame for imputation\n",
        "X = data.drop(columns=[target_column])\n",
        "\n",
        "# Perform KNN imputation\n",
        "imputer = KNNImputer(n_neighbors=5)  # You can adjust the number of neighbors (k) as needed\n",
        "X_imputed = imputer.fit_transform(X)\n",
        "\n",
        "# Convert the imputed array back to a DataFrame\n",
        "X_imputed_df = pd.DataFrame(X_imputed, columns=X.columns)\n",
        "\n",
        "# Combine the imputed data with the target column\n",
        "data_imputed = pd.concat([X_imputed_df, y], axis=1)\n",
        "\n",
        "data = data_imputed\n",
        "data.info()"
      ],
      "metadata": {
        "colab": {
          "base_uri": "https://localhost:8080/"
        },
        "id": "co1GelGXYf0y",
        "outputId": "0350a0e7-b66e-404f-d5b9-ffb0ba48d4f3"
      },
      "execution_count": 29,
      "outputs": [
        {
          "output_type": "stream",
          "name": "stdout",
          "text": [
            "<class 'pandas.core.frame.DataFrame'>\n",
            "RangeIndex: 3269 entries, 0 to 3268\n",
            "Data columns (total 25 columns):\n",
            " #   Column                    Non-Null Count  Dtype  \n",
            "---  ------                    --------------  -----  \n",
            " 0   self_employed             3269 non-null   float64\n",
            " 1   no_employees              3269 non-null   float64\n",
            " 2   tech_company              3269 non-null   float64\n",
            " 3   company_role              3269 non-null   float64\n",
            " 4   benefits                  3269 non-null   float64\n",
            " 5   care_options              3269 non-null   float64\n",
            " 6   wellness_program          3269 non-null   float64\n",
            " 7   seek_help                 3269 non-null   float64\n",
            " 8   anonymity                 3269 non-null   float64\n",
            " 9   leave                     3269 non-null   float64\n",
            " 10  mental_importance         3269 non-null   float64\n",
            " 11  neg_consequence_coworker  3269 non-null   float64\n",
            " 12  discuss_mh                3269 non-null   float64\n",
            " 13  work_interfere            3269 non-null   float64\n",
            " 14  coworkers                 3269 non-null   float64\n",
            " 15  supervisor                3269 non-null   float64\n",
            " 16  mental_health_interview   3269 non-null   float64\n",
            " 17  family_history            3269 non-null   float64\n",
            " 18  past_mental_health        3269 non-null   float64\n",
            " 19  mental_health             3269 non-null   float64\n",
            " 20  treatment                 3269 non-null   float64\n",
            " 21  age                       3269 non-null   float64\n",
            " 22  gender                    3269 non-null   float64\n",
            " 23  country                   3269 non-null   float64\n",
            " 24  mental_health_diagnosed   2189 non-null   float64\n",
            "dtypes: float64(25)\n",
            "memory usage: 638.6 KB\n"
          ]
        }
      ]
    },
    {
      "cell_type": "code",
      "source": [
        "data = data.drop([\"mental_health_diagnosed\"], axis=1)\n",
        "\n",
        "# Convert all columns to int data type\n",
        "for column in data.columns:\n",
        "    data[column] = data[column].astype('int64')\n",
        "\n",
        "\n",
        "knn_imputed = data\n",
        "knn_imputed.info()"
      ],
      "metadata": {
        "colab": {
          "base_uri": "https://localhost:8080/"
        },
        "id": "u1tssJ8DYmta",
        "outputId": "3e5dc03c-6d54-4dea-d1ad-10e7a67bcada"
      },
      "execution_count": 30,
      "outputs": [
        {
          "output_type": "stream",
          "name": "stdout",
          "text": [
            "<class 'pandas.core.frame.DataFrame'>\n",
            "RangeIndex: 3269 entries, 0 to 3268\n",
            "Data columns (total 24 columns):\n",
            " #   Column                    Non-Null Count  Dtype\n",
            "---  ------                    --------------  -----\n",
            " 0   self_employed             3269 non-null   int64\n",
            " 1   no_employees              3269 non-null   int64\n",
            " 2   tech_company              3269 non-null   int64\n",
            " 3   company_role              3269 non-null   int64\n",
            " 4   benefits                  3269 non-null   int64\n",
            " 5   care_options              3269 non-null   int64\n",
            " 6   wellness_program          3269 non-null   int64\n",
            " 7   seek_help                 3269 non-null   int64\n",
            " 8   anonymity                 3269 non-null   int64\n",
            " 9   leave                     3269 non-null   int64\n",
            " 10  mental_importance         3269 non-null   int64\n",
            " 11  neg_consequence_coworker  3269 non-null   int64\n",
            " 12  discuss_mh                3269 non-null   int64\n",
            " 13  work_interfere            3269 non-null   int64\n",
            " 14  coworkers                 3269 non-null   int64\n",
            " 15  supervisor                3269 non-null   int64\n",
            " 16  mental_health_interview   3269 non-null   int64\n",
            " 17  family_history            3269 non-null   int64\n",
            " 18  past_mental_health        3269 non-null   int64\n",
            " 19  mental_health             3269 non-null   int64\n",
            " 20  treatment                 3269 non-null   int64\n",
            " 21  age                       3269 non-null   int64\n",
            " 22  gender                    3269 non-null   int64\n",
            " 23  country                   3269 non-null   int64\n",
            "dtypes: int64(24)\n",
            "memory usage: 613.1 KB\n"
          ]
        }
      ]
    },
    {
      "cell_type": "markdown",
      "source": [
        "### **Check for Nulls**"
      ],
      "metadata": {
        "id": "OsVNva3ZG6Wr"
      }
    },
    {
      "cell_type": "code",
      "source": [
        "datasets = {\n",
        "    \"Incomplete\":incomplete,\n",
        "    \"Mode\": mode_imputed,\n",
        "    \"Mice\": mice_imputed,\n",
        "    \"Hot Deck\": hotdeck_imputed,\n",
        "    \"KNN\": knn_imputed\n",
        "}\n",
        "\n",
        "for name, dataset in datasets.items():\n",
        "    nan_mask = dataset.isna()\n",
        "    nan_count = nan_mask.sum()\n",
        "    columns_with_nan = nan_count[nan_count > 0]\n",
        "\n",
        "    print(f\"Columns with NaN values in {name}:\")\n",
        "    print(columns_with_nan)\n",
        "\n",
        "    total_nan_count = nan_count.sum()\n",
        "    print(\"Total NaN count:\", total_nan_count)\n",
        "    print(\"\\n\")"
      ],
      "metadata": {
        "colab": {
          "base_uri": "https://localhost:8080/"
        },
        "id": "MBAxYI0BG-Yb",
        "outputId": "d6df10e2-0810-4a04-90d3-bdb02eb95887"
      },
      "execution_count": 31,
      "outputs": [
        {
          "output_type": "stream",
          "name": "stdout",
          "text": [
            "Columns with NaN values in Incomplete:\n",
            "Series([], dtype: int64)\n",
            "Total NaN count: 0\n",
            "\n",
            "\n",
            "Columns with NaN values in Mode:\n",
            "Series([], dtype: int64)\n",
            "Total NaN count: 0\n",
            "\n",
            "\n",
            "Columns with NaN values in Mice:\n",
            "Series([], dtype: int64)\n",
            "Total NaN count: 0\n",
            "\n",
            "\n",
            "Columns with NaN values in Hot Deck:\n",
            "Series([], dtype: int64)\n",
            "Total NaN count: 0\n",
            "\n",
            "\n",
            "Columns with NaN values in KNN:\n",
            "Series([], dtype: int64)\n",
            "Total NaN count: 0\n",
            "\n",
            "\n"
          ]
        }
      ]
    },
    {
      "cell_type": "markdown",
      "source": [
        "### **1. Preservation of relationships**"
      ],
      "metadata": {
        "id": "xuKDLgliHP9t"
      }
    },
    {
      "cell_type": "code",
      "source": [
        "incomplete_corr = incomplete.corr()\n",
        "\n",
        "mode_complete_corr = mode_imputed.corr()\n",
        "mice_complete_corr = mice_imputed.corr()\n",
        "hd_complete_corr = hotdeck_imputed.corr()\n",
        "knn_complete_corr = knn_imputed.corr()\n",
        "\n",
        "mode_complete_corr_diff = np.abs(incomplete_corr - mode_complete_corr)\n",
        "mice_complete_corr_diff = np.abs(incomplete_corr - mice_complete_corr)\n",
        "hd_complete_corr_diff = np.abs(incomplete_corr - hd_complete_corr)\n",
        "knn_complete_corr_diff = np.abs(incomplete_corr - knn_complete_corr)\n",
        "\n",
        "mode_average_diff = mode_complete_corr_diff.mean().mean()\n",
        "mice_average_diff = mice_complete_corr_diff.mean().mean()\n",
        "hd_average_diff = hd_complete_corr_diff.mean().mean()\n",
        "knn_average_diff = knn_complete_corr_diff .mean().mean()\n",
        "\n",
        "print(\"Mode Average difference in correlation matrices:\", mode_average_diff)\n",
        "print(\"Mice Average difference in correlation matrices:\", mice_average_diff)\n",
        "print(\"Hot Deck Average difference in correlation matrices:\", hd_average_diff)\n",
        "print(\"KNN Average difference in correlation matrices:\", knn_average_diff)"
      ],
      "metadata": {
        "colab": {
          "base_uri": "https://localhost:8080/"
        },
        "id": "X4OcYhW7HVs9",
        "outputId": "4facadc8-8c35-4de2-fb8e-fcf34fd81204"
      },
      "execution_count": 32,
      "outputs": [
        {
          "output_type": "stream",
          "name": "stdout",
          "text": [
            "Mode Average difference in correlation matrices: 0.18903101469090622\n",
            "Mice Average difference in correlation matrices: 0.15162621126541576\n",
            "Hot Deck Average difference in correlation matrices: 0.195172813749415\n",
            "KNN Average difference in correlation matrices: 0.1605950241013949\n"
          ]
        }
      ]
    },
    {
      "cell_type": "markdown",
      "source": [
        "### **2. Mean Absolute Error**"
      ],
      "metadata": {
        "id": "p7kTVXVSHjDx"
      }
    },
    {
      "cell_type": "code",
      "source": [
        "mode_mae = mean_absolute_error(incomplete, mode_imputed)\n",
        "multiple_mae = mean_absolute_error(incomplete, mice_imputed)\n",
        "hot_deck_mae = mean_absolute_error(incomplete, hotdeck_imputed)\n",
        "knn_mae = mean_absolute_error(incomplete, knn_imputed)\n",
        "\n",
        "print(\"Mode Imputation MAE:\", mode_mae)\n",
        "print(\"Mice Imputation MAE:\", multiple_mae)\n",
        "print(\"Hot Deck Imputation MAE:\", hot_deck_mae)\n",
        "print(\"KNN Imputation MAE:\", knn_mae)"
      ],
      "metadata": {
        "colab": {
          "base_uri": "https://localhost:8080/"
        },
        "id": "7uY14LteHmfj",
        "outputId": "f99a1982-805f-4c17-d81f-e3040a538cb9"
      },
      "execution_count": 33,
      "outputs": [
        {
          "output_type": "stream",
          "name": "stdout",
          "text": [
            "Mode Imputation MAE: 0.328604568165596\n",
            "Mice Imputation MAE: 0.24399663505659222\n",
            "Hot Deck Imputation MAE: 0.39025695931477516\n",
            "KNN Imputation MAE: 0.26990924849597225\n"
          ]
        }
      ]
    },
    {
      "cell_type": "markdown",
      "source": [
        "### **3. Root Mean Squared Error**"
      ],
      "metadata": {
        "id": "Lz318XiCHzpr"
      }
    },
    {
      "cell_type": "code",
      "source": [
        "# Define a function to calculate RMSE\n",
        "def rmse(y_true, y_pred):\n",
        "    return np.sqrt(mean_squared_error(y_true, y_pred))\n",
        "\n",
        "# Calculate RMSE for each dataset\n",
        "mode_rmse = rmse(incomplete, mode_imputed)\n",
        "multiple_rmse = rmse(incomplete, mice_imputed)\n",
        "hot_deck_rmse = rmse(incomplete, hotdeck_imputed)\n",
        "knn_rmse = rmse(incomplete, knn_imputed)\n",
        "\n",
        "print(\"Mode Imputation RMSE:\", mode_rmse)\n",
        "print(\"Mice Imputation RMSE:\", multiple_rmse)\n",
        "print(\"Hot Deck Imputation RMSE:\", hot_deck_rmse)\n",
        "print(\"KNN Imputation RMSE:\", knn_rmse)"
      ],
      "metadata": {
        "colab": {
          "base_uri": "https://localhost:8080/"
        },
        "id": "NiL1mWAfHyr6",
        "outputId": "df7b5918-f3b8-47b9-8fcb-699ce4b0ff97"
      },
      "execution_count": 34,
      "outputs": [
        {
          "output_type": "stream",
          "name": "stdout",
          "text": [
            "Mode Imputation RMSE: 1.0112740133164588\n",
            "Mice Imputation RMSE: 0.8297439778801579\n",
            "Hot Deck Imputation RMSE: 1.1250460262726025\n",
            "KNN Imputation RMSE: 0.840769311753721\n"
          ]
        }
      ]
    }
  ]
}