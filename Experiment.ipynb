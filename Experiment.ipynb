{
  "nbformat": 4,
  "nbformat_minor": 0,
  "metadata": {
    "colab": {
      "provenance": [],
      "authorship_tag": "ABX9TyONOdv6LSKWbh/7H+kD1bOX",
      "include_colab_link": true
    },
    "kernelspec": {
      "name": "python3",
      "display_name": "Python 3"
    },
    "language_info": {
      "name": "python"
    }
  },
  "cells": [
    {
      "cell_type": "markdown",
      "metadata": {
        "id": "view-in-github",
        "colab_type": "text"
      },
      "source": [
        "<a href=\"https://colab.research.google.com/github/tsholofelo-mokheleli/SACAIR-Conference-Proceedings-2023/blob/main/Experiment.ipynb\" target=\"_parent\"><img src=\"https://colab.research.google.com/assets/colab-badge.svg\" alt=\"Open In Colab\"/></a>"
      ]
    },
    {
      "cell_type": "code",
      "execution_count": 140,
      "metadata": {
        "id": "rmjMaUkvEjBz"
      },
      "outputs": [],
      "source": [
        "# Load the libraries\n",
        "import pandas  as pd\n",
        "import numpy as np\n",
        "import seaborn as sns\n",
        "import matplotlib.pyplot as plt\n",
        "\n",
        "# Warning filter\n",
        "import warnings\n",
        "warnings.filterwarnings('ignore')\n",
        "cmap=sns.color_palette('Blues_r')\n",
        "\n",
        "# Metrics\n",
        "from sklearn.model_selection import train_test_split\n",
        "from sklearn.metrics import accuracy_score, precision_score, recall_score, f1_score, roc_auc_score, cohen_kappa_score, confusion_matrix, balanced_accuracy_score\n",
        "from imblearn.metrics import geometric_mean_score\n",
        "\n",
        "# Classifiers\n",
        "from sklearn.svm import SVC\n",
        "from sklearn.naive_bayes import GaussianNB\n",
        "from sklearn.ensemble import RandomForestClassifier\n",
        "from sklearn.linear_model import LogisticRegression\n",
        "from sklearn.neighbors import KNeighborsClassifier\n",
        "\n",
        "# Boosting Classifiers\n",
        "from xgboost import XGBClassifier\n",
        "from sklearn.ensemble import AdaBoostClassifier\n",
        "\n",
        "# Imputation\n",
        "from sklearn.experimental import enable_iterative_imputer  # noqa\n",
        "from sklearn.impute import IterativeImputer\n",
        "from sklearn.neighbors import NearestNeighbors\n",
        "from sklearn.impute import KNNImputer\n",
        "\n",
        "# Plot Theme\n",
        "sns.set_style(\"darkgrid\")\n",
        "plt.style.use(\"seaborn-deep\")"
      ]
    },
    {
      "cell_type": "markdown",
      "source": [
        "### **Load Data**"
      ],
      "metadata": {
        "id": "ozUM1jrxFjmk"
      }
    },
    {
      "cell_type": "code",
      "source": [
        "data = pd.read_csv(\"Clean Mental Health.csv\")"
      ],
      "metadata": {
        "id": "um2eny9XFnvz"
      },
      "execution_count": 141,
      "outputs": []
    },
    {
      "cell_type": "code",
      "source": [
        "data.info()"
      ],
      "metadata": {
        "colab": {
          "base_uri": "https://localhost:8080/"
        },
        "id": "ovp1Xfr7J8fc",
        "outputId": "8f2c0cca-b12c-47a1-e187-34c0212eb4d8"
      },
      "execution_count": 142,
      "outputs": [
        {
          "output_type": "stream",
          "name": "stdout",
          "text": [
            "<class 'pandas.core.frame.DataFrame'>\n",
            "RangeIndex: 3269 entries, 0 to 3268\n",
            "Data columns (total 25 columns):\n",
            " #   Column                    Non-Null Count  Dtype  \n",
            "---  ------                    --------------  -----  \n",
            " 0   self_employed             3269 non-null   int64  \n",
            " 1   no_employees              2723 non-null   float64\n",
            " 2   tech_company              2723 non-null   float64\n",
            " 3   company_role              1840 non-null   float64\n",
            " 4   benefits                  2723 non-null   float64\n",
            " 5   care_options              2427 non-null   float64\n",
            " 6   wellness_program          2723 non-null   float64\n",
            " 7   seek_help                 2723 non-null   float64\n",
            " 8   anonymity                 2723 non-null   float64\n",
            " 9   leave                     2723 non-null   float64\n",
            " 10  mental_importance         2723 non-null   float64\n",
            " 11  neg_consequence_coworker  2980 non-null   float64\n",
            " 12  discuss_mh                1859 non-null   float64\n",
            " 13  work_interfere            546 non-null    float64\n",
            " 14  coworkers                 2841 non-null   float64\n",
            " 15  supervisor                2841 non-null   float64\n",
            " 16  mental_health_interview   3269 non-null   int64  \n",
            " 17  family_history            3269 non-null   int64  \n",
            " 18  past_mental_health        3246 non-null   float64\n",
            " 19  mental_health             3269 non-null   int64  \n",
            " 20  mental_health_diagnosed   2189 non-null   float64\n",
            " 21  treatment                 3269 non-null   int64  \n",
            " 22  age                       3259 non-null   float64\n",
            " 23  gender                    3269 non-null   int64  \n",
            " 24  country                   3269 non-null   int64  \n",
            "dtypes: float64(18), int64(7)\n",
            "memory usage: 638.6 KB\n"
          ]
        }
      ]
    },
    {
      "cell_type": "markdown",
      "source": [
        "### **Initial Data Imputation**"
      ],
      "metadata": {
        "id": "cl9FnprVSg1K"
      }
    },
    {
      "cell_type": "code",
      "source": [
        "columns_to_impute = data.columns[data.columns != \"mental_health_diagnosed\"]\n",
        "\n",
        "# Impute NaN values with -1 in the selected columns\n",
        "data[columns_to_impute] = data[columns_to_impute].fillna(-1)"
      ],
      "metadata": {
        "id": "Y2S9tTsyMqbq"
      },
      "execution_count": 143,
      "outputs": []
    },
    {
      "cell_type": "code",
      "source": [
        "data.info()"
      ],
      "metadata": {
        "colab": {
          "base_uri": "https://localhost:8080/"
        },
        "id": "Q7D4xnrmLDb6",
        "outputId": "7c462382-6853-4ac2-8610-f5a8767110a0"
      },
      "execution_count": 144,
      "outputs": [
        {
          "output_type": "stream",
          "name": "stdout",
          "text": [
            "<class 'pandas.core.frame.DataFrame'>\n",
            "RangeIndex: 3269 entries, 0 to 3268\n",
            "Data columns (total 25 columns):\n",
            " #   Column                    Non-Null Count  Dtype  \n",
            "---  ------                    --------------  -----  \n",
            " 0   self_employed             3269 non-null   int64  \n",
            " 1   no_employees              3269 non-null   float64\n",
            " 2   tech_company              3269 non-null   float64\n",
            " 3   company_role              3269 non-null   float64\n",
            " 4   benefits                  3269 non-null   float64\n",
            " 5   care_options              3269 non-null   float64\n",
            " 6   wellness_program          3269 non-null   float64\n",
            " 7   seek_help                 3269 non-null   float64\n",
            " 8   anonymity                 3269 non-null   float64\n",
            " 9   leave                     3269 non-null   float64\n",
            " 10  mental_importance         3269 non-null   float64\n",
            " 11  neg_consequence_coworker  3269 non-null   float64\n",
            " 12  discuss_mh                3269 non-null   float64\n",
            " 13  work_interfere            3269 non-null   float64\n",
            " 14  coworkers                 3269 non-null   float64\n",
            " 15  supervisor                3269 non-null   float64\n",
            " 16  mental_health_interview   3269 non-null   int64  \n",
            " 17  family_history            3269 non-null   int64  \n",
            " 18  past_mental_health        3269 non-null   float64\n",
            " 19  mental_health             3269 non-null   int64  \n",
            " 20  mental_health_diagnosed   2189 non-null   float64\n",
            " 21  treatment                 3269 non-null   int64  \n",
            " 22  age                       3269 non-null   float64\n",
            " 23  gender                    3269 non-null   int64  \n",
            " 24  country                   3269 non-null   int64  \n",
            "dtypes: float64(18), int64(7)\n",
            "memory usage: 638.6 KB\n"
          ]
        }
      ]
    },
    {
      "cell_type": "code",
      "source": [
        "#Get the numbers of missing values in each column\n",
        "missing = data.isnull().sum()\n",
        "\n",
        "#Get the percentage of missing values in each column\n",
        "missing_pct = round(data.isnull().sum()/len(data) * 100, 1)\n",
        "\n",
        "data_missing = pd.concat([missing, missing_pct], axis=1)\n",
        "data_missing.columns = [\"Num\", \"%\"]\n",
        "print(data_missing)"
      ],
      "metadata": {
        "colab": {
          "base_uri": "https://localhost:8080/"
        },
        "id": "TqBIY9MITdRa",
        "outputId": "67af6b68-e2c6-464f-e406-df4aa4ef65d5"
      },
      "execution_count": 145,
      "outputs": [
        {
          "output_type": "stream",
          "name": "stdout",
          "text": [
            "                           Num     %\n",
            "self_employed                0   0.0\n",
            "no_employees                 0   0.0\n",
            "tech_company                 0   0.0\n",
            "company_role                 0   0.0\n",
            "benefits                     0   0.0\n",
            "care_options                 0   0.0\n",
            "wellness_program             0   0.0\n",
            "seek_help                    0   0.0\n",
            "anonymity                    0   0.0\n",
            "leave                        0   0.0\n",
            "mental_importance            0   0.0\n",
            "neg_consequence_coworker     0   0.0\n",
            "discuss_mh                   0   0.0\n",
            "work_interfere               0   0.0\n",
            "coworkers                    0   0.0\n",
            "supervisor                   0   0.0\n",
            "mental_health_interview      0   0.0\n",
            "family_history               0   0.0\n",
            "past_mental_health           0   0.0\n",
            "mental_health                0   0.0\n",
            "mental_health_diagnosed   1080  33.0\n",
            "treatment                    0   0.0\n",
            "age                          0   0.0\n",
            "gender                       0   0.0\n",
            "country                      0   0.0\n"
          ]
        }
      ]
    },
    {
      "cell_type": "code",
      "source": [
        "data = data.dropna()\n",
        "\n",
        "# Convert all columns to int data type\n",
        "for column in data.columns:\n",
        "    data[column] = data[column].astype('int64')\n",
        "\n",
        "data.info()"
      ],
      "metadata": {
        "colab": {
          "base_uri": "https://localhost:8080/"
        },
        "id": "2lebSAByPwqq",
        "outputId": "b4f9541d-43b5-4cec-d1b9-895517d9f0d0"
      },
      "execution_count": 146,
      "outputs": [
        {
          "output_type": "stream",
          "name": "stdout",
          "text": [
            "<class 'pandas.core.frame.DataFrame'>\n",
            "Int64Index: 2189 entries, 0 to 3268\n",
            "Data columns (total 25 columns):\n",
            " #   Column                    Non-Null Count  Dtype\n",
            "---  ------                    --------------  -----\n",
            " 0   self_employed             2189 non-null   int64\n",
            " 1   no_employees              2189 non-null   int64\n",
            " 2   tech_company              2189 non-null   int64\n",
            " 3   company_role              2189 non-null   int64\n",
            " 4   benefits                  2189 non-null   int64\n",
            " 5   care_options              2189 non-null   int64\n",
            " 6   wellness_program          2189 non-null   int64\n",
            " 7   seek_help                 2189 non-null   int64\n",
            " 8   anonymity                 2189 non-null   int64\n",
            " 9   leave                     2189 non-null   int64\n",
            " 10  mental_importance         2189 non-null   int64\n",
            " 11  neg_consequence_coworker  2189 non-null   int64\n",
            " 12  discuss_mh                2189 non-null   int64\n",
            " 13  work_interfere            2189 non-null   int64\n",
            " 14  coworkers                 2189 non-null   int64\n",
            " 15  supervisor                2189 non-null   int64\n",
            " 16  mental_health_interview   2189 non-null   int64\n",
            " 17  family_history            2189 non-null   int64\n",
            " 18  past_mental_health        2189 non-null   int64\n",
            " 19  mental_health             2189 non-null   int64\n",
            " 20  mental_health_diagnosed   2189 non-null   int64\n",
            " 21  treatment                 2189 non-null   int64\n",
            " 22  age                       2189 non-null   int64\n",
            " 23  gender                    2189 non-null   int64\n",
            " 24  country                   2189 non-null   int64\n",
            "dtypes: int64(25)\n",
            "memory usage: 444.6 KB\n"
          ]
        }
      ]
    },
    {
      "cell_type": "markdown",
      "source": [
        "### **Split the data**"
      ],
      "metadata": {
        "id": "ZYQgiViTSlXS"
      }
    },
    {
      "cell_type": "code",
      "source": [
        "X = data.drop([\"mental_health_diagnosed\"], axis=1)\n",
        "y = data['mental_health_diagnosed']\n",
        "\n",
        "X_train, X_test, y_train, y_test = train_test_split(X, y, test_size=0.2,stratify=y, random_state=42)"
      ],
      "metadata": {
        "id": "S-9NLko6P98r"
      },
      "execution_count": 147,
      "outputs": []
    },
    {
      "cell_type": "markdown",
      "source": [
        "Using ***stratify*** is especially important when dealing with imbalanced datasets, where one class is much more frequent than the others. It helps prevent your training or testing set from having a significantly different class distribution than the original data, which could lead to biased model performance evaluation."
      ],
      "metadata": {
        "id": "CAWSV-k5QKzD"
      }
    },
    {
      "cell_type": "markdown",
      "source": [
        "### **Define Classifiers**"
      ],
      "metadata": {
        "id": "6xFnVV63T6w6"
      }
    },
    {
      "cell_type": "code",
      "source": [
        "# Define a list of classifiers\n",
        "classifiers = {\n",
        "    \"Support Vector Machine\": SVC(),\n",
        "    \"Naive Bayes\": GaussianNB(),\n",
        "    \"Random Forest\": RandomForestClassifier(),\n",
        "    \"Logistic Regression\": LogisticRegression(),\n",
        "    \"K-Nearest Neighbors\": KNeighborsClassifier(),\n",
        "    \"XGBoost\": XGBClassifier(),\n",
        "    \"AdaBoost\": AdaBoostClassifier()\n",
        "}"
      ],
      "metadata": {
        "id": "nYMQPWU9QTWS"
      },
      "execution_count": 148,
      "outputs": []
    },
    {
      "cell_type": "markdown",
      "source": [
        "### **Baseline Models**"
      ],
      "metadata": {
        "id": "QO8go8cxQW9C"
      }
    },
    {
      "cell_type": "code",
      "source": [
        "# Dictionary to store evaluation metrics\n",
        "results = {}\n",
        "\n",
        "# Loop through each classifier\n",
        "for name, clf in classifiers.items():\n",
        "    # Train the classifier\n",
        "    clf.fit(X_train, y_train)\n",
        "\n",
        "    # Make predictions on the test set\n",
        "    y_pred = clf.predict(X_test)\n",
        "\n",
        "    # Calculate evaluation metrics\n",
        "    accuracy = accuracy_score(y_test, y_pred)\n",
        "    precision = precision_score(y_test, y_pred)\n",
        "    recall = recall_score(y_test, y_pred)\n",
        "    f1 = f1_score(y_test, y_pred)\n",
        "    roc_auc = roc_auc_score(y_test, y_pred)\n",
        "    kappa = cohen_kappa_score(y_test, y_pred)\n",
        "    confusion = confusion_matrix(y_test, y_pred)\n",
        "    geometric_mean = geometric_mean_score(y_test, y_pred)\n",
        "    balanced_accuracy = balanced_accuracy_score(y_test, y_pred)\n",
        "\n",
        "    # Store the results in the dictionary\n",
        "    results[name] = {\n",
        "        \"Accuracy\": accuracy,\n",
        "        \"Precision\": precision,\n",
        "        \"Recall\": recall,\n",
        "        \"F1 Score\": f1,\n",
        "        \"ROC AUC\": roc_auc,\n",
        "        \"Kappa\": kappa,\n",
        "        \"Geometric Mean\": geometric_mean,\n",
        "        \"Balanced Accuracy\": balanced_accuracy,\n",
        "        \"Confusion Matrix\": confusion,\n",
        "    }\n",
        "\n",
        "# Display the results\n",
        "for name, metrics in results.items():\n",
        "    print(f\"--- {name} ---\")\n",
        "    print(\"Accuracy: {:.3f}\".format(metrics[\"Accuracy\"]))\n",
        "    print(\"Precision: {:.3f}\".format(metrics[\"Precision\"]))\n",
        "    print(\"Recall: {:.3f}\".format(metrics[\"Recall\"]))\n",
        "    print(\"F1 Score: {:.3f}\".format(metrics[\"F1 Score\"]))\n",
        "    print(\"ROC AUC: {:.3f}\".format(metrics[\"ROC AUC\"]))\n",
        "    print(\"Kappa: {:.3f}\".format(metrics[\"Kappa\"]))\n",
        "    print(\"Geometric Mean: {:.3f}\".format(metrics[\"Geometric Mean\"]))\n",
        "    print(\"Balanced Accuracy: {:.3f}\".format(metrics[\"Balanced Accuracy\"]))\n",
        "    print(\"Confusion Matrix:\")\n",
        "    print(metrics[\"Confusion Matrix\"])\n",
        "    print(\"\\n\")"
      ],
      "metadata": {
        "colab": {
          "base_uri": "https://localhost:8080/"
        },
        "id": "KwwfGv9FSEwr",
        "outputId": "e7bd8432-ec9e-40b0-f298-6560b1d07e77"
      },
      "execution_count": 149,
      "outputs": [
        {
          "output_type": "stream",
          "name": "stdout",
          "text": [
            "--- Support Vector Machine ---\n",
            "Accuracy: 0.662\n",
            "Precision: 0.662\n",
            "Recall: 1.000\n",
            "F1 Score: 0.797\n",
            "ROC AUC: 0.500\n",
            "Kappa: 0.000\n",
            "Geometric Mean: 0.000\n",
            "Balanced Accuracy: 0.500\n",
            "Confusion Matrix:\n",
            "[[  0 148]\n",
            " [  0 290]]\n",
            "\n",
            "\n",
            "--- Naive Bayes ---\n",
            "Accuracy: 0.877\n",
            "Precision: 0.924\n",
            "Recall: 0.886\n",
            "F1 Score: 0.905\n",
            "ROC AUC: 0.872\n",
            "Kappa: 0.730\n",
            "Geometric Mean: 0.872\n",
            "Balanced Accuracy: 0.872\n",
            "Confusion Matrix:\n",
            "[[127  21]\n",
            " [ 33 257]]\n",
            "\n",
            "\n",
            "--- Random Forest ---\n",
            "Accuracy: 0.920\n",
            "Precision: 0.918\n",
            "Recall: 0.966\n",
            "F1 Score: 0.941\n",
            "ROC AUC: 0.898\n",
            "Kappa: 0.817\n",
            "Geometric Mean: 0.896\n",
            "Balanced Accuracy: 0.898\n",
            "Confusion Matrix:\n",
            "[[123  25]\n",
            " [ 10 280]]\n",
            "\n",
            "\n",
            "--- Logistic Regression ---\n",
            "Accuracy: 0.893\n",
            "Precision: 0.886\n",
            "Recall: 0.962\n",
            "F1 Score: 0.922\n",
            "ROC AUC: 0.859\n",
            "Kappa: 0.750\n",
            "Geometric Mean: 0.853\n",
            "Balanced Accuracy: 0.859\n",
            "Confusion Matrix:\n",
            "[[112  36]\n",
            " [ 11 279]]\n",
            "\n",
            "\n",
            "--- K-Nearest Neighbors ---\n",
            "Accuracy: 0.728\n",
            "Precision: 0.745\n",
            "Recall: 0.897\n",
            "F1 Score: 0.814\n",
            "ROC AUC: 0.648\n",
            "Kappa: 0.327\n",
            "Geometric Mean: 0.598\n",
            "Balanced Accuracy: 0.648\n",
            "Confusion Matrix:\n",
            "[[ 59  89]\n",
            " [ 30 260]]\n",
            "\n",
            "\n",
            "--- XGBoost ---\n",
            "Accuracy: 0.913\n",
            "Precision: 0.929\n",
            "Recall: 0.941\n",
            "F1 Score: 0.935\n",
            "ROC AUC: 0.900\n",
            "Kappa: 0.805\n",
            "Geometric Mean: 0.899\n",
            "Balanced Accuracy: 0.900\n",
            "Confusion Matrix:\n",
            "[[127  21]\n",
            " [ 17 273]]\n",
            "\n",
            "\n",
            "--- AdaBoost ---\n",
            "Accuracy: 0.916\n",
            "Precision: 0.926\n",
            "Recall: 0.948\n",
            "F1 Score: 0.937\n",
            "ROC AUC: 0.900\n",
            "Kappa: 0.809\n",
            "Geometric Mean: 0.899\n",
            "Balanced Accuracy: 0.900\n",
            "Confusion Matrix:\n",
            "[[126  22]\n",
            " [ 15 275]]\n",
            "\n",
            "\n"
          ]
        }
      ]
    },
    {
      "cell_type": "markdown",
      "source": [
        "### **Mode Imputation**"
      ],
      "metadata": {
        "id": "HriHMSzfS8ny"
      }
    },
    {
      "cell_type": "code",
      "source": [
        "data = pd.read_csv(\"Clean Mental Health.csv\")"
      ],
      "metadata": {
        "id": "qNLB8Ul6TFKa"
      },
      "execution_count": 150,
      "outputs": []
    },
    {
      "cell_type": "code",
      "source": [
        "columns_to_impute = data.columns[data.columns != \"mental_health_diagnosed\"]\n",
        "\n",
        "# Iterate through columns to impute missing values with mode\n",
        "for column in columns_to_impute:\n",
        "    mode_value = data[column].mode()[0]\n",
        "    data[column].fillna(mode_value, inplace=True)\n",
        "\n",
        "data.info()"
      ],
      "metadata": {
        "colab": {
          "base_uri": "https://localhost:8080/"
        },
        "id": "kkxn62kzTTMU",
        "outputId": "75078eb7-e5d1-4fb6-efef-c02b4ea9e2e8"
      },
      "execution_count": 151,
      "outputs": [
        {
          "output_type": "stream",
          "name": "stdout",
          "text": [
            "<class 'pandas.core.frame.DataFrame'>\n",
            "RangeIndex: 3269 entries, 0 to 3268\n",
            "Data columns (total 25 columns):\n",
            " #   Column                    Non-Null Count  Dtype  \n",
            "---  ------                    --------------  -----  \n",
            " 0   self_employed             3269 non-null   int64  \n",
            " 1   no_employees              3269 non-null   float64\n",
            " 2   tech_company              3269 non-null   float64\n",
            " 3   company_role              3269 non-null   float64\n",
            " 4   benefits                  3269 non-null   float64\n",
            " 5   care_options              3269 non-null   float64\n",
            " 6   wellness_program          3269 non-null   float64\n",
            " 7   seek_help                 3269 non-null   float64\n",
            " 8   anonymity                 3269 non-null   float64\n",
            " 9   leave                     3269 non-null   float64\n",
            " 10  mental_importance         3269 non-null   float64\n",
            " 11  neg_consequence_coworker  3269 non-null   float64\n",
            " 12  discuss_mh                3269 non-null   float64\n",
            " 13  work_interfere            3269 non-null   float64\n",
            " 14  coworkers                 3269 non-null   float64\n",
            " 15  supervisor                3269 non-null   float64\n",
            " 16  mental_health_interview   3269 non-null   int64  \n",
            " 17  family_history            3269 non-null   int64  \n",
            " 18  past_mental_health        3269 non-null   float64\n",
            " 19  mental_health             3269 non-null   int64  \n",
            " 20  mental_health_diagnosed   2189 non-null   float64\n",
            " 21  treatment                 3269 non-null   int64  \n",
            " 22  age                       3269 non-null   float64\n",
            " 23  gender                    3269 non-null   int64  \n",
            " 24  country                   3269 non-null   int64  \n",
            "dtypes: float64(18), int64(7)\n",
            "memory usage: 638.6 KB\n"
          ]
        }
      ]
    },
    {
      "cell_type": "code",
      "source": [
        "data = data.dropna()\n",
        "\n",
        "# Convert all columns to int data type\n",
        "for column in data.columns:\n",
        "    data[column] = data[column].astype('int64')\n",
        "\n",
        "data.info()"
      ],
      "metadata": {
        "colab": {
          "base_uri": "https://localhost:8080/"
        },
        "id": "Ppf7qJwUT22i",
        "outputId": "f55db210-974c-49e1-b9fb-620a7cf7d525"
      },
      "execution_count": 152,
      "outputs": [
        {
          "output_type": "stream",
          "name": "stdout",
          "text": [
            "<class 'pandas.core.frame.DataFrame'>\n",
            "Int64Index: 2189 entries, 0 to 3268\n",
            "Data columns (total 25 columns):\n",
            " #   Column                    Non-Null Count  Dtype\n",
            "---  ------                    --------------  -----\n",
            " 0   self_employed             2189 non-null   int64\n",
            " 1   no_employees              2189 non-null   int64\n",
            " 2   tech_company              2189 non-null   int64\n",
            " 3   company_role              2189 non-null   int64\n",
            " 4   benefits                  2189 non-null   int64\n",
            " 5   care_options              2189 non-null   int64\n",
            " 6   wellness_program          2189 non-null   int64\n",
            " 7   seek_help                 2189 non-null   int64\n",
            " 8   anonymity                 2189 non-null   int64\n",
            " 9   leave                     2189 non-null   int64\n",
            " 10  mental_importance         2189 non-null   int64\n",
            " 11  neg_consequence_coworker  2189 non-null   int64\n",
            " 12  discuss_mh                2189 non-null   int64\n",
            " 13  work_interfere            2189 non-null   int64\n",
            " 14  coworkers                 2189 non-null   int64\n",
            " 15  supervisor                2189 non-null   int64\n",
            " 16  mental_health_interview   2189 non-null   int64\n",
            " 17  family_history            2189 non-null   int64\n",
            " 18  past_mental_health        2189 non-null   int64\n",
            " 19  mental_health             2189 non-null   int64\n",
            " 20  mental_health_diagnosed   2189 non-null   int64\n",
            " 21  treatment                 2189 non-null   int64\n",
            " 22  age                       2189 non-null   int64\n",
            " 23  gender                    2189 non-null   int64\n",
            " 24  country                   2189 non-null   int64\n",
            "dtypes: int64(25)\n",
            "memory usage: 444.6 KB\n"
          ]
        }
      ]
    },
    {
      "cell_type": "code",
      "source": [
        "X = data.drop([\"mental_health_diagnosed\"], axis=1)\n",
        "y = data['mental_health_diagnosed']\n",
        "\n",
        "X_train, X_test, y_train, y_test = train_test_split(X, y, test_size=0.2,stratify=y, random_state=42)"
      ],
      "metadata": {
        "id": "1DP9N_WmUb1q"
      },
      "execution_count": 153,
      "outputs": []
    },
    {
      "cell_type": "code",
      "source": [
        "# Dictionary to store evaluation metrics\n",
        "results = {}\n",
        "\n",
        "# Loop through each classifier\n",
        "for name, clf in classifiers.items():\n",
        "    # Train the classifier\n",
        "    clf.fit(X_train, y_train)\n",
        "\n",
        "    # Make predictions on the test set\n",
        "    y_pred = clf.predict(X_test)\n",
        "\n",
        "    # Calculate evaluation metrics\n",
        "    accuracy = accuracy_score(y_test, y_pred)\n",
        "    precision = precision_score(y_test, y_pred)\n",
        "    recall = recall_score(y_test, y_pred)\n",
        "    f1 = f1_score(y_test, y_pred)\n",
        "    roc_auc = roc_auc_score(y_test, y_pred)\n",
        "    kappa = cohen_kappa_score(y_test, y_pred)\n",
        "    confusion = confusion_matrix(y_test, y_pred)\n",
        "    geometric_mean = geometric_mean_score(y_test, y_pred)\n",
        "    balanced_accuracy = balanced_accuracy_score(y_test, y_pred)\n",
        "\n",
        "    # Store the results in the dictionary\n",
        "    results[name] = {\n",
        "        \"Accuracy\": accuracy,\n",
        "        \"Precision\": precision,\n",
        "        \"Recall\": recall,\n",
        "        \"F1 Score\": f1,\n",
        "        \"ROC AUC\": roc_auc,\n",
        "        \"Kappa\": kappa,\n",
        "        \"Geometric Mean\": geometric_mean,\n",
        "        \"Balanced Accuracy\": balanced_accuracy,\n",
        "        \"Confusion Matrix\": confusion,\n",
        "    }\n",
        "\n",
        "# Display the results\n",
        "for name, metrics in results.items():\n",
        "    print(f\"--- {name} ---\")\n",
        "    print(\"Accuracy: {:.3f}\".format(metrics[\"Accuracy\"]))\n",
        "    print(\"Precision: {:.3f}\".format(metrics[\"Precision\"]))\n",
        "    print(\"Recall: {:.3f}\".format(metrics[\"Recall\"]))\n",
        "    print(\"F1 Score: {:.3f}\".format(metrics[\"F1 Score\"]))\n",
        "    print(\"ROC AUC: {:.3f}\".format(metrics[\"ROC AUC\"]))\n",
        "    print(\"Kappa: {:.3f}\".format(metrics[\"Kappa\"]))\n",
        "    print(\"Geometric Mean: {:.3f}\".format(metrics[\"Geometric Mean\"]))\n",
        "    print(\"Balanced Accuracy: {:.3f}\".format(metrics[\"Balanced Accuracy\"]))\n",
        "    print(\"Confusion Matrix:\")\n",
        "    print(metrics[\"Confusion Matrix\"])\n",
        "    print(\"\\n\")"
      ],
      "metadata": {
        "colab": {
          "base_uri": "https://localhost:8080/"
        },
        "id": "FCtLNDi0UiE6",
        "outputId": "edbc2285-918f-4224-e2f4-f34c803b86bb"
      },
      "execution_count": 154,
      "outputs": [
        {
          "output_type": "stream",
          "name": "stdout",
          "text": [
            "--- Support Vector Machine ---\n",
            "Accuracy: 0.662\n",
            "Precision: 0.662\n",
            "Recall: 1.000\n",
            "F1 Score: 0.797\n",
            "ROC AUC: 0.500\n",
            "Kappa: 0.000\n",
            "Geometric Mean: 0.000\n",
            "Balanced Accuracy: 0.500\n",
            "Confusion Matrix:\n",
            "[[  0 148]\n",
            " [  0 290]]\n",
            "\n",
            "\n",
            "--- Naive Bayes ---\n",
            "Accuracy: 0.886\n",
            "Precision: 0.929\n",
            "Recall: 0.897\n",
            "F1 Score: 0.912\n",
            "ROC AUC: 0.881\n",
            "Kappa: 0.749\n",
            "Geometric Mean: 0.881\n",
            "Balanced Accuracy: 0.881\n",
            "Confusion Matrix:\n",
            "[[128  20]\n",
            " [ 30 260]]\n",
            "\n",
            "\n",
            "--- Random Forest ---\n",
            "Accuracy: 0.913\n",
            "Precision: 0.917\n",
            "Recall: 0.955\n",
            "F1 Score: 0.936\n",
            "ROC AUC: 0.893\n",
            "Kappa: 0.802\n",
            "Geometric Mean: 0.891\n",
            "Balanced Accuracy: 0.893\n",
            "Confusion Matrix:\n",
            "[[123  25]\n",
            " [ 13 277]]\n",
            "\n",
            "\n",
            "--- Logistic Regression ---\n",
            "Accuracy: 0.893\n",
            "Precision: 0.886\n",
            "Recall: 0.962\n",
            "F1 Score: 0.922\n",
            "ROC AUC: 0.859\n",
            "Kappa: 0.750\n",
            "Geometric Mean: 0.853\n",
            "Balanced Accuracy: 0.859\n",
            "Confusion Matrix:\n",
            "[[112  36]\n",
            " [ 11 279]]\n",
            "\n",
            "\n",
            "--- K-Nearest Neighbors ---\n",
            "Accuracy: 0.733\n",
            "Precision: 0.736\n",
            "Recall: 0.931\n",
            "F1 Score: 0.822\n",
            "ROC AUC: 0.638\n",
            "Kappa: 0.316\n",
            "Geometric Mean: 0.566\n",
            "Balanced Accuracy: 0.638\n",
            "Confusion Matrix:\n",
            "[[ 51  97]\n",
            " [ 20 270]]\n",
            "\n",
            "\n",
            "--- XGBoost ---\n",
            "Accuracy: 0.918\n",
            "Precision: 0.921\n",
            "Recall: 0.959\n",
            "F1 Score: 0.939\n",
            "ROC AUC: 0.898\n",
            "Kappa: 0.813\n",
            "Geometric Mean: 0.896\n",
            "Balanced Accuracy: 0.898\n",
            "Confusion Matrix:\n",
            "[[124  24]\n",
            " [ 12 278]]\n",
            "\n",
            "\n",
            "--- AdaBoost ---\n",
            "Accuracy: 0.906\n",
            "Precision: 0.916\n",
            "Recall: 0.945\n",
            "F1 Score: 0.930\n",
            "ROC AUC: 0.888\n",
            "Kappa: 0.788\n",
            "Geometric Mean: 0.886\n",
            "Balanced Accuracy: 0.888\n",
            "Confusion Matrix:\n",
            "[[123  25]\n",
            " [ 16 274]]\n",
            "\n",
            "\n"
          ]
        }
      ]
    },
    {
      "cell_type": "markdown",
      "source": [
        "### **Multiple Imputation by Chained Equations (MICE)**"
      ],
      "metadata": {
        "id": "iKXk3KMJVJDZ"
      }
    },
    {
      "cell_type": "code",
      "source": [
        "data = pd.read_csv(\"Clean Mental Health.csv\")"
      ],
      "metadata": {
        "id": "v3emOQiKVK-i"
      },
      "execution_count": 155,
      "outputs": []
    },
    {
      "cell_type": "code",
      "source": [
        "# Initialize the MICE imputer\n",
        "mice_imputer = IterativeImputer()\n",
        "\n",
        "# Exclude the 'mental_health_diagnosed' column from imputation\n",
        "columns_to_impute = [col for col in data.columns if col != 'mental_health_diagnosed']\n",
        "\n",
        "# Perform MICE imputation on the selected columns\n",
        "data[columns_to_impute] = mice_imputer.fit_transform(data[columns_to_impute])\n",
        "\n",
        "data.info()"
      ],
      "metadata": {
        "colab": {
          "base_uri": "https://localhost:8080/"
        },
        "id": "LufffsUvV5Da",
        "outputId": "3d2dde96-6ff8-448f-e085-c919184a7b42"
      },
      "execution_count": 156,
      "outputs": [
        {
          "output_type": "stream",
          "name": "stdout",
          "text": [
            "<class 'pandas.core.frame.DataFrame'>\n",
            "RangeIndex: 3269 entries, 0 to 3268\n",
            "Data columns (total 25 columns):\n",
            " #   Column                    Non-Null Count  Dtype  \n",
            "---  ------                    --------------  -----  \n",
            " 0   self_employed             3269 non-null   float64\n",
            " 1   no_employees              3269 non-null   float64\n",
            " 2   tech_company              3269 non-null   float64\n",
            " 3   company_role              3269 non-null   float64\n",
            " 4   benefits                  3269 non-null   float64\n",
            " 5   care_options              3269 non-null   float64\n",
            " 6   wellness_program          3269 non-null   float64\n",
            " 7   seek_help                 3269 non-null   float64\n",
            " 8   anonymity                 3269 non-null   float64\n",
            " 9   leave                     3269 non-null   float64\n",
            " 10  mental_importance         3269 non-null   float64\n",
            " 11  neg_consequence_coworker  3269 non-null   float64\n",
            " 12  discuss_mh                3269 non-null   float64\n",
            " 13  work_interfere            3269 non-null   float64\n",
            " 14  coworkers                 3269 non-null   float64\n",
            " 15  supervisor                3269 non-null   float64\n",
            " 16  mental_health_interview   3269 non-null   float64\n",
            " 17  family_history            3269 non-null   float64\n",
            " 18  past_mental_health        3269 non-null   float64\n",
            " 19  mental_health             3269 non-null   float64\n",
            " 20  mental_health_diagnosed   2189 non-null   float64\n",
            " 21  treatment                 3269 non-null   float64\n",
            " 22  age                       3269 non-null   float64\n",
            " 23  gender                    3269 non-null   float64\n",
            " 24  country                   3269 non-null   float64\n",
            "dtypes: float64(25)\n",
            "memory usage: 638.6 KB\n"
          ]
        }
      ]
    },
    {
      "cell_type": "code",
      "source": [
        "data = data.dropna()\n",
        "\n",
        "# Convert all columns to int data type\n",
        "for column in data.columns:\n",
        "    data[column] = data[column].astype('int64')\n",
        "\n",
        "data.info()"
      ],
      "metadata": {
        "colab": {
          "base_uri": "https://localhost:8080/"
        },
        "id": "LJHMxZBFWN0y",
        "outputId": "6c7c6ce7-4300-4973-9e98-247f527c46a3"
      },
      "execution_count": 157,
      "outputs": [
        {
          "output_type": "stream",
          "name": "stdout",
          "text": [
            "<class 'pandas.core.frame.DataFrame'>\n",
            "Int64Index: 2189 entries, 0 to 3268\n",
            "Data columns (total 25 columns):\n",
            " #   Column                    Non-Null Count  Dtype\n",
            "---  ------                    --------------  -----\n",
            " 0   self_employed             2189 non-null   int64\n",
            " 1   no_employees              2189 non-null   int64\n",
            " 2   tech_company              2189 non-null   int64\n",
            " 3   company_role              2189 non-null   int64\n",
            " 4   benefits                  2189 non-null   int64\n",
            " 5   care_options              2189 non-null   int64\n",
            " 6   wellness_program          2189 non-null   int64\n",
            " 7   seek_help                 2189 non-null   int64\n",
            " 8   anonymity                 2189 non-null   int64\n",
            " 9   leave                     2189 non-null   int64\n",
            " 10  mental_importance         2189 non-null   int64\n",
            " 11  neg_consequence_coworker  2189 non-null   int64\n",
            " 12  discuss_mh                2189 non-null   int64\n",
            " 13  work_interfere            2189 non-null   int64\n",
            " 14  coworkers                 2189 non-null   int64\n",
            " 15  supervisor                2189 non-null   int64\n",
            " 16  mental_health_interview   2189 non-null   int64\n",
            " 17  family_history            2189 non-null   int64\n",
            " 18  past_mental_health        2189 non-null   int64\n",
            " 19  mental_health             2189 non-null   int64\n",
            " 20  mental_health_diagnosed   2189 non-null   int64\n",
            " 21  treatment                 2189 non-null   int64\n",
            " 22  age                       2189 non-null   int64\n",
            " 23  gender                    2189 non-null   int64\n",
            " 24  country                   2189 non-null   int64\n",
            "dtypes: int64(25)\n",
            "memory usage: 444.6 KB\n"
          ]
        }
      ]
    },
    {
      "cell_type": "code",
      "source": [
        "X = data.drop([\"mental_health_diagnosed\"], axis=1)\n",
        "y = data['mental_health_diagnosed']\n",
        "\n",
        "X_train, X_test, y_train, y_test = train_test_split(X, y, test_size=0.2,stratify=y, random_state=42)"
      ],
      "metadata": {
        "id": "DQQukUFnWQeC"
      },
      "execution_count": 158,
      "outputs": []
    },
    {
      "cell_type": "code",
      "source": [
        "# Dictionary to store evaluation metrics\n",
        "results = {}\n",
        "\n",
        "# Loop through each classifier\n",
        "for name, clf in classifiers.items():\n",
        "    # Train the classifier\n",
        "    clf.fit(X_train, y_train)\n",
        "\n",
        "    # Make predictions on the test set\n",
        "    y_pred = clf.predict(X_test)\n",
        "\n",
        "    # Calculate evaluation metrics\n",
        "    accuracy = accuracy_score(y_test, y_pred)\n",
        "    precision = precision_score(y_test, y_pred)\n",
        "    recall = recall_score(y_test, y_pred)\n",
        "    f1 = f1_score(y_test, y_pred)\n",
        "    roc_auc = roc_auc_score(y_test, y_pred)\n",
        "    kappa = cohen_kappa_score(y_test, y_pred)\n",
        "    confusion = confusion_matrix(y_test, y_pred)\n",
        "    geometric_mean = geometric_mean_score(y_test, y_pred)\n",
        "    balanced_accuracy = balanced_accuracy_score(y_test, y_pred)\n",
        "\n",
        "    # Store the results in the dictionary\n",
        "    results[name] = {\n",
        "        \"Accuracy\": accuracy,\n",
        "        \"Precision\": precision,\n",
        "        \"Recall\": recall,\n",
        "        \"F1 Score\": f1,\n",
        "        \"ROC AUC\": roc_auc,\n",
        "        \"Kappa\": kappa,\n",
        "        \"Geometric Mean\": geometric_mean,\n",
        "        \"Balanced Accuracy\": balanced_accuracy,\n",
        "        \"Confusion Matrix\": confusion,\n",
        "    }\n",
        "\n",
        "# Display the results\n",
        "for name, metrics in results.items():\n",
        "    print(f\"--- {name} ---\")\n",
        "    print(\"Accuracy: {:.3f}\".format(metrics[\"Accuracy\"]))\n",
        "    print(\"Precision: {:.3f}\".format(metrics[\"Precision\"]))\n",
        "    print(\"Recall: {:.3f}\".format(metrics[\"Recall\"]))\n",
        "    print(\"F1 Score: {:.3f}\".format(metrics[\"F1 Score\"]))\n",
        "    print(\"ROC AUC: {:.3f}\".format(metrics[\"ROC AUC\"]))\n",
        "    print(\"Kappa: {:.3f}\".format(metrics[\"Kappa\"]))\n",
        "    print(\"Geometric Mean: {:.3f}\".format(metrics[\"Geometric Mean\"]))\n",
        "    print(\"Balanced Accuracy: {:.3f}\".format(metrics[\"Balanced Accuracy\"]))\n",
        "    print(\"Confusion Matrix:\")\n",
        "    print(metrics[\"Confusion Matrix\"])\n",
        "    print(\"\\n\")"
      ],
      "metadata": {
        "colab": {
          "base_uri": "https://localhost:8080/"
        },
        "id": "ORixb4_kWThC",
        "outputId": "b42573cb-b089-4009-bbaa-7d20c1558f20"
      },
      "execution_count": 159,
      "outputs": [
        {
          "output_type": "stream",
          "name": "stdout",
          "text": [
            "--- Support Vector Machine ---\n",
            "Accuracy: 0.662\n",
            "Precision: 0.662\n",
            "Recall: 1.000\n",
            "F1 Score: 0.797\n",
            "ROC AUC: 0.500\n",
            "Kappa: 0.000\n",
            "Geometric Mean: 0.000\n",
            "Balanced Accuracy: 0.500\n",
            "Confusion Matrix:\n",
            "[[  0 148]\n",
            " [  0 290]]\n",
            "\n",
            "\n",
            "--- Naive Bayes ---\n",
            "Accuracy: 0.886\n",
            "Precision: 0.920\n",
            "Recall: 0.907\n",
            "F1 Score: 0.913\n",
            "ROC AUC: 0.876\n",
            "Kappa: 0.747\n",
            "Geometric Mean: 0.875\n",
            "Balanced Accuracy: 0.876\n",
            "Confusion Matrix:\n",
            "[[125  23]\n",
            " [ 27 263]]\n",
            "\n",
            "\n",
            "--- Random Forest ---\n",
            "Accuracy: 0.913\n",
            "Precision: 0.912\n",
            "Recall: 0.962\n",
            "F1 Score: 0.936\n",
            "ROC AUC: 0.890\n",
            "Kappa: 0.801\n",
            "Geometric Mean: 0.887\n",
            "Balanced Accuracy: 0.890\n",
            "Confusion Matrix:\n",
            "[[121  27]\n",
            " [ 11 279]]\n",
            "\n",
            "\n",
            "--- Logistic Regression ---\n",
            "Accuracy: 0.890\n",
            "Precision: 0.885\n",
            "Recall: 0.959\n",
            "F1 Score: 0.921\n",
            "ROC AUC: 0.858\n",
            "Kappa: 0.745\n",
            "Geometric Mean: 0.852\n",
            "Balanced Accuracy: 0.858\n",
            "Confusion Matrix:\n",
            "[[112  36]\n",
            " [ 12 278]]\n",
            "\n",
            "\n",
            "--- K-Nearest Neighbors ---\n",
            "Accuracy: 0.724\n",
            "Precision: 0.732\n",
            "Recall: 0.921\n",
            "F1 Score: 0.815\n",
            "ROC AUC: 0.629\n",
            "Kappa: 0.295\n",
            "Geometric Mean: 0.558\n",
            "Balanced Accuracy: 0.629\n",
            "Confusion Matrix:\n",
            "[[ 50  98]\n",
            " [ 23 267]]\n",
            "\n",
            "\n",
            "--- XGBoost ---\n",
            "Accuracy: 0.913\n",
            "Precision: 0.920\n",
            "Recall: 0.952\n",
            "F1 Score: 0.936\n",
            "ROC AUC: 0.895\n",
            "Kappa: 0.803\n",
            "Geometric Mean: 0.893\n",
            "Balanced Accuracy: 0.895\n",
            "Confusion Matrix:\n",
            "[[124  24]\n",
            " [ 14 276]]\n",
            "\n",
            "\n",
            "--- AdaBoost ---\n",
            "Accuracy: 0.902\n",
            "Precision: 0.910\n",
            "Recall: 0.945\n",
            "F1 Score: 0.927\n",
            "ROC AUC: 0.881\n",
            "Kappa: 0.777\n",
            "Geometric Mean: 0.879\n",
            "Balanced Accuracy: 0.881\n",
            "Confusion Matrix:\n",
            "[[121  27]\n",
            " [ 16 274]]\n",
            "\n",
            "\n"
          ]
        }
      ]
    },
    {
      "cell_type": "markdown",
      "source": [
        "### **Hot Deck Imputation**"
      ],
      "metadata": {
        "id": "iOZmi11DXCyy"
      }
    },
    {
      "cell_type": "code",
      "source": [
        "data = pd.read_csv(\"Clean Mental Health.csv\")"
      ],
      "metadata": {
        "id": "mFiiC0G2XkC6"
      },
      "execution_count": 160,
      "outputs": []
    },
    {
      "cell_type": "code",
      "source": [
        "columns_to_impute = data.columns[data.columns != \"mental_health_diagnosed\"]\n",
        "imputed_data = data.copy()\n",
        "\n",
        "# Iterate through columns to impute missing values with mode\n",
        "for column in columns_to_impute:\n",
        "  vars_to_impute = [column]\n",
        "\n",
        "  for var in vars_to_impute:\n",
        "      # Create a donor pool consisting of cases without missing values for the current variable\n",
        "      donor_pool = imputed_data.dropna(subset=[var])\n",
        "\n",
        "      # Iterate over each case with a missing value for the current variable\n",
        "      for index, row in imputed_data[imputed_data[var].isnull()].iterrows():\n",
        "          # Check if there are any donor cases available\n",
        "          if not donor_pool.empty:\n",
        "              # Find the closest donor case based on a chosen similarity measure\n",
        "              similarity_scores = np.abs(donor_pool[vars_to_impute] - row[vars_to_impute])\n",
        "              closest_donor = donor_pool.iloc[similarity_scores.sum(axis=1).idxmin()]\n",
        "\n",
        "              # Impute the missing value with the value from the closest donor case\n",
        "              imputed_data.at[index, var] = closest_donor[var]\n",
        "          else:\n",
        "              # Handle the case where there are no donor cases available\n",
        "              # You can choose to skip imputation or use another imputation method\n",
        "              imputed_data.at[index, var] = np.nan  # or any other imputation approach\n",
        "\n",
        "data = imputed_data\n",
        "data.info()"
      ],
      "metadata": {
        "colab": {
          "base_uri": "https://localhost:8080/"
        },
        "id": "SdGtyDhcboMq",
        "outputId": "4c18bd95-f69e-46d6-9c57-542a0e23f50f"
      },
      "execution_count": 161,
      "outputs": [
        {
          "output_type": "stream",
          "name": "stdout",
          "text": [
            "<class 'pandas.core.frame.DataFrame'>\n",
            "RangeIndex: 3269 entries, 0 to 3268\n",
            "Data columns (total 25 columns):\n",
            " #   Column                    Non-Null Count  Dtype  \n",
            "---  ------                    --------------  -----  \n",
            " 0   self_employed             3269 non-null   int64  \n",
            " 1   no_employees              3269 non-null   float64\n",
            " 2   tech_company              3269 non-null   float64\n",
            " 3   company_role              3269 non-null   float64\n",
            " 4   benefits                  3269 non-null   float64\n",
            " 5   care_options              3269 non-null   float64\n",
            " 6   wellness_program          3269 non-null   float64\n",
            " 7   seek_help                 3269 non-null   float64\n",
            " 8   anonymity                 3269 non-null   float64\n",
            " 9   leave                     3269 non-null   float64\n",
            " 10  mental_importance         3269 non-null   float64\n",
            " 11  neg_consequence_coworker  3269 non-null   float64\n",
            " 12  discuss_mh                3269 non-null   float64\n",
            " 13  work_interfere            3269 non-null   float64\n",
            " 14  coworkers                 3269 non-null   float64\n",
            " 15  supervisor                3269 non-null   float64\n",
            " 16  mental_health_interview   3269 non-null   int64  \n",
            " 17  family_history            3269 non-null   int64  \n",
            " 18  past_mental_health        3269 non-null   float64\n",
            " 19  mental_health             3269 non-null   int64  \n",
            " 20  mental_health_diagnosed   2189 non-null   float64\n",
            " 21  treatment                 3269 non-null   int64  \n",
            " 22  age                       3269 non-null   float64\n",
            " 23  gender                    3269 non-null   int64  \n",
            " 24  country                   3269 non-null   int64  \n",
            "dtypes: float64(18), int64(7)\n",
            "memory usage: 638.6 KB\n"
          ]
        }
      ]
    },
    {
      "cell_type": "code",
      "source": [
        "data = data.dropna()\n",
        "\n",
        "# Convert all columns to int data type\n",
        "for column in data.columns:\n",
        "    data[column] = data[column].astype('int64')\n",
        "\n",
        "data.info()"
      ],
      "metadata": {
        "colab": {
          "base_uri": "https://localhost:8080/"
        },
        "id": "SBqdwRSbX337",
        "outputId": "c6851e15-ca73-434f-c050-3653fad85226"
      },
      "execution_count": 162,
      "outputs": [
        {
          "output_type": "stream",
          "name": "stdout",
          "text": [
            "<class 'pandas.core.frame.DataFrame'>\n",
            "Int64Index: 2189 entries, 0 to 3268\n",
            "Data columns (total 25 columns):\n",
            " #   Column                    Non-Null Count  Dtype\n",
            "---  ------                    --------------  -----\n",
            " 0   self_employed             2189 non-null   int64\n",
            " 1   no_employees              2189 non-null   int64\n",
            " 2   tech_company              2189 non-null   int64\n",
            " 3   company_role              2189 non-null   int64\n",
            " 4   benefits                  2189 non-null   int64\n",
            " 5   care_options              2189 non-null   int64\n",
            " 6   wellness_program          2189 non-null   int64\n",
            " 7   seek_help                 2189 non-null   int64\n",
            " 8   anonymity                 2189 non-null   int64\n",
            " 9   leave                     2189 non-null   int64\n",
            " 10  mental_importance         2189 non-null   int64\n",
            " 11  neg_consequence_coworker  2189 non-null   int64\n",
            " 12  discuss_mh                2189 non-null   int64\n",
            " 13  work_interfere            2189 non-null   int64\n",
            " 14  coworkers                 2189 non-null   int64\n",
            " 15  supervisor                2189 non-null   int64\n",
            " 16  mental_health_interview   2189 non-null   int64\n",
            " 17  family_history            2189 non-null   int64\n",
            " 18  past_mental_health        2189 non-null   int64\n",
            " 19  mental_health             2189 non-null   int64\n",
            " 20  mental_health_diagnosed   2189 non-null   int64\n",
            " 21  treatment                 2189 non-null   int64\n",
            " 22  age                       2189 non-null   int64\n",
            " 23  gender                    2189 non-null   int64\n",
            " 24  country                   2189 non-null   int64\n",
            "dtypes: int64(25)\n",
            "memory usage: 444.6 KB\n"
          ]
        }
      ]
    },
    {
      "cell_type": "code",
      "source": [
        "X = data.drop([\"mental_health_diagnosed\"], axis=1)\n",
        "y = data['mental_health_diagnosed']\n",
        "\n",
        "X_train, X_test, y_train, y_test = train_test_split(X, y, test_size=0.2,stratify=y, random_state=42)"
      ],
      "metadata": {
        "id": "TQO0EMjbX53y"
      },
      "execution_count": 163,
      "outputs": []
    },
    {
      "cell_type": "code",
      "source": [
        "# Dictionary to store evaluation metrics\n",
        "results = {}\n",
        "\n",
        "# Loop through each classifier\n",
        "for name, clf in classifiers.items():\n",
        "    # Train the classifier\n",
        "    clf.fit(X_train, y_train)\n",
        "\n",
        "    # Make predictions on the test set\n",
        "    y_pred = clf.predict(X_test)\n",
        "\n",
        "    # Calculate evaluation metrics\n",
        "    accuracy = accuracy_score(y_test, y_pred)\n",
        "    precision = precision_score(y_test, y_pred)\n",
        "    recall = recall_score(y_test, y_pred)\n",
        "    f1 = f1_score(y_test, y_pred)\n",
        "    roc_auc = roc_auc_score(y_test, y_pred)\n",
        "    kappa = cohen_kappa_score(y_test, y_pred)\n",
        "    confusion = confusion_matrix(y_test, y_pred)\n",
        "    geometric_mean = geometric_mean_score(y_test, y_pred)\n",
        "    balanced_accuracy = balanced_accuracy_score(y_test, y_pred)\n",
        "\n",
        "    # Store the results in the dictionary\n",
        "    results[name] = {\n",
        "        \"Accuracy\": accuracy,\n",
        "        \"Precision\": precision,\n",
        "        \"Recall\": recall,\n",
        "        \"F1 Score\": f1,\n",
        "        \"ROC AUC\": roc_auc,\n",
        "        \"Kappa\": kappa,\n",
        "        \"Geometric Mean\": geometric_mean,\n",
        "        \"Balanced Accuracy\": balanced_accuracy,\n",
        "        \"Confusion Matrix\": confusion,\n",
        "    }\n",
        "\n",
        "# Display the results\n",
        "for name, metrics in results.items():\n",
        "    print(f\"--- {name} ---\")\n",
        "    print(\"Accuracy: {:.3f}\".format(metrics[\"Accuracy\"]))\n",
        "    print(\"Precision: {:.3f}\".format(metrics[\"Precision\"]))\n",
        "    print(\"Recall: {:.3f}\".format(metrics[\"Recall\"]))\n",
        "    print(\"F1 Score: {:.3f}\".format(metrics[\"F1 Score\"]))\n",
        "    print(\"ROC AUC: {:.3f}\".format(metrics[\"ROC AUC\"]))\n",
        "    print(\"Kappa: {:.3f}\".format(metrics[\"Kappa\"]))\n",
        "    print(\"Geometric Mean: {:.3f}\".format(metrics[\"Geometric Mean\"]))\n",
        "    print(\"Balanced Accuracy: {:.3f}\".format(metrics[\"Balanced Accuracy\"]))\n",
        "    print(\"Confusion Matrix:\")\n",
        "    print(metrics[\"Confusion Matrix\"])\n",
        "    print(\"\\n\")"
      ],
      "metadata": {
        "colab": {
          "base_uri": "https://localhost:8080/"
        },
        "id": "0ZWhYhLEX8Dy",
        "outputId": "61a25cca-292a-49a2-ec2f-9743880e2625"
      },
      "execution_count": 164,
      "outputs": [
        {
          "output_type": "stream",
          "name": "stdout",
          "text": [
            "--- Support Vector Machine ---\n",
            "Accuracy: 0.662\n",
            "Precision: 0.662\n",
            "Recall: 1.000\n",
            "F1 Score: 0.797\n",
            "ROC AUC: 0.500\n",
            "Kappa: 0.000\n",
            "Geometric Mean: 0.000\n",
            "Balanced Accuracy: 0.500\n",
            "Confusion Matrix:\n",
            "[[  0 148]\n",
            " [  0 290]]\n",
            "\n",
            "\n",
            "--- Naive Bayes ---\n",
            "Accuracy: 0.856\n",
            "Precision: 0.945\n",
            "Recall: 0.831\n",
            "F1 Score: 0.884\n",
            "ROC AUC: 0.868\n",
            "Kappa: 0.696\n",
            "Geometric Mean: 0.867\n",
            "Balanced Accuracy: 0.868\n",
            "Confusion Matrix:\n",
            "[[134  14]\n",
            " [ 49 241]]\n",
            "\n",
            "\n",
            "--- Random Forest ---\n",
            "Accuracy: 0.916\n",
            "Precision: 0.920\n",
            "Recall: 0.955\n",
            "F1 Score: 0.937\n",
            "ROC AUC: 0.897\n",
            "Kappa: 0.808\n",
            "Geometric Mean: 0.895\n",
            "Balanced Accuracy: 0.897\n",
            "Confusion Matrix:\n",
            "[[124  24]\n",
            " [ 13 277]]\n",
            "\n",
            "\n",
            "--- Logistic Regression ---\n",
            "Accuracy: 0.890\n",
            "Precision: 0.883\n",
            "Recall: 0.962\n",
            "F1 Score: 0.921\n",
            "ROC AUC: 0.856\n",
            "Kappa: 0.744\n",
            "Geometric Mean: 0.849\n",
            "Balanced Accuracy: 0.856\n",
            "Confusion Matrix:\n",
            "[[111  37]\n",
            " [ 11 279]]\n",
            "\n",
            "\n",
            "--- K-Nearest Neighbors ---\n",
            "Accuracy: 0.758\n",
            "Precision: 0.754\n",
            "Recall: 0.941\n",
            "F1 Score: 0.837\n",
            "ROC AUC: 0.670\n",
            "Kappa: 0.386\n",
            "Geometric Mean: 0.613\n",
            "Balanced Accuracy: 0.670\n",
            "Confusion Matrix:\n",
            "[[ 59  89]\n",
            " [ 17 273]]\n",
            "\n",
            "\n",
            "--- XGBoost ---\n",
            "Accuracy: 0.913\n",
            "Precision: 0.920\n",
            "Recall: 0.952\n",
            "F1 Score: 0.936\n",
            "ROC AUC: 0.895\n",
            "Kappa: 0.803\n",
            "Geometric Mean: 0.893\n",
            "Balanced Accuracy: 0.895\n",
            "Confusion Matrix:\n",
            "[[124  24]\n",
            " [ 14 276]]\n",
            "\n",
            "\n",
            "--- AdaBoost ---\n",
            "Accuracy: 0.909\n",
            "Precision: 0.917\n",
            "Recall: 0.948\n",
            "F1 Score: 0.932\n",
            "ROC AUC: 0.890\n",
            "Kappa: 0.792\n",
            "Geometric Mean: 0.888\n",
            "Balanced Accuracy: 0.890\n",
            "Confusion Matrix:\n",
            "[[123  25]\n",
            " [ 15 275]]\n",
            "\n",
            "\n"
          ]
        }
      ]
    },
    {
      "cell_type": "markdown",
      "source": [
        "### **K-Nearest Neighbors Imputation**"
      ],
      "metadata": {
        "id": "Cou3lIvQYAI7"
      }
    },
    {
      "cell_type": "code",
      "source": [
        "data = pd.read_csv(\"Clean Mental Health.csv\")"
      ],
      "metadata": {
        "id": "wByl3vUnYG2i"
      },
      "execution_count": 165,
      "outputs": []
    },
    {
      "cell_type": "code",
      "source": [
        "target_column = 'mental_health_diagnosed'\n",
        "y = data[target_column]\n",
        "\n",
        "# Remove the target column from the DataFrame for imputation\n",
        "X = data.drop(columns=[target_column])\n",
        "\n",
        "# Perform KNN imputation\n",
        "imputer = KNNImputer(n_neighbors=5)  # You can adjust the number of neighbors (k) as needed\n",
        "X_imputed = imputer.fit_transform(X)\n",
        "\n",
        "# Convert the imputed array back to a DataFrame\n",
        "X_imputed_df = pd.DataFrame(X_imputed, columns=X.columns)\n",
        "\n",
        "# Combine the imputed data with the target column\n",
        "data_imputed = pd.concat([X_imputed_df, y], axis=1)\n",
        "\n",
        "data = data_imputed\n",
        "data.info()"
      ],
      "metadata": {
        "colab": {
          "base_uri": "https://localhost:8080/"
        },
        "id": "co1GelGXYf0y",
        "outputId": "0fa59687-3b2e-42d6-ce84-6f53d5ade6e4"
      },
      "execution_count": 166,
      "outputs": [
        {
          "output_type": "stream",
          "name": "stdout",
          "text": [
            "<class 'pandas.core.frame.DataFrame'>\n",
            "RangeIndex: 3269 entries, 0 to 3268\n",
            "Data columns (total 25 columns):\n",
            " #   Column                    Non-Null Count  Dtype  \n",
            "---  ------                    --------------  -----  \n",
            " 0   self_employed             3269 non-null   float64\n",
            " 1   no_employees              3269 non-null   float64\n",
            " 2   tech_company              3269 non-null   float64\n",
            " 3   company_role              3269 non-null   float64\n",
            " 4   benefits                  3269 non-null   float64\n",
            " 5   care_options              3269 non-null   float64\n",
            " 6   wellness_program          3269 non-null   float64\n",
            " 7   seek_help                 3269 non-null   float64\n",
            " 8   anonymity                 3269 non-null   float64\n",
            " 9   leave                     3269 non-null   float64\n",
            " 10  mental_importance         3269 non-null   float64\n",
            " 11  neg_consequence_coworker  3269 non-null   float64\n",
            " 12  discuss_mh                3269 non-null   float64\n",
            " 13  work_interfere            3269 non-null   float64\n",
            " 14  coworkers                 3269 non-null   float64\n",
            " 15  supervisor                3269 non-null   float64\n",
            " 16  mental_health_interview   3269 non-null   float64\n",
            " 17  family_history            3269 non-null   float64\n",
            " 18  past_mental_health        3269 non-null   float64\n",
            " 19  mental_health             3269 non-null   float64\n",
            " 20  treatment                 3269 non-null   float64\n",
            " 21  age                       3269 non-null   float64\n",
            " 22  gender                    3269 non-null   float64\n",
            " 23  country                   3269 non-null   float64\n",
            " 24  mental_health_diagnosed   2189 non-null   float64\n",
            "dtypes: float64(25)\n",
            "memory usage: 638.6 KB\n"
          ]
        }
      ]
    },
    {
      "cell_type": "code",
      "source": [
        "data = data.dropna()\n",
        "\n",
        "# Convert all columns to int data type\n",
        "for column in data.columns:\n",
        "    data[column] = data[column].astype('int64')\n",
        "\n",
        "data.info()"
      ],
      "metadata": {
        "colab": {
          "base_uri": "https://localhost:8080/"
        },
        "id": "u1tssJ8DYmta",
        "outputId": "e519aff3-354b-42f5-a73d-aab4e0772d64"
      },
      "execution_count": 167,
      "outputs": [
        {
          "output_type": "stream",
          "name": "stdout",
          "text": [
            "<class 'pandas.core.frame.DataFrame'>\n",
            "Int64Index: 2189 entries, 0 to 3268\n",
            "Data columns (total 25 columns):\n",
            " #   Column                    Non-Null Count  Dtype\n",
            "---  ------                    --------------  -----\n",
            " 0   self_employed             2189 non-null   int64\n",
            " 1   no_employees              2189 non-null   int64\n",
            " 2   tech_company              2189 non-null   int64\n",
            " 3   company_role              2189 non-null   int64\n",
            " 4   benefits                  2189 non-null   int64\n",
            " 5   care_options              2189 non-null   int64\n",
            " 6   wellness_program          2189 non-null   int64\n",
            " 7   seek_help                 2189 non-null   int64\n",
            " 8   anonymity                 2189 non-null   int64\n",
            " 9   leave                     2189 non-null   int64\n",
            " 10  mental_importance         2189 non-null   int64\n",
            " 11  neg_consequence_coworker  2189 non-null   int64\n",
            " 12  discuss_mh                2189 non-null   int64\n",
            " 13  work_interfere            2189 non-null   int64\n",
            " 14  coworkers                 2189 non-null   int64\n",
            " 15  supervisor                2189 non-null   int64\n",
            " 16  mental_health_interview   2189 non-null   int64\n",
            " 17  family_history            2189 non-null   int64\n",
            " 18  past_mental_health        2189 non-null   int64\n",
            " 19  mental_health             2189 non-null   int64\n",
            " 20  treatment                 2189 non-null   int64\n",
            " 21  age                       2189 non-null   int64\n",
            " 22  gender                    2189 non-null   int64\n",
            " 23  country                   2189 non-null   int64\n",
            " 24  mental_health_diagnosed   2189 non-null   int64\n",
            "dtypes: int64(25)\n",
            "memory usage: 444.6 KB\n"
          ]
        }
      ]
    },
    {
      "cell_type": "code",
      "source": [
        "X = data.drop([\"mental_health_diagnosed\"], axis=1)\n",
        "y = data['mental_health_diagnosed']\n",
        "\n",
        "X_train, X_test, y_train, y_test = train_test_split(X, y, test_size=0.2,stratify=y, random_state=42)"
      ],
      "metadata": {
        "id": "QR720_oAYoiZ"
      },
      "execution_count": 168,
      "outputs": []
    },
    {
      "cell_type": "code",
      "source": [
        "# Dictionary to store evaluation metrics\n",
        "results = {}\n",
        "\n",
        "# Loop through each classifier\n",
        "for name, clf in classifiers.items():\n",
        "    # Train the classifier\n",
        "    clf.fit(X_train, y_train)\n",
        "\n",
        "    # Make predictions on the test set\n",
        "    y_pred = clf.predict(X_test)\n",
        "\n",
        "    # Calculate evaluation metrics\n",
        "    accuracy = accuracy_score(y_test, y_pred)\n",
        "    precision = precision_score(y_test, y_pred)\n",
        "    recall = recall_score(y_test, y_pred)\n",
        "    f1 = f1_score(y_test, y_pred)\n",
        "    roc_auc = roc_auc_score(y_test, y_pred)\n",
        "    kappa = cohen_kappa_score(y_test, y_pred)\n",
        "    confusion = confusion_matrix(y_test, y_pred)\n",
        "    geometric_mean = geometric_mean_score(y_test, y_pred)\n",
        "    balanced_accuracy = balanced_accuracy_score(y_test, y_pred)\n",
        "\n",
        "    # Store the results in the dictionary\n",
        "    results[name] = {\n",
        "        \"Accuracy\": accuracy,\n",
        "        \"Precision\": precision,\n",
        "        \"Recall\": recall,\n",
        "        \"F1 Score\": f1,\n",
        "        \"ROC AUC\": roc_auc,\n",
        "        \"Kappa\": kappa,\n",
        "        \"Geometric Mean\": geometric_mean,\n",
        "        \"Balanced Accuracy\": balanced_accuracy,\n",
        "        \"Confusion Matrix\": confusion,\n",
        "    }\n",
        "\n",
        "# Display the results\n",
        "for name, metrics in results.items():\n",
        "    print(f\"--- {name} ---\")\n",
        "    print(\"Accuracy: {:.3f}\".format(metrics[\"Accuracy\"]))\n",
        "    print(\"Precision: {:.3f}\".format(metrics[\"Precision\"]))\n",
        "    print(\"Recall: {:.3f}\".format(metrics[\"Recall\"]))\n",
        "    print(\"F1 Score: {:.3f}\".format(metrics[\"F1 Score\"]))\n",
        "    print(\"ROC AUC: {:.3f}\".format(metrics[\"ROC AUC\"]))\n",
        "    print(\"Kappa: {:.3f}\".format(metrics[\"Kappa\"]))\n",
        "    print(\"Geometric Mean: {:.3f}\".format(metrics[\"Geometric Mean\"]))\n",
        "    print(\"Balanced Accuracy: {:.3f}\".format(metrics[\"Balanced Accuracy\"]))\n",
        "    print(\"Confusion Matrix:\")\n",
        "    print(metrics[\"Confusion Matrix\"])\n",
        "    print(\"\\n\")"
      ],
      "metadata": {
        "colab": {
          "base_uri": "https://localhost:8080/"
        },
        "id": "IPGyh-x3Yqyy",
        "outputId": "11d0e3a7-6259-4c01-c9c6-0171b25262a6"
      },
      "execution_count": 169,
      "outputs": [
        {
          "output_type": "stream",
          "name": "stdout",
          "text": [
            "--- Support Vector Machine ---\n",
            "Accuracy: 0.662\n",
            "Precision: 0.662\n",
            "Recall: 1.000\n",
            "F1 Score: 0.797\n",
            "ROC AUC: 0.500\n",
            "Kappa: 0.000\n",
            "Geometric Mean: 0.000\n",
            "Balanced Accuracy: 0.500\n",
            "Confusion Matrix:\n",
            "[[  0 148]\n",
            " [  0 290]]\n",
            "\n",
            "\n",
            "--- Naive Bayes ---\n",
            "Accuracy: 0.890\n",
            "Precision: 0.929\n",
            "Recall: 0.903\n",
            "F1 Score: 0.916\n",
            "ROC AUC: 0.884\n",
            "Kappa: 0.758\n",
            "Geometric Mean: 0.884\n",
            "Balanced Accuracy: 0.884\n",
            "Confusion Matrix:\n",
            "[[128  20]\n",
            " [ 28 262]]\n",
            "\n",
            "\n",
            "--- Random Forest ---\n",
            "Accuracy: 0.916\n",
            "Precision: 0.912\n",
            "Recall: 0.966\n",
            "F1 Score: 0.938\n",
            "ROC AUC: 0.892\n",
            "Kappa: 0.806\n",
            "Geometric Mean: 0.888\n",
            "Balanced Accuracy: 0.892\n",
            "Confusion Matrix:\n",
            "[[121  27]\n",
            " [ 10 280]]\n",
            "\n",
            "\n",
            "--- Logistic Regression ---\n",
            "Accuracy: 0.888\n",
            "Precision: 0.883\n",
            "Recall: 0.959\n",
            "F1 Score: 0.919\n",
            "ROC AUC: 0.854\n",
            "Kappa: 0.739\n",
            "Geometric Mean: 0.848\n",
            "Balanced Accuracy: 0.854\n",
            "Confusion Matrix:\n",
            "[[111  37]\n",
            " [ 12 278]]\n",
            "\n",
            "\n",
            "--- K-Nearest Neighbors ---\n",
            "Accuracy: 0.724\n",
            "Precision: 0.723\n",
            "Recall: 0.945\n",
            "F1 Score: 0.819\n",
            "ROC AUC: 0.618\n",
            "Kappa: 0.276\n",
            "Geometric Mean: 0.524\n",
            "Balanced Accuracy: 0.618\n",
            "Confusion Matrix:\n",
            "[[ 43 105]\n",
            " [ 16 274]]\n",
            "\n",
            "\n",
            "--- XGBoost ---\n",
            "Accuracy: 0.906\n",
            "Precision: 0.919\n",
            "Recall: 0.941\n",
            "F1 Score: 0.930\n",
            "ROC AUC: 0.890\n",
            "Kappa: 0.788\n",
            "Geometric Mean: 0.888\n",
            "Balanced Accuracy: 0.890\n",
            "Confusion Matrix:\n",
            "[[124  24]\n",
            " [ 17 273]]\n",
            "\n",
            "\n",
            "--- AdaBoost ---\n",
            "Accuracy: 0.906\n",
            "Precision: 0.914\n",
            "Recall: 0.948\n",
            "F1 Score: 0.931\n",
            "ROC AUC: 0.886\n",
            "Kappa: 0.787\n",
            "Geometric Mean: 0.884\n",
            "Balanced Accuracy: 0.886\n",
            "Confusion Matrix:\n",
            "[[122  26]\n",
            " [ 15 275]]\n",
            "\n",
            "\n"
          ]
        }
      ]
    }
  ]
}