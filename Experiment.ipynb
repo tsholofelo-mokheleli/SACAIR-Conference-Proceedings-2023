{
  "nbformat": 4,
  "nbformat_minor": 0,
  "metadata": {
    "colab": {
      "provenance": [],
      "authorship_tag": "ABX9TyOxAu0wZkssyhjznKk79YIQ",
      "include_colab_link": true
    },
    "kernelspec": {
      "name": "python3",
      "display_name": "Python 3"
    },
    "language_info": {
      "name": "python"
    }
  },
  "cells": [
    {
      "cell_type": "markdown",
      "metadata": {
        "id": "view-in-github",
        "colab_type": "text"
      },
      "source": [
        "<a href=\"https://colab.research.google.com/github/tsholofelo-mokheleli/SACAIR-Conference-Proceedings-2023/blob/main/Experiment.ipynb\" target=\"_parent\"><img src=\"https://colab.research.google.com/assets/colab-badge.svg\" alt=\"Open In Colab\"/></a>"
      ]
    },
    {
      "cell_type": "code",
      "execution_count": 1,
      "metadata": {
        "id": "rmjMaUkvEjBz"
      },
      "outputs": [],
      "source": [
        "# Load the libraries\n",
        "import pandas  as pd\n",
        "import numpy as np\n",
        "import seaborn as sns\n",
        "import matplotlib.pyplot as plt\n",
        "\n",
        "# Warning filter\n",
        "import warnings\n",
        "warnings.filterwarnings('ignore')\n",
        "cmap=sns.color_palette('Blues_r')\n",
        "\n",
        "# Metrics\n",
        "from sklearn.model_selection import train_test_split\n",
        "from sklearn.metrics import accuracy_score, precision_score, recall_score, f1_score, roc_auc_score, cohen_kappa_score, confusion_matrix, balanced_accuracy_score\n",
        "from imblearn.metrics import geometric_mean_score\n",
        "\n",
        "# Classifiers\n",
        "from sklearn.naive_bayes import GaussianNB\n",
        "from sklearn.ensemble import RandomForestClassifier\n",
        "from sklearn.linear_model import LogisticRegression\n",
        "from sklearn.neighbors import KNeighborsClassifier\n",
        "\n",
        "# Boosting Classifiers\n",
        "from xgboost import XGBClassifier\n",
        "from sklearn.ensemble import AdaBoostClassifier\n",
        "\n",
        "# Imputation\n",
        "from sklearn.experimental import enable_iterative_imputer  # noqa\n",
        "from sklearn.impute import IterativeImputer\n",
        "from sklearn.neighbors import NearestNeighbors\n",
        "from sklearn.impute import KNNImputer\n",
        "\n",
        "# Plot Theme\n",
        "sns.set_style(\"darkgrid\")\n",
        "plt.style.use(\"seaborn-deep\")"
      ]
    },
    {
      "cell_type": "markdown",
      "source": [
        "### **Load Data**"
      ],
      "metadata": {
        "id": "ozUM1jrxFjmk"
      }
    },
    {
      "cell_type": "code",
      "source": [
        "data = pd.read_csv(\"Clean Mental Health.csv\")"
      ],
      "metadata": {
        "id": "um2eny9XFnvz"
      },
      "execution_count": 2,
      "outputs": []
    },
    {
      "cell_type": "code",
      "source": [
        "data.info()"
      ],
      "metadata": {
        "colab": {
          "base_uri": "https://localhost:8080/"
        },
        "id": "ovp1Xfr7J8fc",
        "outputId": "c151778b-19e8-417d-b499-0c5302e2a917"
      },
      "execution_count": 3,
      "outputs": [
        {
          "output_type": "stream",
          "name": "stdout",
          "text": [
            "<class 'pandas.core.frame.DataFrame'>\n",
            "RangeIndex: 3269 entries, 0 to 3268\n",
            "Data columns (total 25 columns):\n",
            " #   Column                    Non-Null Count  Dtype  \n",
            "---  ------                    --------------  -----  \n",
            " 0   self_employed             3269 non-null   int64  \n",
            " 1   no_employees              2723 non-null   float64\n",
            " 2   tech_company              2723 non-null   float64\n",
            " 3   company_role              1840 non-null   float64\n",
            " 4   benefits                  2723 non-null   float64\n",
            " 5   care_options              2427 non-null   float64\n",
            " 6   wellness_program          2723 non-null   float64\n",
            " 7   seek_help                 2723 non-null   float64\n",
            " 8   anonymity                 2723 non-null   float64\n",
            " 9   leave                     2723 non-null   float64\n",
            " 10  mental_importance         2723 non-null   float64\n",
            " 11  neg_consequence_coworker  2980 non-null   float64\n",
            " 12  discuss_mh                1859 non-null   float64\n",
            " 13  work_interfere            546 non-null    float64\n",
            " 14  coworkers                 2841 non-null   float64\n",
            " 15  supervisor                2841 non-null   float64\n",
            " 16  mental_health_interview   3269 non-null   int64  \n",
            " 17  family_history            3269 non-null   int64  \n",
            " 18  past_mental_health        3246 non-null   float64\n",
            " 19  mental_health             3269 non-null   int64  \n",
            " 20  mental_health_diagnosed   2189 non-null   float64\n",
            " 21  treatment                 3269 non-null   int64  \n",
            " 22  age                       3259 non-null   float64\n",
            " 23  gender                    3269 non-null   int64  \n",
            " 24  country                   3269 non-null   int64  \n",
            "dtypes: float64(18), int64(7)\n",
            "memory usage: 638.6 KB\n"
          ]
        }
      ]
    },
    {
      "cell_type": "markdown",
      "source": [
        "### **Initial Data Imputation**"
      ],
      "metadata": {
        "id": "cl9FnprVSg1K"
      }
    },
    {
      "cell_type": "code",
      "source": [
        "columns_to_impute = data.columns[data.columns != \"mental_health_diagnosed\"]\n",
        "\n",
        "# Impute NaN values with -1 in the selected columns\n",
        "data[columns_to_impute] = data[columns_to_impute].fillna(-1)"
      ],
      "metadata": {
        "id": "Y2S9tTsyMqbq"
      },
      "execution_count": 4,
      "outputs": []
    },
    {
      "cell_type": "code",
      "source": [
        "data.info()"
      ],
      "metadata": {
        "colab": {
          "base_uri": "https://localhost:8080/"
        },
        "id": "Q7D4xnrmLDb6",
        "outputId": "b10aecef-9387-4850-ca3b-228ab0285d11"
      },
      "execution_count": 5,
      "outputs": [
        {
          "output_type": "stream",
          "name": "stdout",
          "text": [
            "<class 'pandas.core.frame.DataFrame'>\n",
            "RangeIndex: 3269 entries, 0 to 3268\n",
            "Data columns (total 25 columns):\n",
            " #   Column                    Non-Null Count  Dtype  \n",
            "---  ------                    --------------  -----  \n",
            " 0   self_employed             3269 non-null   int64  \n",
            " 1   no_employees              3269 non-null   float64\n",
            " 2   tech_company              3269 non-null   float64\n",
            " 3   company_role              3269 non-null   float64\n",
            " 4   benefits                  3269 non-null   float64\n",
            " 5   care_options              3269 non-null   float64\n",
            " 6   wellness_program          3269 non-null   float64\n",
            " 7   seek_help                 3269 non-null   float64\n",
            " 8   anonymity                 3269 non-null   float64\n",
            " 9   leave                     3269 non-null   float64\n",
            " 10  mental_importance         3269 non-null   float64\n",
            " 11  neg_consequence_coworker  3269 non-null   float64\n",
            " 12  discuss_mh                3269 non-null   float64\n",
            " 13  work_interfere            3269 non-null   float64\n",
            " 14  coworkers                 3269 non-null   float64\n",
            " 15  supervisor                3269 non-null   float64\n",
            " 16  mental_health_interview   3269 non-null   int64  \n",
            " 17  family_history            3269 non-null   int64  \n",
            " 18  past_mental_health        3269 non-null   float64\n",
            " 19  mental_health             3269 non-null   int64  \n",
            " 20  mental_health_diagnosed   2189 non-null   float64\n",
            " 21  treatment                 3269 non-null   int64  \n",
            " 22  age                       3269 non-null   float64\n",
            " 23  gender                    3269 non-null   int64  \n",
            " 24  country                   3269 non-null   int64  \n",
            "dtypes: float64(18), int64(7)\n",
            "memory usage: 638.6 KB\n"
          ]
        }
      ]
    },
    {
      "cell_type": "code",
      "source": [
        "#Get the numbers of missing values in each column\n",
        "missing = data.isnull().sum()\n",
        "\n",
        "#Get the percentage of missing values in each column\n",
        "missing_pct = round(data.isnull().sum()/len(data) * 100, 1)\n",
        "\n",
        "data_missing = pd.concat([missing, missing_pct], axis=1)\n",
        "data_missing.columns = [\"Num\", \"%\"]\n",
        "print(data_missing)"
      ],
      "metadata": {
        "colab": {
          "base_uri": "https://localhost:8080/"
        },
        "id": "TqBIY9MITdRa",
        "outputId": "0d5f453b-9d12-4e96-cdb3-2e820af14be3"
      },
      "execution_count": 6,
      "outputs": [
        {
          "output_type": "stream",
          "name": "stdout",
          "text": [
            "                           Num     %\n",
            "self_employed                0   0.0\n",
            "no_employees                 0   0.0\n",
            "tech_company                 0   0.0\n",
            "company_role                 0   0.0\n",
            "benefits                     0   0.0\n",
            "care_options                 0   0.0\n",
            "wellness_program             0   0.0\n",
            "seek_help                    0   0.0\n",
            "anonymity                    0   0.0\n",
            "leave                        0   0.0\n",
            "mental_importance            0   0.0\n",
            "neg_consequence_coworker     0   0.0\n",
            "discuss_mh                   0   0.0\n",
            "work_interfere               0   0.0\n",
            "coworkers                    0   0.0\n",
            "supervisor                   0   0.0\n",
            "mental_health_interview      0   0.0\n",
            "family_history               0   0.0\n",
            "past_mental_health           0   0.0\n",
            "mental_health                0   0.0\n",
            "mental_health_diagnosed   1080  33.0\n",
            "treatment                    0   0.0\n",
            "age                          0   0.0\n",
            "gender                       0   0.0\n",
            "country                      0   0.0\n"
          ]
        }
      ]
    },
    {
      "cell_type": "code",
      "source": [
        "data = data.dropna()\n",
        "\n",
        "# Convert all columns to int data type\n",
        "for column in data.columns:\n",
        "    data[column] = data[column].astype('int64')\n",
        "\n",
        "data.info()"
      ],
      "metadata": {
        "colab": {
          "base_uri": "https://localhost:8080/"
        },
        "id": "2lebSAByPwqq",
        "outputId": "556f75d1-0a76-4ad7-c90f-18f84b576f48"
      },
      "execution_count": 7,
      "outputs": [
        {
          "output_type": "stream",
          "name": "stdout",
          "text": [
            "<class 'pandas.core.frame.DataFrame'>\n",
            "Int64Index: 2189 entries, 0 to 3268\n",
            "Data columns (total 25 columns):\n",
            " #   Column                    Non-Null Count  Dtype\n",
            "---  ------                    --------------  -----\n",
            " 0   self_employed             2189 non-null   int64\n",
            " 1   no_employees              2189 non-null   int64\n",
            " 2   tech_company              2189 non-null   int64\n",
            " 3   company_role              2189 non-null   int64\n",
            " 4   benefits                  2189 non-null   int64\n",
            " 5   care_options              2189 non-null   int64\n",
            " 6   wellness_program          2189 non-null   int64\n",
            " 7   seek_help                 2189 non-null   int64\n",
            " 8   anonymity                 2189 non-null   int64\n",
            " 9   leave                     2189 non-null   int64\n",
            " 10  mental_importance         2189 non-null   int64\n",
            " 11  neg_consequence_coworker  2189 non-null   int64\n",
            " 12  discuss_mh                2189 non-null   int64\n",
            " 13  work_interfere            2189 non-null   int64\n",
            " 14  coworkers                 2189 non-null   int64\n",
            " 15  supervisor                2189 non-null   int64\n",
            " 16  mental_health_interview   2189 non-null   int64\n",
            " 17  family_history            2189 non-null   int64\n",
            " 18  past_mental_health        2189 non-null   int64\n",
            " 19  mental_health             2189 non-null   int64\n",
            " 20  mental_health_diagnosed   2189 non-null   int64\n",
            " 21  treatment                 2189 non-null   int64\n",
            " 22  age                       2189 non-null   int64\n",
            " 23  gender                    2189 non-null   int64\n",
            " 24  country                   2189 non-null   int64\n",
            "dtypes: int64(25)\n",
            "memory usage: 444.6 KB\n"
          ]
        }
      ]
    },
    {
      "cell_type": "markdown",
      "source": [
        "### **Split the data**"
      ],
      "metadata": {
        "id": "ZYQgiViTSlXS"
      }
    },
    {
      "cell_type": "code",
      "source": [
        "X = data.drop([\"mental_health_diagnosed\"], axis=1)\n",
        "y = data['mental_health_diagnosed']\n",
        "\n",
        "X_train, X_test, y_train, y_test = train_test_split(X, y, test_size=0.2,stratify=y, random_state=42)"
      ],
      "metadata": {
        "id": "S-9NLko6P98r"
      },
      "execution_count": 8,
      "outputs": []
    },
    {
      "cell_type": "markdown",
      "source": [
        "Using ***stratify*** is especially important when dealing with imbalanced datasets, where one class is much more frequent than the others. It helps prevent your training or testing set from having a significantly different class distribution than the original data, which could lead to biased model performance evaluation."
      ],
      "metadata": {
        "id": "CAWSV-k5QKzD"
      }
    },
    {
      "cell_type": "markdown",
      "source": [
        "### **Define Classifiers**"
      ],
      "metadata": {
        "id": "6xFnVV63T6w6"
      }
    },
    {
      "cell_type": "code",
      "source": [
        "# Define a list of classifiers\n",
        "classifiers = {\n",
        "    \"Naive Bayes\": GaussianNB(),\n",
        "    \"Random Forest\": RandomForestClassifier(),\n",
        "    \"Logistic Regression\": LogisticRegression(),\n",
        "    \"K-Nearest Neighbors\": KNeighborsClassifier(),\n",
        "    \"XGBoost\": XGBClassifier(),\n",
        "    \"AdaBoost\": AdaBoostClassifier()\n",
        "}"
      ],
      "metadata": {
        "id": "nYMQPWU9QTWS"
      },
      "execution_count": 9,
      "outputs": []
    },
    {
      "cell_type": "markdown",
      "source": [
        "### **Baseline Models**"
      ],
      "metadata": {
        "id": "QO8go8cxQW9C"
      }
    },
    {
      "cell_type": "code",
      "source": [
        "# Dictionary to store evaluation metrics\n",
        "results = {}\n",
        "\n",
        "# Loop through each classifier\n",
        "for name, clf in classifiers.items():\n",
        "    # Train the classifier\n",
        "    clf.fit(X_train, y_train)\n",
        "\n",
        "    # Make predictions on the test set\n",
        "    y_pred = clf.predict(X_test)\n",
        "\n",
        "    # Calculate evaluation metrics\n",
        "    accuracy = accuracy_score(y_test, y_pred)\n",
        "    precision = precision_score(y_test, y_pred)\n",
        "    recall = recall_score(y_test, y_pred)\n",
        "    f1 = f1_score(y_test, y_pred)\n",
        "    roc_auc = roc_auc_score(y_test, y_pred)\n",
        "    kappa = cohen_kappa_score(y_test, y_pred)\n",
        "    confusion = confusion_matrix(y_test, y_pred)\n",
        "    geometric_mean = geometric_mean_score(y_test, y_pred)\n",
        "    balanced_accuracy = balanced_accuracy_score(y_test, y_pred)\n",
        "\n",
        "    # Store the results in the dictionary\n",
        "    results[name] = {\n",
        "        \"Accuracy\": accuracy,\n",
        "        \"Precision\": precision,\n",
        "        \"Recall\": recall,\n",
        "        \"F1 Score\": f1,\n",
        "        \"ROC AUC\": roc_auc,\n",
        "        \"Kappa\": kappa,\n",
        "        \"Geometric Mean\": geometric_mean,\n",
        "        \"Balanced Accuracy\": balanced_accuracy,\n",
        "        \"Confusion Matrix\": confusion,\n",
        "    }\n",
        "\n",
        "# Display the results\n",
        "for name, metrics in results.items():\n",
        "    print(f\"--- {name} ---\")\n",
        "    print(\"Accuracy: {:.2f}\".format(metrics[\"Accuracy\"]))\n",
        "    print(\"Precision: {:.2f}\".format(metrics[\"Precision\"]))\n",
        "    print(\"Recall: {:.2f}\".format(metrics[\"Recall\"]))\n",
        "    print(\"F1 Score: {:.2f}\".format(metrics[\"F1 Score\"]))\n",
        "    print(\"ROC AUC: {:.2f}\".format(metrics[\"ROC AUC\"]))\n",
        "    print(\"Kappa: {:.2f}\".format(metrics[\"Kappa\"]))\n",
        "    print(\"Geometric Mean: {:.2f}\".format(metrics[\"Geometric Mean\"]))\n",
        "    print(\"Balanced Accuracy: {:.2f}\".format(metrics[\"Balanced Accuracy\"]))\n",
        "    print(\"Confusion Matrix:\")\n",
        "    print(metrics[\"Confusion Matrix\"])\n",
        "    print(\"\\n\")"
      ],
      "metadata": {
        "colab": {
          "base_uri": "https://localhost:8080/"
        },
        "id": "KwwfGv9FSEwr",
        "outputId": "33389002-6cf9-4775-e261-bf0edabecb80"
      },
      "execution_count": 10,
      "outputs": [
        {
          "output_type": "stream",
          "name": "stdout",
          "text": [
            "--- Naive Bayes ---\n",
            "Accuracy: 0.88\n",
            "Precision: 0.92\n",
            "Recall: 0.89\n",
            "F1 Score: 0.90\n",
            "ROC AUC: 0.87\n",
            "Kappa: 0.73\n",
            "Geometric Mean: 0.87\n",
            "Balanced Accuracy: 0.87\n",
            "Confusion Matrix:\n",
            "[[127  21]\n",
            " [ 33 257]]\n",
            "\n",
            "\n",
            "--- Random Forest ---\n",
            "Accuracy: 0.92\n",
            "Precision: 0.92\n",
            "Recall: 0.96\n",
            "F1 Score: 0.94\n",
            "ROC AUC: 0.90\n",
            "Kappa: 0.81\n",
            "Geometric Mean: 0.89\n",
            "Balanced Accuracy: 0.90\n",
            "Confusion Matrix:\n",
            "[[123  25]\n",
            " [ 11 279]]\n",
            "\n",
            "\n",
            "--- Logistic Regression ---\n",
            "Accuracy: 0.89\n",
            "Precision: 0.89\n",
            "Recall: 0.96\n",
            "F1 Score: 0.92\n",
            "ROC AUC: 0.86\n",
            "Kappa: 0.75\n",
            "Geometric Mean: 0.85\n",
            "Balanced Accuracy: 0.86\n",
            "Confusion Matrix:\n",
            "[[112  36]\n",
            " [ 11 279]]\n",
            "\n",
            "\n",
            "--- K-Nearest Neighbors ---\n",
            "Accuracy: 0.73\n",
            "Precision: 0.74\n",
            "Recall: 0.90\n",
            "F1 Score: 0.81\n",
            "ROC AUC: 0.65\n",
            "Kappa: 0.33\n",
            "Geometric Mean: 0.60\n",
            "Balanced Accuracy: 0.65\n",
            "Confusion Matrix:\n",
            "[[ 59  89]\n",
            " [ 30 260]]\n",
            "\n",
            "\n",
            "--- XGBoost ---\n",
            "Accuracy: 0.91\n",
            "Precision: 0.93\n",
            "Recall: 0.94\n",
            "F1 Score: 0.93\n",
            "ROC AUC: 0.90\n",
            "Kappa: 0.80\n",
            "Geometric Mean: 0.90\n",
            "Balanced Accuracy: 0.90\n",
            "Confusion Matrix:\n",
            "[[127  21]\n",
            " [ 17 273]]\n",
            "\n",
            "\n",
            "--- AdaBoost ---\n",
            "Accuracy: 0.92\n",
            "Precision: 0.93\n",
            "Recall: 0.95\n",
            "F1 Score: 0.94\n",
            "ROC AUC: 0.90\n",
            "Kappa: 0.81\n",
            "Geometric Mean: 0.90\n",
            "Balanced Accuracy: 0.90\n",
            "Confusion Matrix:\n",
            "[[126  22]\n",
            " [ 15 275]]\n",
            "\n",
            "\n"
          ]
        }
      ]
    },
    {
      "cell_type": "markdown",
      "source": [
        "### **Mode Imputation**"
      ],
      "metadata": {
        "id": "HriHMSzfS8ny"
      }
    },
    {
      "cell_type": "code",
      "source": [
        "data = pd.read_csv(\"Clean Mental Health.csv\")"
      ],
      "metadata": {
        "id": "qNLB8Ul6TFKa"
      },
      "execution_count": 11,
      "outputs": []
    },
    {
      "cell_type": "code",
      "source": [
        "columns_to_impute = data.columns[data.columns != \"mental_health_diagnosed\"]\n",
        "\n",
        "# Iterate through columns to impute missing values with mode\n",
        "for column in columns_to_impute:\n",
        "    mode_value = data[column].mode()[0]\n",
        "    data[column].fillna(mode_value, inplace=True)\n",
        "\n",
        "data.info()"
      ],
      "metadata": {
        "colab": {
          "base_uri": "https://localhost:8080/"
        },
        "id": "kkxn62kzTTMU",
        "outputId": "896e2b17-eea6-4113-83c1-ee968faf8573"
      },
      "execution_count": 12,
      "outputs": [
        {
          "output_type": "stream",
          "name": "stdout",
          "text": [
            "<class 'pandas.core.frame.DataFrame'>\n",
            "RangeIndex: 3269 entries, 0 to 3268\n",
            "Data columns (total 25 columns):\n",
            " #   Column                    Non-Null Count  Dtype  \n",
            "---  ------                    --------------  -----  \n",
            " 0   self_employed             3269 non-null   int64  \n",
            " 1   no_employees              3269 non-null   float64\n",
            " 2   tech_company              3269 non-null   float64\n",
            " 3   company_role              3269 non-null   float64\n",
            " 4   benefits                  3269 non-null   float64\n",
            " 5   care_options              3269 non-null   float64\n",
            " 6   wellness_program          3269 non-null   float64\n",
            " 7   seek_help                 3269 non-null   float64\n",
            " 8   anonymity                 3269 non-null   float64\n",
            " 9   leave                     3269 non-null   float64\n",
            " 10  mental_importance         3269 non-null   float64\n",
            " 11  neg_consequence_coworker  3269 non-null   float64\n",
            " 12  discuss_mh                3269 non-null   float64\n",
            " 13  work_interfere            3269 non-null   float64\n",
            " 14  coworkers                 3269 non-null   float64\n",
            " 15  supervisor                3269 non-null   float64\n",
            " 16  mental_health_interview   3269 non-null   int64  \n",
            " 17  family_history            3269 non-null   int64  \n",
            " 18  past_mental_health        3269 non-null   float64\n",
            " 19  mental_health             3269 non-null   int64  \n",
            " 20  mental_health_diagnosed   2189 non-null   float64\n",
            " 21  treatment                 3269 non-null   int64  \n",
            " 22  age                       3269 non-null   float64\n",
            " 23  gender                    3269 non-null   int64  \n",
            " 24  country                   3269 non-null   int64  \n",
            "dtypes: float64(18), int64(7)\n",
            "memory usage: 638.6 KB\n"
          ]
        }
      ]
    },
    {
      "cell_type": "code",
      "source": [
        "data = data.dropna()\n",
        "\n",
        "# Convert all columns to int data type\n",
        "for column in data.columns:\n",
        "    data[column] = data[column].astype('int64')\n",
        "\n",
        "data.info()"
      ],
      "metadata": {
        "colab": {
          "base_uri": "https://localhost:8080/"
        },
        "id": "Ppf7qJwUT22i",
        "outputId": "d330207d-088f-481d-ae70-6b5cdbfc0e02"
      },
      "execution_count": 13,
      "outputs": [
        {
          "output_type": "stream",
          "name": "stdout",
          "text": [
            "<class 'pandas.core.frame.DataFrame'>\n",
            "Int64Index: 2189 entries, 0 to 3268\n",
            "Data columns (total 25 columns):\n",
            " #   Column                    Non-Null Count  Dtype\n",
            "---  ------                    --------------  -----\n",
            " 0   self_employed             2189 non-null   int64\n",
            " 1   no_employees              2189 non-null   int64\n",
            " 2   tech_company              2189 non-null   int64\n",
            " 3   company_role              2189 non-null   int64\n",
            " 4   benefits                  2189 non-null   int64\n",
            " 5   care_options              2189 non-null   int64\n",
            " 6   wellness_program          2189 non-null   int64\n",
            " 7   seek_help                 2189 non-null   int64\n",
            " 8   anonymity                 2189 non-null   int64\n",
            " 9   leave                     2189 non-null   int64\n",
            " 10  mental_importance         2189 non-null   int64\n",
            " 11  neg_consequence_coworker  2189 non-null   int64\n",
            " 12  discuss_mh                2189 non-null   int64\n",
            " 13  work_interfere            2189 non-null   int64\n",
            " 14  coworkers                 2189 non-null   int64\n",
            " 15  supervisor                2189 non-null   int64\n",
            " 16  mental_health_interview   2189 non-null   int64\n",
            " 17  family_history            2189 non-null   int64\n",
            " 18  past_mental_health        2189 non-null   int64\n",
            " 19  mental_health             2189 non-null   int64\n",
            " 20  mental_health_diagnosed   2189 non-null   int64\n",
            " 21  treatment                 2189 non-null   int64\n",
            " 22  age                       2189 non-null   int64\n",
            " 23  gender                    2189 non-null   int64\n",
            " 24  country                   2189 non-null   int64\n",
            "dtypes: int64(25)\n",
            "memory usage: 444.6 KB\n"
          ]
        }
      ]
    },
    {
      "cell_type": "code",
      "source": [
        "X = data.drop([\"mental_health_diagnosed\"], axis=1)\n",
        "y = data['mental_health_diagnosed']\n",
        "\n",
        "X_train, X_test, y_train, y_test = train_test_split(X, y, test_size=0.2,stratify=y, random_state=42)"
      ],
      "metadata": {
        "id": "1DP9N_WmUb1q"
      },
      "execution_count": 14,
      "outputs": []
    },
    {
      "cell_type": "code",
      "source": [
        "# Dictionary to store evaluation metrics\n",
        "results = {}\n",
        "\n",
        "# Loop through each classifier\n",
        "for name, clf in classifiers.items():\n",
        "    # Train the classifier\n",
        "    clf.fit(X_train, y_train)\n",
        "\n",
        "    # Make predictions on the test set\n",
        "    y_pred = clf.predict(X_test)\n",
        "\n",
        "    # Calculate evaluation metrics\n",
        "    accuracy = accuracy_score(y_test, y_pred)\n",
        "    precision = precision_score(y_test, y_pred)\n",
        "    recall = recall_score(y_test, y_pred)\n",
        "    f1 = f1_score(y_test, y_pred)\n",
        "    roc_auc = roc_auc_score(y_test, y_pred)\n",
        "    kappa = cohen_kappa_score(y_test, y_pred)\n",
        "    confusion = confusion_matrix(y_test, y_pred)\n",
        "    geometric_mean = geometric_mean_score(y_test, y_pred)\n",
        "    balanced_accuracy = balanced_accuracy_score(y_test, y_pred)\n",
        "\n",
        "    # Store the results in the dictionary\n",
        "    results[name] = {\n",
        "        \"Accuracy\": accuracy,\n",
        "        \"Precision\": precision,\n",
        "        \"Recall\": recall,\n",
        "        \"F1 Score\": f1,\n",
        "        \"ROC AUC\": roc_auc,\n",
        "        \"Kappa\": kappa,\n",
        "        \"Geometric Mean\": geometric_mean,\n",
        "        \"Balanced Accuracy\": balanced_accuracy,\n",
        "        \"Confusion Matrix\": confusion,\n",
        "    }\n",
        "\n",
        "# Display the results\n",
        "for name, metrics in results.items():\n",
        "    print(f\"--- {name} ---\")\n",
        "    print(\"Accuracy: {:.2f}\".format(metrics[\"Accuracy\"]))\n",
        "    print(\"Precision: {:.2f}\".format(metrics[\"Precision\"]))\n",
        "    print(\"Recall: {:.2f}\".format(metrics[\"Recall\"]))\n",
        "    print(\"F1 Score: {:.2f}\".format(metrics[\"F1 Score\"]))\n",
        "    print(\"ROC AUC: {:.2f}\".format(metrics[\"ROC AUC\"]))\n",
        "    print(\"Kappa: {:.2f}\".format(metrics[\"Kappa\"]))\n",
        "    print(\"Geometric Mean: {:.2f}\".format(metrics[\"Geometric Mean\"]))\n",
        "    print(\"Balanced Accuracy: {:.2f}\".format(metrics[\"Balanced Accuracy\"]))\n",
        "    print(\"Confusion Matrix:\")\n",
        "    print(metrics[\"Confusion Matrix\"])\n",
        "    print(\"\\n\")"
      ],
      "metadata": {
        "colab": {
          "base_uri": "https://localhost:8080/"
        },
        "id": "FCtLNDi0UiE6",
        "outputId": "ad0ee494-d657-45eb-d66e-536b3f6135b5"
      },
      "execution_count": 15,
      "outputs": [
        {
          "output_type": "stream",
          "name": "stdout",
          "text": [
            "--- Naive Bayes ---\n",
            "Accuracy: 0.89\n",
            "Precision: 0.93\n",
            "Recall: 0.90\n",
            "F1 Score: 0.91\n",
            "ROC AUC: 0.88\n",
            "Kappa: 0.75\n",
            "Geometric Mean: 0.88\n",
            "Balanced Accuracy: 0.88\n",
            "Confusion Matrix:\n",
            "[[128  20]\n",
            " [ 30 260]]\n",
            "\n",
            "\n",
            "--- Random Forest ---\n",
            "Accuracy: 0.92\n",
            "Precision: 0.91\n",
            "Recall: 0.97\n",
            "F1 Score: 0.94\n",
            "ROC AUC: 0.89\n",
            "Kappa: 0.81\n",
            "Geometric Mean: 0.89\n",
            "Balanced Accuracy: 0.89\n",
            "Confusion Matrix:\n",
            "[[121  27]\n",
            " [ 10 280]]\n",
            "\n",
            "\n",
            "--- Logistic Regression ---\n",
            "Accuracy: 0.89\n",
            "Precision: 0.89\n",
            "Recall: 0.96\n",
            "F1 Score: 0.92\n",
            "ROC AUC: 0.86\n",
            "Kappa: 0.75\n",
            "Geometric Mean: 0.85\n",
            "Balanced Accuracy: 0.86\n",
            "Confusion Matrix:\n",
            "[[112  36]\n",
            " [ 11 279]]\n",
            "\n",
            "\n",
            "--- K-Nearest Neighbors ---\n",
            "Accuracy: 0.73\n",
            "Precision: 0.74\n",
            "Recall: 0.93\n",
            "F1 Score: 0.82\n",
            "ROC AUC: 0.64\n",
            "Kappa: 0.32\n",
            "Geometric Mean: 0.57\n",
            "Balanced Accuracy: 0.64\n",
            "Confusion Matrix:\n",
            "[[ 51  97]\n",
            " [ 20 270]]\n",
            "\n",
            "\n",
            "--- XGBoost ---\n",
            "Accuracy: 0.92\n",
            "Precision: 0.92\n",
            "Recall: 0.96\n",
            "F1 Score: 0.94\n",
            "ROC AUC: 0.90\n",
            "Kappa: 0.81\n",
            "Geometric Mean: 0.90\n",
            "Balanced Accuracy: 0.90\n",
            "Confusion Matrix:\n",
            "[[124  24]\n",
            " [ 12 278]]\n",
            "\n",
            "\n",
            "--- AdaBoost ---\n",
            "Accuracy: 0.91\n",
            "Precision: 0.92\n",
            "Recall: 0.94\n",
            "F1 Score: 0.93\n",
            "ROC AUC: 0.89\n",
            "Kappa: 0.79\n",
            "Geometric Mean: 0.89\n",
            "Balanced Accuracy: 0.89\n",
            "Confusion Matrix:\n",
            "[[123  25]\n",
            " [ 16 274]]\n",
            "\n",
            "\n"
          ]
        }
      ]
    },
    {
      "cell_type": "markdown",
      "source": [
        "### **Multiple Imputation by Chained Equations (MICE)**"
      ],
      "metadata": {
        "id": "iKXk3KMJVJDZ"
      }
    },
    {
      "cell_type": "code",
      "source": [
        "data = pd.read_csv(\"Clean Mental Health.csv\")"
      ],
      "metadata": {
        "id": "v3emOQiKVK-i"
      },
      "execution_count": 16,
      "outputs": []
    },
    {
      "cell_type": "code",
      "source": [
        "# Initialize the MICE imputer\n",
        "mice_imputer = IterativeImputer()\n",
        "\n",
        "# Exclude the 'mental_health_diagnosed' column from imputation\n",
        "columns_to_impute = [col for col in data.columns if col != 'mental_health_diagnosed']\n",
        "\n",
        "# Perform MICE imputation on the selected columns\n",
        "data[columns_to_impute] = mice_imputer.fit_transform(data[columns_to_impute])\n",
        "\n",
        "data.info()"
      ],
      "metadata": {
        "colab": {
          "base_uri": "https://localhost:8080/"
        },
        "id": "LufffsUvV5Da",
        "outputId": "0bfb7428-0ec8-4844-d31e-ab2c2b800f28"
      },
      "execution_count": 17,
      "outputs": [
        {
          "output_type": "stream",
          "name": "stdout",
          "text": [
            "<class 'pandas.core.frame.DataFrame'>\n",
            "RangeIndex: 3269 entries, 0 to 3268\n",
            "Data columns (total 25 columns):\n",
            " #   Column                    Non-Null Count  Dtype  \n",
            "---  ------                    --------------  -----  \n",
            " 0   self_employed             3269 non-null   float64\n",
            " 1   no_employees              3269 non-null   float64\n",
            " 2   tech_company              3269 non-null   float64\n",
            " 3   company_role              3269 non-null   float64\n",
            " 4   benefits                  3269 non-null   float64\n",
            " 5   care_options              3269 non-null   float64\n",
            " 6   wellness_program          3269 non-null   float64\n",
            " 7   seek_help                 3269 non-null   float64\n",
            " 8   anonymity                 3269 non-null   float64\n",
            " 9   leave                     3269 non-null   float64\n",
            " 10  mental_importance         3269 non-null   float64\n",
            " 11  neg_consequence_coworker  3269 non-null   float64\n",
            " 12  discuss_mh                3269 non-null   float64\n",
            " 13  work_interfere            3269 non-null   float64\n",
            " 14  coworkers                 3269 non-null   float64\n",
            " 15  supervisor                3269 non-null   float64\n",
            " 16  mental_health_interview   3269 non-null   float64\n",
            " 17  family_history            3269 non-null   float64\n",
            " 18  past_mental_health        3269 non-null   float64\n",
            " 19  mental_health             3269 non-null   float64\n",
            " 20  mental_health_diagnosed   2189 non-null   float64\n",
            " 21  treatment                 3269 non-null   float64\n",
            " 22  age                       3269 non-null   float64\n",
            " 23  gender                    3269 non-null   float64\n",
            " 24  country                   3269 non-null   float64\n",
            "dtypes: float64(25)\n",
            "memory usage: 638.6 KB\n"
          ]
        }
      ]
    },
    {
      "cell_type": "code",
      "source": [
        "data = data.dropna()\n",
        "\n",
        "# Convert all columns to int data type\n",
        "for column in data.columns:\n",
        "    data[column] = data[column].astype('int64')\n",
        "\n",
        "data.info()"
      ],
      "metadata": {
        "colab": {
          "base_uri": "https://localhost:8080/"
        },
        "id": "LJHMxZBFWN0y",
        "outputId": "d0314b90-5119-4e84-fa4d-3fbd33509736"
      },
      "execution_count": 18,
      "outputs": [
        {
          "output_type": "stream",
          "name": "stdout",
          "text": [
            "<class 'pandas.core.frame.DataFrame'>\n",
            "Int64Index: 2189 entries, 0 to 3268\n",
            "Data columns (total 25 columns):\n",
            " #   Column                    Non-Null Count  Dtype\n",
            "---  ------                    --------------  -----\n",
            " 0   self_employed             2189 non-null   int64\n",
            " 1   no_employees              2189 non-null   int64\n",
            " 2   tech_company              2189 non-null   int64\n",
            " 3   company_role              2189 non-null   int64\n",
            " 4   benefits                  2189 non-null   int64\n",
            " 5   care_options              2189 non-null   int64\n",
            " 6   wellness_program          2189 non-null   int64\n",
            " 7   seek_help                 2189 non-null   int64\n",
            " 8   anonymity                 2189 non-null   int64\n",
            " 9   leave                     2189 non-null   int64\n",
            " 10  mental_importance         2189 non-null   int64\n",
            " 11  neg_consequence_coworker  2189 non-null   int64\n",
            " 12  discuss_mh                2189 non-null   int64\n",
            " 13  work_interfere            2189 non-null   int64\n",
            " 14  coworkers                 2189 non-null   int64\n",
            " 15  supervisor                2189 non-null   int64\n",
            " 16  mental_health_interview   2189 non-null   int64\n",
            " 17  family_history            2189 non-null   int64\n",
            " 18  past_mental_health        2189 non-null   int64\n",
            " 19  mental_health             2189 non-null   int64\n",
            " 20  mental_health_diagnosed   2189 non-null   int64\n",
            " 21  treatment                 2189 non-null   int64\n",
            " 22  age                       2189 non-null   int64\n",
            " 23  gender                    2189 non-null   int64\n",
            " 24  country                   2189 non-null   int64\n",
            "dtypes: int64(25)\n",
            "memory usage: 444.6 KB\n"
          ]
        }
      ]
    },
    {
      "cell_type": "code",
      "source": [
        "X = data.drop([\"mental_health_diagnosed\"], axis=1)\n",
        "y = data['mental_health_diagnosed']\n",
        "\n",
        "X_train, X_test, y_train, y_test = train_test_split(X, y, test_size=0.2,stratify=y, random_state=42)"
      ],
      "metadata": {
        "id": "DQQukUFnWQeC"
      },
      "execution_count": 19,
      "outputs": []
    },
    {
      "cell_type": "code",
      "source": [
        "# Dictionary to store evaluation metrics\n",
        "results = {}\n",
        "\n",
        "# Loop through each classifier\n",
        "for name, clf in classifiers.items():\n",
        "    # Train the classifier\n",
        "    clf.fit(X_train, y_train)\n",
        "\n",
        "    # Make predictions on the test set\n",
        "    y_pred = clf.predict(X_test)\n",
        "\n",
        "    # Calculate evaluation metrics\n",
        "    accuracy = accuracy_score(y_test, y_pred)\n",
        "    precision = precision_score(y_test, y_pred)\n",
        "    recall = recall_score(y_test, y_pred)\n",
        "    f1 = f1_score(y_test, y_pred)\n",
        "    roc_auc = roc_auc_score(y_test, y_pred)\n",
        "    kappa = cohen_kappa_score(y_test, y_pred)\n",
        "    confusion = confusion_matrix(y_test, y_pred)\n",
        "    geometric_mean = geometric_mean_score(y_test, y_pred)\n",
        "    balanced_accuracy = balanced_accuracy_score(y_test, y_pred)\n",
        "\n",
        "    # Store the results in the dictionary\n",
        "    results[name] = {\n",
        "        \"Accuracy\": accuracy,\n",
        "        \"Precision\": precision,\n",
        "        \"Recall\": recall,\n",
        "        \"F1 Score\": f1,\n",
        "        \"ROC AUC\": roc_auc,\n",
        "        \"Kappa\": kappa,\n",
        "        \"Geometric Mean\": geometric_mean,\n",
        "        \"Balanced Accuracy\": balanced_accuracy,\n",
        "        \"Confusion Matrix\": confusion,\n",
        "    }\n",
        "\n",
        "# Display the results\n",
        "for name, metrics in results.items():\n",
        "    print(f\"--- {name} ---\")\n",
        "    print(\"Accuracy: {:.2f}\".format(metrics[\"Accuracy\"]))\n",
        "    print(\"Precision: {:.2f}\".format(metrics[\"Precision\"]))\n",
        "    print(\"Recall: {:.2f}\".format(metrics[\"Recall\"]))\n",
        "    print(\"F1 Score: {:.2f}\".format(metrics[\"F1 Score\"]))\n",
        "    print(\"ROC AUC: {:.2f}\".format(metrics[\"ROC AUC\"]))\n",
        "    print(\"Kappa: {:.2f}\".format(metrics[\"Kappa\"]))\n",
        "    print(\"Geometric Mean: {:.2f}\".format(metrics[\"Geometric Mean\"]))\n",
        "    print(\"Balanced Accuracy: {:.2f}\".format(metrics[\"Balanced Accuracy\"]))\n",
        "    print(\"Confusion Matrix:\")\n",
        "    print(metrics[\"Confusion Matrix\"])\n",
        "    print(\"\\n\")"
      ],
      "metadata": {
        "colab": {
          "base_uri": "https://localhost:8080/"
        },
        "id": "ORixb4_kWThC",
        "outputId": "b2af607b-1391-499e-a217-45c1136aa1c4"
      },
      "execution_count": 20,
      "outputs": [
        {
          "output_type": "stream",
          "name": "stdout",
          "text": [
            "--- Naive Bayes ---\n",
            "Accuracy: 0.89\n",
            "Precision: 0.92\n",
            "Recall: 0.91\n",
            "F1 Score: 0.91\n",
            "ROC AUC: 0.88\n",
            "Kappa: 0.75\n",
            "Geometric Mean: 0.88\n",
            "Balanced Accuracy: 0.88\n",
            "Confusion Matrix:\n",
            "[[125  23]\n",
            " [ 27 263]]\n",
            "\n",
            "\n",
            "--- Random Forest ---\n",
            "Accuracy: 0.91\n",
            "Precision: 0.91\n",
            "Recall: 0.96\n",
            "F1 Score: 0.94\n",
            "ROC AUC: 0.89\n",
            "Kappa: 0.80\n",
            "Geometric Mean: 0.89\n",
            "Balanced Accuracy: 0.89\n",
            "Confusion Matrix:\n",
            "[[122  26]\n",
            " [ 12 278]]\n",
            "\n",
            "\n",
            "--- Logistic Regression ---\n",
            "Accuracy: 0.89\n",
            "Precision: 0.89\n",
            "Recall: 0.96\n",
            "F1 Score: 0.92\n",
            "ROC AUC: 0.86\n",
            "Kappa: 0.74\n",
            "Geometric Mean: 0.85\n",
            "Balanced Accuracy: 0.86\n",
            "Confusion Matrix:\n",
            "[[112  36]\n",
            " [ 12 278]]\n",
            "\n",
            "\n",
            "--- K-Nearest Neighbors ---\n",
            "Accuracy: 0.72\n",
            "Precision: 0.73\n",
            "Recall: 0.92\n",
            "F1 Score: 0.82\n",
            "ROC AUC: 0.63\n",
            "Kappa: 0.30\n",
            "Geometric Mean: 0.56\n",
            "Balanced Accuracy: 0.63\n",
            "Confusion Matrix:\n",
            "[[ 50  98]\n",
            " [ 23 267]]\n",
            "\n",
            "\n",
            "--- XGBoost ---\n",
            "Accuracy: 0.91\n",
            "Precision: 0.92\n",
            "Recall: 0.95\n",
            "F1 Score: 0.94\n",
            "ROC AUC: 0.89\n",
            "Kappa: 0.80\n",
            "Geometric Mean: 0.89\n",
            "Balanced Accuracy: 0.89\n",
            "Confusion Matrix:\n",
            "[[124  24]\n",
            " [ 14 276]]\n",
            "\n",
            "\n",
            "--- AdaBoost ---\n",
            "Accuracy: 0.90\n",
            "Precision: 0.91\n",
            "Recall: 0.94\n",
            "F1 Score: 0.93\n",
            "ROC AUC: 0.88\n",
            "Kappa: 0.78\n",
            "Geometric Mean: 0.88\n",
            "Balanced Accuracy: 0.88\n",
            "Confusion Matrix:\n",
            "[[121  27]\n",
            " [ 16 274]]\n",
            "\n",
            "\n"
          ]
        }
      ]
    },
    {
      "cell_type": "markdown",
      "source": [
        "### **Hot Deck Imputation**"
      ],
      "metadata": {
        "id": "iOZmi11DXCyy"
      }
    },
    {
      "cell_type": "code",
      "source": [
        "data = pd.read_csv(\"Clean Mental Health.csv\")"
      ],
      "metadata": {
        "id": "mFiiC0G2XkC6"
      },
      "execution_count": 21,
      "outputs": []
    },
    {
      "cell_type": "code",
      "source": [
        "columns_to_impute = data.columns[data.columns != \"mental_health_diagnosed\"]\n",
        "imputed_data = data.copy()\n",
        "\n",
        "# Iterate through columns to impute missing values with mode\n",
        "for column in columns_to_impute:\n",
        "  vars_to_impute = [column]\n",
        "\n",
        "  for var in vars_to_impute:\n",
        "      # Create a donor pool consisting of cases without missing values for the current variable\n",
        "      donor_pool = imputed_data.dropna(subset=[var])\n",
        "\n",
        "      # Iterate over each case with a missing value for the current variable\n",
        "      for index, row in imputed_data[imputed_data[var].isnull()].iterrows():\n",
        "          # Check if there are any donor cases available\n",
        "          if not donor_pool.empty:\n",
        "              # Find the closest donor case based on a chosen similarity measure\n",
        "              similarity_scores = np.abs(donor_pool[vars_to_impute] - row[vars_to_impute])\n",
        "              closest_donor = donor_pool.iloc[similarity_scores.sum(axis=1).idxmin()]\n",
        "\n",
        "              # Impute the missing value with the value from the closest donor case\n",
        "              imputed_data.at[index, var] = closest_donor[var]\n",
        "          else:\n",
        "              # Handle the case where there are no donor cases available\n",
        "              # You can choose to skip imputation or use another imputation method\n",
        "              imputed_data.at[index, var] = np.nan  # or any other imputation approach\n",
        "\n",
        "data = imputed_data\n",
        "data.info()"
      ],
      "metadata": {
        "colab": {
          "base_uri": "https://localhost:8080/"
        },
        "id": "SdGtyDhcboMq",
        "outputId": "ecd85791-173c-4b12-d5c8-45c563fe94a0"
      },
      "execution_count": 22,
      "outputs": [
        {
          "output_type": "stream",
          "name": "stdout",
          "text": [
            "<class 'pandas.core.frame.DataFrame'>\n",
            "RangeIndex: 3269 entries, 0 to 3268\n",
            "Data columns (total 25 columns):\n",
            " #   Column                    Non-Null Count  Dtype  \n",
            "---  ------                    --------------  -----  \n",
            " 0   self_employed             3269 non-null   int64  \n",
            " 1   no_employees              3269 non-null   float64\n",
            " 2   tech_company              3269 non-null   float64\n",
            " 3   company_role              3269 non-null   float64\n",
            " 4   benefits                  3269 non-null   float64\n",
            " 5   care_options              3269 non-null   float64\n",
            " 6   wellness_program          3269 non-null   float64\n",
            " 7   seek_help                 3269 non-null   float64\n",
            " 8   anonymity                 3269 non-null   float64\n",
            " 9   leave                     3269 non-null   float64\n",
            " 10  mental_importance         3269 non-null   float64\n",
            " 11  neg_consequence_coworker  3269 non-null   float64\n",
            " 12  discuss_mh                3269 non-null   float64\n",
            " 13  work_interfere            3269 non-null   float64\n",
            " 14  coworkers                 3269 non-null   float64\n",
            " 15  supervisor                3269 non-null   float64\n",
            " 16  mental_health_interview   3269 non-null   int64  \n",
            " 17  family_history            3269 non-null   int64  \n",
            " 18  past_mental_health        3269 non-null   float64\n",
            " 19  mental_health             3269 non-null   int64  \n",
            " 20  mental_health_diagnosed   2189 non-null   float64\n",
            " 21  treatment                 3269 non-null   int64  \n",
            " 22  age                       3269 non-null   float64\n",
            " 23  gender                    3269 non-null   int64  \n",
            " 24  country                   3269 non-null   int64  \n",
            "dtypes: float64(18), int64(7)\n",
            "memory usage: 638.6 KB\n"
          ]
        }
      ]
    },
    {
      "cell_type": "code",
      "source": [
        "data = data.dropna()\n",
        "\n",
        "# Convert all columns to int data type\n",
        "for column in data.columns:\n",
        "    data[column] = data[column].astype('int64')\n",
        "\n",
        "data.info()"
      ],
      "metadata": {
        "colab": {
          "base_uri": "https://localhost:8080/"
        },
        "id": "SBqdwRSbX337",
        "outputId": "654e29ed-4a43-496d-fd61-2c5d5661bb87"
      },
      "execution_count": 23,
      "outputs": [
        {
          "output_type": "stream",
          "name": "stdout",
          "text": [
            "<class 'pandas.core.frame.DataFrame'>\n",
            "Int64Index: 2189 entries, 0 to 3268\n",
            "Data columns (total 25 columns):\n",
            " #   Column                    Non-Null Count  Dtype\n",
            "---  ------                    --------------  -----\n",
            " 0   self_employed             2189 non-null   int64\n",
            " 1   no_employees              2189 non-null   int64\n",
            " 2   tech_company              2189 non-null   int64\n",
            " 3   company_role              2189 non-null   int64\n",
            " 4   benefits                  2189 non-null   int64\n",
            " 5   care_options              2189 non-null   int64\n",
            " 6   wellness_program          2189 non-null   int64\n",
            " 7   seek_help                 2189 non-null   int64\n",
            " 8   anonymity                 2189 non-null   int64\n",
            " 9   leave                     2189 non-null   int64\n",
            " 10  mental_importance         2189 non-null   int64\n",
            " 11  neg_consequence_coworker  2189 non-null   int64\n",
            " 12  discuss_mh                2189 non-null   int64\n",
            " 13  work_interfere            2189 non-null   int64\n",
            " 14  coworkers                 2189 non-null   int64\n",
            " 15  supervisor                2189 non-null   int64\n",
            " 16  mental_health_interview   2189 non-null   int64\n",
            " 17  family_history            2189 non-null   int64\n",
            " 18  past_mental_health        2189 non-null   int64\n",
            " 19  mental_health             2189 non-null   int64\n",
            " 20  mental_health_diagnosed   2189 non-null   int64\n",
            " 21  treatment                 2189 non-null   int64\n",
            " 22  age                       2189 non-null   int64\n",
            " 23  gender                    2189 non-null   int64\n",
            " 24  country                   2189 non-null   int64\n",
            "dtypes: int64(25)\n",
            "memory usage: 444.6 KB\n"
          ]
        }
      ]
    },
    {
      "cell_type": "code",
      "source": [
        "X = data.drop([\"mental_health_diagnosed\"], axis=1)\n",
        "y = data['mental_health_diagnosed']\n",
        "\n",
        "X_train, X_test, y_train, y_test = train_test_split(X, y, test_size=0.2,stratify=y, random_state=42)"
      ],
      "metadata": {
        "id": "TQO0EMjbX53y"
      },
      "execution_count": 24,
      "outputs": []
    },
    {
      "cell_type": "code",
      "source": [
        "# Dictionary to store evaluation metrics\n",
        "results = {}\n",
        "\n",
        "# Loop through each classifier\n",
        "for name, clf in classifiers.items():\n",
        "    # Train the classifier\n",
        "    clf.fit(X_train, y_train)\n",
        "\n",
        "    # Make predictions on the test set\n",
        "    y_pred = clf.predict(X_test)\n",
        "\n",
        "    # Calculate evaluation metrics\n",
        "    accuracy = accuracy_score(y_test, y_pred)\n",
        "    precision = precision_score(y_test, y_pred)\n",
        "    recall = recall_score(y_test, y_pred)\n",
        "    f1 = f1_score(y_test, y_pred)\n",
        "    roc_auc = roc_auc_score(y_test, y_pred)\n",
        "    kappa = cohen_kappa_score(y_test, y_pred)\n",
        "    confusion = confusion_matrix(y_test, y_pred)\n",
        "    geometric_mean = geometric_mean_score(y_test, y_pred)\n",
        "    balanced_accuracy = balanced_accuracy_score(y_test, y_pred)\n",
        "\n",
        "    # Store the results in the dictionary\n",
        "    results[name] = {\n",
        "        \"Accuracy\": accuracy,\n",
        "        \"Precision\": precision,\n",
        "        \"Recall\": recall,\n",
        "        \"F1 Score\": f1,\n",
        "        \"ROC AUC\": roc_auc,\n",
        "        \"Kappa\": kappa,\n",
        "        \"Geometric Mean\": geometric_mean,\n",
        "        \"Balanced Accuracy\": balanced_accuracy,\n",
        "        \"Confusion Matrix\": confusion,\n",
        "    }\n",
        "\n",
        "# Display the results\n",
        "for name, metrics in results.items():\n",
        "    print(f\"--- {name} ---\")\n",
        "    print(\"Accuracy: {:.2f}\".format(metrics[\"Accuracy\"]))\n",
        "    print(\"Precision: {:.2f}\".format(metrics[\"Precision\"]))\n",
        "    print(\"Recall: {:.2f}\".format(metrics[\"Recall\"]))\n",
        "    print(\"F1 Score: {:.2f}\".format(metrics[\"F1 Score\"]))\n",
        "    print(\"ROC AUC: {:.2f}\".format(metrics[\"ROC AUC\"]))\n",
        "    print(\"Kappa: {:.2f}\".format(metrics[\"Kappa\"]))\n",
        "    print(\"Geometric Mean: {:.2f}\".format(metrics[\"Geometric Mean\"]))\n",
        "    print(\"Balanced Accuracy: {:.2f}\".format(metrics[\"Balanced Accuracy\"]))\n",
        "    print(\"Confusion Matrix:\")\n",
        "    print(metrics[\"Confusion Matrix\"])\n",
        "    print(\"\\n\")"
      ],
      "metadata": {
        "colab": {
          "base_uri": "https://localhost:8080/"
        },
        "id": "0ZWhYhLEX8Dy",
        "outputId": "a17eae0a-c56f-4ca4-8ec0-77c74825b7c7"
      },
      "execution_count": 25,
      "outputs": [
        {
          "output_type": "stream",
          "name": "stdout",
          "text": [
            "--- Naive Bayes ---\n",
            "Accuracy: 0.86\n",
            "Precision: 0.95\n",
            "Recall: 0.83\n",
            "F1 Score: 0.88\n",
            "ROC AUC: 0.87\n",
            "Kappa: 0.70\n",
            "Geometric Mean: 0.87\n",
            "Balanced Accuracy: 0.87\n",
            "Confusion Matrix:\n",
            "[[134  14]\n",
            " [ 49 241]]\n",
            "\n",
            "\n",
            "--- Random Forest ---\n",
            "Accuracy: 0.92\n",
            "Precision: 0.92\n",
            "Recall: 0.96\n",
            "F1 Score: 0.94\n",
            "ROC AUC: 0.90\n",
            "Kappa: 0.81\n",
            "Geometric Mean: 0.90\n",
            "Balanced Accuracy: 0.90\n",
            "Confusion Matrix:\n",
            "[[124  24]\n",
            " [ 12 278]]\n",
            "\n",
            "\n",
            "--- Logistic Regression ---\n",
            "Accuracy: 0.89\n",
            "Precision: 0.88\n",
            "Recall: 0.96\n",
            "F1 Score: 0.92\n",
            "ROC AUC: 0.86\n",
            "Kappa: 0.74\n",
            "Geometric Mean: 0.85\n",
            "Balanced Accuracy: 0.86\n",
            "Confusion Matrix:\n",
            "[[111  37]\n",
            " [ 11 279]]\n",
            "\n",
            "\n",
            "--- K-Nearest Neighbors ---\n",
            "Accuracy: 0.76\n",
            "Precision: 0.75\n",
            "Recall: 0.94\n",
            "F1 Score: 0.84\n",
            "ROC AUC: 0.67\n",
            "Kappa: 0.39\n",
            "Geometric Mean: 0.61\n",
            "Balanced Accuracy: 0.67\n",
            "Confusion Matrix:\n",
            "[[ 59  89]\n",
            " [ 17 273]]\n",
            "\n",
            "\n",
            "--- XGBoost ---\n",
            "Accuracy: 0.91\n",
            "Precision: 0.92\n",
            "Recall: 0.95\n",
            "F1 Score: 0.94\n",
            "ROC AUC: 0.89\n",
            "Kappa: 0.80\n",
            "Geometric Mean: 0.89\n",
            "Balanced Accuracy: 0.89\n",
            "Confusion Matrix:\n",
            "[[124  24]\n",
            " [ 14 276]]\n",
            "\n",
            "\n",
            "--- AdaBoost ---\n",
            "Accuracy: 0.91\n",
            "Precision: 0.92\n",
            "Recall: 0.95\n",
            "F1 Score: 0.93\n",
            "ROC AUC: 0.89\n",
            "Kappa: 0.79\n",
            "Geometric Mean: 0.89\n",
            "Balanced Accuracy: 0.89\n",
            "Confusion Matrix:\n",
            "[[123  25]\n",
            " [ 15 275]]\n",
            "\n",
            "\n"
          ]
        }
      ]
    },
    {
      "cell_type": "markdown",
      "source": [
        "### **K-Nearest Neighbors Imputation**"
      ],
      "metadata": {
        "id": "Cou3lIvQYAI7"
      }
    },
    {
      "cell_type": "code",
      "source": [
        "data = pd.read_csv(\"Clean Mental Health.csv\")"
      ],
      "metadata": {
        "id": "wByl3vUnYG2i"
      },
      "execution_count": 26,
      "outputs": []
    },
    {
      "cell_type": "code",
      "source": [
        "target_column = 'mental_health_diagnosed'\n",
        "y = data[target_column]\n",
        "\n",
        "# Remove the target column from the DataFrame for imputation\n",
        "X = data.drop(columns=[target_column])\n",
        "\n",
        "# Perform KNN imputation\n",
        "imputer = KNNImputer(n_neighbors=5)  # You can adjust the number of neighbors (k) as needed\n",
        "X_imputed = imputer.fit_transform(X)\n",
        "\n",
        "# Convert the imputed array back to a DataFrame\n",
        "X_imputed_df = pd.DataFrame(X_imputed, columns=X.columns)\n",
        "\n",
        "# Combine the imputed data with the target column\n",
        "data_imputed = pd.concat([X_imputed_df, y], axis=1)\n",
        "\n",
        "data = data_imputed\n",
        "data.info()"
      ],
      "metadata": {
        "colab": {
          "base_uri": "https://localhost:8080/"
        },
        "id": "co1GelGXYf0y",
        "outputId": "d8cc68a2-7139-437c-86fd-82ccafc049ee"
      },
      "execution_count": 27,
      "outputs": [
        {
          "output_type": "stream",
          "name": "stdout",
          "text": [
            "<class 'pandas.core.frame.DataFrame'>\n",
            "RangeIndex: 3269 entries, 0 to 3268\n",
            "Data columns (total 25 columns):\n",
            " #   Column                    Non-Null Count  Dtype  \n",
            "---  ------                    --------------  -----  \n",
            " 0   self_employed             3269 non-null   float64\n",
            " 1   no_employees              3269 non-null   float64\n",
            " 2   tech_company              3269 non-null   float64\n",
            " 3   company_role              3269 non-null   float64\n",
            " 4   benefits                  3269 non-null   float64\n",
            " 5   care_options              3269 non-null   float64\n",
            " 6   wellness_program          3269 non-null   float64\n",
            " 7   seek_help                 3269 non-null   float64\n",
            " 8   anonymity                 3269 non-null   float64\n",
            " 9   leave                     3269 non-null   float64\n",
            " 10  mental_importance         3269 non-null   float64\n",
            " 11  neg_consequence_coworker  3269 non-null   float64\n",
            " 12  discuss_mh                3269 non-null   float64\n",
            " 13  work_interfere            3269 non-null   float64\n",
            " 14  coworkers                 3269 non-null   float64\n",
            " 15  supervisor                3269 non-null   float64\n",
            " 16  mental_health_interview   3269 non-null   float64\n",
            " 17  family_history            3269 non-null   float64\n",
            " 18  past_mental_health        3269 non-null   float64\n",
            " 19  mental_health             3269 non-null   float64\n",
            " 20  treatment                 3269 non-null   float64\n",
            " 21  age                       3269 non-null   float64\n",
            " 22  gender                    3269 non-null   float64\n",
            " 23  country                   3269 non-null   float64\n",
            " 24  mental_health_diagnosed   2189 non-null   float64\n",
            "dtypes: float64(25)\n",
            "memory usage: 638.6 KB\n"
          ]
        }
      ]
    },
    {
      "cell_type": "code",
      "source": [
        "data = data.dropna()\n",
        "\n",
        "# Convert all columns to int data type\n",
        "for column in data.columns:\n",
        "    data[column] = data[column].astype('int64')\n",
        "\n",
        "data.info()"
      ],
      "metadata": {
        "colab": {
          "base_uri": "https://localhost:8080/"
        },
        "id": "u1tssJ8DYmta",
        "outputId": "2d1a8695-12fe-458e-d45a-2e3a0e6d3547"
      },
      "execution_count": 28,
      "outputs": [
        {
          "output_type": "stream",
          "name": "stdout",
          "text": [
            "<class 'pandas.core.frame.DataFrame'>\n",
            "Int64Index: 2189 entries, 0 to 3268\n",
            "Data columns (total 25 columns):\n",
            " #   Column                    Non-Null Count  Dtype\n",
            "---  ------                    --------------  -----\n",
            " 0   self_employed             2189 non-null   int64\n",
            " 1   no_employees              2189 non-null   int64\n",
            " 2   tech_company              2189 non-null   int64\n",
            " 3   company_role              2189 non-null   int64\n",
            " 4   benefits                  2189 non-null   int64\n",
            " 5   care_options              2189 non-null   int64\n",
            " 6   wellness_program          2189 non-null   int64\n",
            " 7   seek_help                 2189 non-null   int64\n",
            " 8   anonymity                 2189 non-null   int64\n",
            " 9   leave                     2189 non-null   int64\n",
            " 10  mental_importance         2189 non-null   int64\n",
            " 11  neg_consequence_coworker  2189 non-null   int64\n",
            " 12  discuss_mh                2189 non-null   int64\n",
            " 13  work_interfere            2189 non-null   int64\n",
            " 14  coworkers                 2189 non-null   int64\n",
            " 15  supervisor                2189 non-null   int64\n",
            " 16  mental_health_interview   2189 non-null   int64\n",
            " 17  family_history            2189 non-null   int64\n",
            " 18  past_mental_health        2189 non-null   int64\n",
            " 19  mental_health             2189 non-null   int64\n",
            " 20  treatment                 2189 non-null   int64\n",
            " 21  age                       2189 non-null   int64\n",
            " 22  gender                    2189 non-null   int64\n",
            " 23  country                   2189 non-null   int64\n",
            " 24  mental_health_diagnosed   2189 non-null   int64\n",
            "dtypes: int64(25)\n",
            "memory usage: 444.6 KB\n"
          ]
        }
      ]
    },
    {
      "cell_type": "code",
      "source": [
        "X = data.drop([\"mental_health_diagnosed\"], axis=1)\n",
        "y = data['mental_health_diagnosed']\n",
        "\n",
        "X_train, X_test, y_train, y_test = train_test_split(X, y, test_size=0.2,stratify=y, random_state=42)"
      ],
      "metadata": {
        "id": "QR720_oAYoiZ"
      },
      "execution_count": 29,
      "outputs": []
    },
    {
      "cell_type": "code",
      "source": [
        "# Dictionary to store evaluation metrics\n",
        "results = {}\n",
        "\n",
        "# Loop through each classifier\n",
        "for name, clf in classifiers.items():\n",
        "    # Train the classifier\n",
        "    clf.fit(X_train, y_train)\n",
        "\n",
        "    # Make predictions on the test set\n",
        "    y_pred = clf.predict(X_test)\n",
        "\n",
        "    # Calculate evaluation metrics\n",
        "    accuracy = accuracy_score(y_test, y_pred)\n",
        "    precision = precision_score(y_test, y_pred)\n",
        "    recall = recall_score(y_test, y_pred)\n",
        "    f1 = f1_score(y_test, y_pred)\n",
        "    roc_auc = roc_auc_score(y_test, y_pred)\n",
        "    kappa = cohen_kappa_score(y_test, y_pred)\n",
        "    confusion = confusion_matrix(y_test, y_pred)\n",
        "    geometric_mean = geometric_mean_score(y_test, y_pred)\n",
        "    balanced_accuracy = balanced_accuracy_score(y_test, y_pred)\n",
        "\n",
        "    # Store the results in the dictionary\n",
        "    results[name] = {\n",
        "        \"Accuracy\": accuracy,\n",
        "        \"Precision\": precision,\n",
        "        \"Recall\": recall,\n",
        "        \"F1 Score\": f1,\n",
        "        \"ROC AUC\": roc_auc,\n",
        "        \"Kappa\": kappa,\n",
        "        \"Geometric Mean\": geometric_mean,\n",
        "        \"Balanced Accuracy\": balanced_accuracy,\n",
        "        \"Confusion Matrix\": confusion,\n",
        "    }\n",
        "\n",
        "# Display the results\n",
        "for name, metrics in results.items():\n",
        "    print(f\"--- {name} ---\")\n",
        "    print(\"Accuracy: {:.2f}\".format(metrics[\"Accuracy\"]))\n",
        "    print(\"Precision: {:.2f}\".format(metrics[\"Precision\"]))\n",
        "    print(\"Recall: {:.2f}\".format(metrics[\"Recall\"]))\n",
        "    print(\"F1 Score: {:.2f}\".format(metrics[\"F1 Score\"]))\n",
        "    print(\"ROC AUC: {:.2f}\".format(metrics[\"ROC AUC\"]))\n",
        "    print(\"Kappa: {:.2f}\".format(metrics[\"Kappa\"]))\n",
        "    print(\"Geometric Mean: {:.2f}\".format(metrics[\"Geometric Mean\"]))\n",
        "    print(\"Balanced Accuracy: {:.2f}\".format(metrics[\"Balanced Accuracy\"]))\n",
        "    print(\"Confusion Matrix:\")\n",
        "    print(metrics[\"Confusion Matrix\"])\n",
        "    print(\"\\n\")"
      ],
      "metadata": {
        "colab": {
          "base_uri": "https://localhost:8080/"
        },
        "id": "IPGyh-x3Yqyy",
        "outputId": "8fe27d70-9085-47a1-b5c4-8fec8353a4d5"
      },
      "execution_count": 30,
      "outputs": [
        {
          "output_type": "stream",
          "name": "stdout",
          "text": [
            "--- Naive Bayes ---\n",
            "Accuracy: 0.89\n",
            "Precision: 0.93\n",
            "Recall: 0.90\n",
            "F1 Score: 0.92\n",
            "ROC AUC: 0.88\n",
            "Kappa: 0.76\n",
            "Geometric Mean: 0.88\n",
            "Balanced Accuracy: 0.88\n",
            "Confusion Matrix:\n",
            "[[128  20]\n",
            " [ 28 262]]\n",
            "\n",
            "\n",
            "--- Random Forest ---\n",
            "Accuracy: 0.91\n",
            "Precision: 0.91\n",
            "Recall: 0.96\n",
            "F1 Score: 0.93\n",
            "ROC AUC: 0.88\n",
            "Kappa: 0.79\n",
            "Geometric Mean: 0.88\n",
            "Balanced Accuracy: 0.88\n",
            "Confusion Matrix:\n",
            "[[119  29]\n",
            " [ 11 279]]\n",
            "\n",
            "\n",
            "--- Logistic Regression ---\n",
            "Accuracy: 0.89\n",
            "Precision: 0.88\n",
            "Recall: 0.96\n",
            "F1 Score: 0.92\n",
            "ROC AUC: 0.85\n",
            "Kappa: 0.74\n",
            "Geometric Mean: 0.85\n",
            "Balanced Accuracy: 0.85\n",
            "Confusion Matrix:\n",
            "[[111  37]\n",
            " [ 12 278]]\n",
            "\n",
            "\n",
            "--- K-Nearest Neighbors ---\n",
            "Accuracy: 0.72\n",
            "Precision: 0.72\n",
            "Recall: 0.94\n",
            "F1 Score: 0.82\n",
            "ROC AUC: 0.62\n",
            "Kappa: 0.28\n",
            "Geometric Mean: 0.52\n",
            "Balanced Accuracy: 0.62\n",
            "Confusion Matrix:\n",
            "[[ 43 105]\n",
            " [ 16 274]]\n",
            "\n",
            "\n",
            "--- XGBoost ---\n",
            "Accuracy: 0.91\n",
            "Precision: 0.92\n",
            "Recall: 0.94\n",
            "F1 Score: 0.93\n",
            "ROC AUC: 0.89\n",
            "Kappa: 0.79\n",
            "Geometric Mean: 0.89\n",
            "Balanced Accuracy: 0.89\n",
            "Confusion Matrix:\n",
            "[[124  24]\n",
            " [ 17 273]]\n",
            "\n",
            "\n",
            "--- AdaBoost ---\n",
            "Accuracy: 0.91\n",
            "Precision: 0.91\n",
            "Recall: 0.95\n",
            "F1 Score: 0.93\n",
            "ROC AUC: 0.89\n",
            "Kappa: 0.79\n",
            "Geometric Mean: 0.88\n",
            "Balanced Accuracy: 0.89\n",
            "Confusion Matrix:\n",
            "[[122  26]\n",
            " [ 15 275]]\n",
            "\n",
            "\n"
          ]
        }
      ]
    }
  ]
}