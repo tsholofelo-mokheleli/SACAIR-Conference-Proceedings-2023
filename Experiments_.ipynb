{
  "nbformat": 4,
  "nbformat_minor": 0,
  "metadata": {
    "colab": {
      "provenance": [],
      "toc_visible": true,
      "authorship_tag": "ABX9TyMy+us8/Iw0PZ19H90nphhE",
      "include_colab_link": true
    },
    "kernelspec": {
      "name": "python3",
      "display_name": "Python 3"
    },
    "language_info": {
      "name": "python"
    }
  },
  "cells": [
    {
      "cell_type": "markdown",
      "metadata": {
        "id": "view-in-github",
        "colab_type": "text"
      },
      "source": [
        "<a href=\"https://colab.research.google.com/github/tsholofelo-mokheleli/SACAIR-Conference-Proceedings-2023/blob/main/Experiments_.ipynb\" target=\"_parent\"><img src=\"https://colab.research.google.com/assets/colab-badge.svg\" alt=\"Open In Colab\"/></a>"
      ]
    },
    {
      "cell_type": "markdown",
      "source": [
        "### **Libraries**"
      ],
      "metadata": {
        "id": "jqCSMFnAzxYe"
      }
    },
    {
      "cell_type": "code",
      "execution_count": 267,
      "metadata": {
        "id": "rmjMaUkvEjBz"
      },
      "outputs": [],
      "source": [
        "# Load the libraries\n",
        "import pandas  as pd\n",
        "import numpy as np\n",
        "import seaborn as sns\n",
        "import matplotlib.pyplot as plt\n",
        "\n",
        "# Warning filter\n",
        "import warnings\n",
        "warnings.filterwarnings('ignore')\n",
        "cmap=sns.color_palette('Blues_r')\n",
        "\n",
        "# Metrics\n",
        "from sklearn.model_selection import train_test_split\n",
        "from sklearn.metrics import accuracy_score, precision_score, recall_score, f1_score, roc_auc_score, confusion_matrix\n",
        "\n",
        "# Imputation\n",
        "from sklearn.experimental import enable_iterative_imputer  # noqa\n",
        "from sklearn.impute import IterativeImputer\n",
        "from sklearn.neighbors import NearestNeighbors\n",
        "from sklearn.impute import KNNImputer\n",
        "\n",
        "# Classifiers\n",
        "from sklearn.linear_model import LogisticRegression\n",
        "from sklearn.ensemble import RandomForestClassifier\n",
        "from sklearn.svm import SVC\n",
        "from sklearn.neighbors import KNeighborsClassifier\n",
        "from sklearn.naive_bayes import GaussianNB\n",
        "\n",
        "\n",
        "# Load the libraries\n",
        "import pandas  as pd\n",
        "import numpy as np\n",
        "import seaborn as sns\n",
        "import matplotlib.pyplot as plt\n",
        "import time\n",
        "import psutil\n",
        "import os\n",
        "\n",
        "# Warning filter\n",
        "import warnings\n",
        "warnings.filterwarnings('ignore')\n",
        "cmap=sns.color_palette('Blues_r')\n",
        "\n",
        "# Metrics\n",
        "from sklearn.metrics import accuracy_score, precision_score, recall_score\n",
        "from sklearn.metrics import f1_score, roc_auc_score, confusion_matrix\n",
        "from imblearn.metrics import geometric_mean_score\n",
        "\n",
        "# Classifiers\n",
        "from sklearn.svm import SVC\n",
        "from sklearn.naive_bayes import GaussianNB\n",
        "from sklearn.tree import DecisionTreeClassifier\n",
        "from sklearn.linear_model import LogisticRegression\n",
        "from sklearn.neighbors import KNeighborsClassifier\n",
        "\n",
        "# Boosting Classifiers\n",
        "from xgboost import XGBClassifier\n",
        "from sklearn.ensemble import AdaBoostClassifier\n",
        "\n",
        "# Hyper-parameter tuning\n",
        "from sklearn.model_selection import GridSearchCV\n",
        "\n",
        "# Cross Validation\n",
        "from sklearn.model_selection import cross_val_score, KFold\n",
        "\n",
        "# Ensemble Method\n",
        "from sklearn.ensemble import BaggingClassifier\n",
        "from sklearn.ensemble import StackingClassifier\n",
        "from sklearn.ensemble import AdaBoostClassifier\n",
        "\n",
        "# Plot Theme\n",
        "sns.set_style(\"darkgrid\")\n",
        "plt.style.use(\"seaborn-deep\")"
      ]
    },
    {
      "cell_type": "markdown",
      "source": [
        "### **Load Data**"
      ],
      "metadata": {
        "id": "ozUM1jrxFjmk"
      }
    },
    {
      "cell_type": "code",
      "source": [
        "data = pd.read_csv(\"Clean Mental Health.csv\")"
      ],
      "metadata": {
        "id": "um2eny9XFnvz"
      },
      "execution_count": 268,
      "outputs": []
    },
    {
      "cell_type": "code",
      "source": [
        "data.info()"
      ],
      "metadata": {
        "colab": {
          "base_uri": "https://localhost:8080/"
        },
        "id": "ovp1Xfr7J8fc",
        "outputId": "7bd0f042-1275-4186-8b91-f9f1dd16a79f"
      },
      "execution_count": 269,
      "outputs": [
        {
          "output_type": "stream",
          "name": "stdout",
          "text": [
            "<class 'pandas.core.frame.DataFrame'>\n",
            "RangeIndex: 3269 entries, 0 to 3268\n",
            "Data columns (total 25 columns):\n",
            " #   Column                    Non-Null Count  Dtype  \n",
            "---  ------                    --------------  -----  \n",
            " 0   self_employed             3269 non-null   int64  \n",
            " 1   no_employees              2723 non-null   float64\n",
            " 2   tech_company              2723 non-null   float64\n",
            " 3   company_role              1840 non-null   float64\n",
            " 4   benefits                  2723 non-null   float64\n",
            " 5   care_options              2427 non-null   float64\n",
            " 6   wellness_program          2723 non-null   float64\n",
            " 7   seek_help                 2723 non-null   float64\n",
            " 8   anonymity                 2723 non-null   float64\n",
            " 9   leave                     2723 non-null   float64\n",
            " 10  mental_importance         2723 non-null   float64\n",
            " 11  neg_consequence_coworker  2980 non-null   float64\n",
            " 12  discuss_mh                1859 non-null   float64\n",
            " 13  work_interfere            546 non-null    float64\n",
            " 14  coworkers                 2841 non-null   float64\n",
            " 15  supervisor                2841 non-null   float64\n",
            " 16  mental_health_interview   3269 non-null   int64  \n",
            " 17  family_history            3269 non-null   int64  \n",
            " 18  past_mental_health        3246 non-null   float64\n",
            " 19  mental_health             3269 non-null   int64  \n",
            " 20  mental_health_diagnosed   2189 non-null   float64\n",
            " 21  treatment                 3269 non-null   int64  \n",
            " 22  age                       3259 non-null   float64\n",
            " 23  gender                    3269 non-null   int64  \n",
            " 24  country                   3269 non-null   int64  \n",
            "dtypes: float64(18), int64(7)\n",
            "memory usage: 638.6 KB\n"
          ]
        }
      ]
    },
    {
      "cell_type": "code",
      "source": [
        "#Get the numbers of missing values in each column\n",
        "missing = data.isnull().sum()\n",
        "\n",
        "#Get the percentage of missing values in each column\n",
        "missing_pct = round(data.isnull().sum()/len(data) * 100, 1)\n",
        "\n",
        "orig_data_missing = pd.concat([missing, missing_pct], axis=1)\n",
        "orig_data_missing.columns = [\"Num\", \"%\"]\n",
        "print(orig_data_missing)"
      ],
      "metadata": {
        "colab": {
          "base_uri": "https://localhost:8080/"
        },
        "id": "y0z02wrmQ13-",
        "outputId": "fa025a2e-78f8-41e2-b71d-4a838779b078"
      },
      "execution_count": 270,
      "outputs": [
        {
          "output_type": "stream",
          "name": "stdout",
          "text": [
            "                           Num     %\n",
            "self_employed                0   0.0\n",
            "no_employees               546  16.7\n",
            "tech_company               546  16.7\n",
            "company_role              1429  43.7\n",
            "benefits                   546  16.7\n",
            "care_options               842  25.8\n",
            "wellness_program           546  16.7\n",
            "seek_help                  546  16.7\n",
            "anonymity                  546  16.7\n",
            "leave                      546  16.7\n",
            "mental_importance          546  16.7\n",
            "neg_consequence_coworker   289   8.8\n",
            "discuss_mh                1410  43.1\n",
            "work_interfere            2723  83.3\n",
            "coworkers                  428  13.1\n",
            "supervisor                 428  13.1\n",
            "mental_health_interview      0   0.0\n",
            "family_history               0   0.0\n",
            "past_mental_health          23   0.7\n",
            "mental_health                0   0.0\n",
            "mental_health_diagnosed   1080  33.0\n",
            "treatment                    0   0.0\n",
            "age                         10   0.3\n",
            "gender                       0   0.0\n",
            "country                      0   0.0\n"
          ]
        }
      ]
    },
    {
      "cell_type": "code",
      "source": [
        "# Create a bar plot to visualize the missing values\n",
        "plt.figure(figsize=(10, 6))\n",
        "plt.bar(orig_data_missing.index, orig_data_missing[\"%\"], color='red')\n",
        "plt.xlabel(\"Columns\")\n",
        "plt.ylabel(\"% Missing\")\n",
        "plt.title(\"Percentage of Missing Values in Each Column\")\n",
        "plt.xticks(rotation=90)\n",
        "plt.tight_layout()\n",
        "\n",
        "# Show the plot\n",
        "plt.show()"
      ],
      "metadata": {
        "colab": {
          "base_uri": "https://localhost:8080/",
          "height": 607
        },
        "id": "kYku0QlLRaRj",
        "outputId": "39c1fc7e-fd58-443e-9aa8-1124788185e5"
      },
      "execution_count": 271,
      "outputs": [
        {
          "output_type": "display_data",
          "data": {
            "text/plain": [
              "<Figure size 1000x600 with 1 Axes>"
            ],
            "image/png": "[encoded data removed]"
          },
          "metadata": {}
        }
      ]
    },
    {
      "cell_type": "markdown",
      "source": [
        "### **Data Imputation**"
      ],
      "metadata": {
        "id": "6Ua12SXdeFbQ"
      }
    },
    {
      "cell_type": "markdown",
      "source": [
        "#### **Mode Imputation**"
      ],
      "metadata": {
        "id": "HriHMSzfS8ny"
      }
    },
    {
      "cell_type": "code",
      "source": [
        "data = pd.read_csv(\"Clean Mental Health.csv\")"
      ],
      "metadata": {
        "id": "qNLB8Ul6TFKa"
      },
      "execution_count": 272,
      "outputs": []
    },
    {
      "cell_type": "code",
      "source": [
        "columns_to_impute = data.columns[data.columns != \"mental_health_diagnosed\"]\n",
        "\n",
        "# Iterate through columns to impute missing values with mode\n",
        "for column in columns_to_impute:\n",
        "    mode_value = data[column].mode()[0]\n",
        "    data[column].fillna(mode_value, inplace=True)\n",
        "\n",
        "data = data.dropna()\n",
        "data.info()"
      ],
      "metadata": {
        "colab": {
          "base_uri": "https://localhost:8080/"
        },
        "id": "kkxn62kzTTMU",
        "outputId": "20bab9cb-d167-482e-9ade-7c1a4574e368"
      },
      "execution_count": 273,
      "outputs": [
        {
          "output_type": "stream",
          "name": "stdout",
          "text": [
            "<class 'pandas.core.frame.DataFrame'>\n",
            "Int64Index: 2189 entries, 0 to 3268\n",
            "Data columns (total 25 columns):\n",
            " #   Column                    Non-Null Count  Dtype  \n",
            "---  ------                    --------------  -----  \n",
            " 0   self_employed             2189 non-null   int64  \n",
            " 1   no_employees              2189 non-null   float64\n",
            " 2   tech_company              2189 non-null   float64\n",
            " 3   company_role              2189 non-null   float64\n",
            " 4   benefits                  2189 non-null   float64\n",
            " 5   care_options              2189 non-null   float64\n",
            " 6   wellness_program          2189 non-null   float64\n",
            " 7   seek_help                 2189 non-null   float64\n",
            " 8   anonymity                 2189 non-null   float64\n",
            " 9   leave                     2189 non-null   float64\n",
            " 10  mental_importance         2189 non-null   float64\n",
            " 11  neg_consequence_coworker  2189 non-null   float64\n",
            " 12  discuss_mh                2189 non-null   float64\n",
            " 13  work_interfere            2189 non-null   float64\n",
            " 14  coworkers                 2189 non-null   float64\n",
            " 15  supervisor                2189 non-null   float64\n",
            " 16  mental_health_interview   2189 non-null   int64  \n",
            " 17  family_history            2189 non-null   int64  \n",
            " 18  past_mental_health        2189 non-null   float64\n",
            " 19  mental_health             2189 non-null   int64  \n",
            " 20  mental_health_diagnosed   2189 non-null   float64\n",
            " 21  treatment                 2189 non-null   int64  \n",
            " 22  age                       2189 non-null   float64\n",
            " 23  gender                    2189 non-null   int64  \n",
            " 24  country                   2189 non-null   int64  \n",
            "dtypes: float64(18), int64(7)\n",
            "memory usage: 444.6 KB\n"
          ]
        }
      ]
    },
    {
      "cell_type": "code",
      "source": [
        "# Get the numbers of missing values in each column\n",
        "missing = data.isnull().sum()\n",
        "\n",
        "# Get the percentage of complete (non-missing) values in each column\n",
        "complete_pct = round((1 - (data.isnull().sum() / len(data))) * 100, 1)\n",
        "\n",
        "# Create a DataFrame to display the results\n",
        "data_complete = pd.concat([missing, complete_pct], axis=1)\n",
        "data_complete.columns = [\"Num Missing\", \"% Complete\"]\n",
        "print(data_complete)"
      ],
      "metadata": {
        "colab": {
          "base_uri": "https://localhost:8080/"
        },
        "id": "cQlMgVjhZ4ZJ",
        "outputId": "ef76723c-11dd-4916-d9d6-38931d7ba5b7"
      },
      "execution_count": 274,
      "outputs": [
        {
          "output_type": "stream",
          "name": "stdout",
          "text": [
            "                          Num Missing  % Complete\n",
            "self_employed                       0       100.0\n",
            "no_employees                        0       100.0\n",
            "tech_company                        0       100.0\n",
            "company_role                        0       100.0\n",
            "benefits                            0       100.0\n",
            "care_options                        0       100.0\n",
            "wellness_program                    0       100.0\n",
            "seek_help                           0       100.0\n",
            "anonymity                           0       100.0\n",
            "leave                               0       100.0\n",
            "mental_importance                   0       100.0\n",
            "neg_consequence_coworker            0       100.0\n",
            "discuss_mh                          0       100.0\n",
            "work_interfere                      0       100.0\n",
            "coworkers                           0       100.0\n",
            "supervisor                          0       100.0\n",
            "mental_health_interview             0       100.0\n",
            "family_history                      0       100.0\n",
            "past_mental_health                  0       100.0\n",
            "mental_health                       0       100.0\n",
            "mental_health_diagnosed             0       100.0\n",
            "treatment                           0       100.0\n",
            "age                                 0       100.0\n",
            "gender                              0       100.0\n",
            "country                             0       100.0\n"
          ]
        }
      ]
    },
    {
      "cell_type": "code",
      "source": [
        "# Create a list of colors based on the percentage of complete data\n",
        "colors = ['green' if pct == 100 else 'orange' for pct in data_complete[\"% Complete\"]]\n",
        "\n",
        "# Create a bar plot to visualize the percentage of complete data\n",
        "plt.figure(figsize=(10, 6))\n",
        "plt.bar(data_complete.index, data_complete[\"% Complete\"], color=colors)\n",
        "plt.xlabel(\"Columns\")\n",
        "plt.ylabel(\"% Complete\")\n",
        "plt.title(\"Percentage of Complete Data in Each Column\")\n",
        "plt.xticks(rotation=90)\n",
        "plt.tight_layout()\n",
        "\n",
        "# Show the plot\n",
        "plt.show()"
      ],
      "metadata": {
        "colab": {
          "base_uri": "https://localhost:8080/",
          "height": 607
        },
        "id": "m-h0hXxlZ-8y",
        "outputId": "d2e3cd4c-0b5a-4f76-e5d9-dd6bc09b42f7"
      },
      "execution_count": 275,
      "outputs": [
        {
          "output_type": "display_data",
          "data": {
            "text/plain": [
              "<Figure size 1000x600 with 1 Axes>"
            ],
            "image/png": "[encoded data removed]"
          },
          "metadata": {}
        }
      ]
    },
    {
      "cell_type": "code",
      "source": [
        "# Convert all columns to int data type\n",
        "\n",
        "columns_to_convert = [col for col in data.columns if col != 'mental_health_diagnosed']\n",
        "data[columns_to_convert] = data[columns_to_convert].astype('int64')\n",
        "\n",
        "data = data.dropna()\n",
        "mode_imputed = data\n",
        "mode_imputed.info()"
      ],
      "metadata": {
        "colab": {
          "base_uri": "https://localhost:8080/"
        },
        "id": "Ppf7qJwUT22i",
        "outputId": "bc3d245d-6e7a-46a7-d7b6-3bd7f6c6e4b6"
      },
      "execution_count": 276,
      "outputs": [
        {
          "output_type": "stream",
          "name": "stdout",
          "text": [
            "<class 'pandas.core.frame.DataFrame'>\n",
            "Int64Index: 2189 entries, 0 to 3268\n",
            "Data columns (total 25 columns):\n",
            " #   Column                    Non-Null Count  Dtype  \n",
            "---  ------                    --------------  -----  \n",
            " 0   self_employed             2189 non-null   int64  \n",
            " 1   no_employees              2189 non-null   int64  \n",
            " 2   tech_company              2189 non-null   int64  \n",
            " 3   company_role              2189 non-null   int64  \n",
            " 4   benefits                  2189 non-null   int64  \n",
            " 5   care_options              2189 non-null   int64  \n",
            " 6   wellness_program          2189 non-null   int64  \n",
            " 7   seek_help                 2189 non-null   int64  \n",
            " 8   anonymity                 2189 non-null   int64  \n",
            " 9   leave                     2189 non-null   int64  \n",
            " 10  mental_importance         2189 non-null   int64  \n",
            " 11  neg_consequence_coworker  2189 non-null   int64  \n",
            " 12  discuss_mh                2189 non-null   int64  \n",
            " 13  work_interfere            2189 non-null   int64  \n",
            " 14  coworkers                 2189 non-null   int64  \n",
            " 15  supervisor                2189 non-null   int64  \n",
            " 16  mental_health_interview   2189 non-null   int64  \n",
            " 17  family_history            2189 non-null   int64  \n",
            " 18  past_mental_health        2189 non-null   int64  \n",
            " 19  mental_health             2189 non-null   int64  \n",
            " 20  mental_health_diagnosed   2189 non-null   float64\n",
            " 21  treatment                 2189 non-null   int64  \n",
            " 22  age                       2189 non-null   int64  \n",
            " 23  gender                    2189 non-null   int64  \n",
            " 24  country                   2189 non-null   int64  \n",
            "dtypes: float64(1), int64(24)\n",
            "memory usage: 444.6 KB\n"
          ]
        }
      ]
    },
    {
      "cell_type": "markdown",
      "source": [
        "#### **Multiple Imputation**"
      ],
      "metadata": {
        "id": "iKXk3KMJVJDZ"
      }
    },
    {
      "cell_type": "code",
      "source": [
        "data = pd.read_csv(\"Clean Mental Health.csv\")"
      ],
      "metadata": {
        "id": "v3emOQiKVK-i"
      },
      "execution_count": 277,
      "outputs": []
    },
    {
      "cell_type": "code",
      "source": [
        "# Initialize the MICE imputer\n",
        "mice_imputer = IterativeImputer()\n",
        "\n",
        "# Exclude the 'mental_health_diagnosed' column from imputation\n",
        "columns_to_impute = [col for col in data.columns if col != 'mental_health_diagnosed']\n",
        "\n",
        "# Perform MICE imputation on the selected columns\n",
        "data[columns_to_impute] = mice_imputer.fit_transform(data[columns_to_impute])\n",
        "\n",
        "data.info()"
      ],
      "metadata": {
        "colab": {
          "base_uri": "https://localhost:8080/"
        },
        "id": "LufffsUvV5Da",
        "outputId": "f01cb55c-b449-4ab5-c807-8def5fc22889"
      },
      "execution_count": 278,
      "outputs": [
        {
          "output_type": "stream",
          "name": "stdout",
          "text": [
            "<class 'pandas.core.frame.DataFrame'>\n",
            "RangeIndex: 3269 entries, 0 to 3268\n",
            "Data columns (total 25 columns):\n",
            " #   Column                    Non-Null Count  Dtype  \n",
            "---  ------                    --------------  -----  \n",
            " 0   self_employed             3269 non-null   float64\n",
            " 1   no_employees              3269 non-null   float64\n",
            " 2   tech_company              3269 non-null   float64\n",
            " 3   company_role              3269 non-null   float64\n",
            " 4   benefits                  3269 non-null   float64\n",
            " 5   care_options              3269 non-null   float64\n",
            " 6   wellness_program          3269 non-null   float64\n",
            " 7   seek_help                 3269 non-null   float64\n",
            " 8   anonymity                 3269 non-null   float64\n",
            " 9   leave                     3269 non-null   float64\n",
            " 10  mental_importance         3269 non-null   float64\n",
            " 11  neg_consequence_coworker  3269 non-null   float64\n",
            " 12  discuss_mh                3269 non-null   float64\n",
            " 13  work_interfere            3269 non-null   float64\n",
            " 14  coworkers                 3269 non-null   float64\n",
            " 15  supervisor                3269 non-null   float64\n",
            " 16  mental_health_interview   3269 non-null   float64\n",
            " 17  family_history            3269 non-null   float64\n",
            " 18  past_mental_health        3269 non-null   float64\n",
            " 19  mental_health             3269 non-null   float64\n",
            " 20  mental_health_diagnosed   2189 non-null   float64\n",
            " 21  treatment                 3269 non-null   float64\n",
            " 22  age                       3269 non-null   float64\n",
            " 23  gender                    3269 non-null   float64\n",
            " 24  country                   3269 non-null   float64\n",
            "dtypes: float64(25)\n",
            "memory usage: 638.6 KB\n"
          ]
        }
      ]
    },
    {
      "cell_type": "code",
      "source": [
        "columns_to_convert = [col for col in data.columns if col != 'mental_health_diagnosed']\n",
        "data[columns_to_convert] = data[columns_to_convert].astype('int64')\n",
        "\n",
        "data = data.dropna()\n",
        "mice_imputed = data\n",
        "mice_imputed.info()"
      ],
      "metadata": {
        "colab": {
          "base_uri": "https://localhost:8080/"
        },
        "id": "LJHMxZBFWN0y",
        "outputId": "491854f6-893e-4efa-a965-4b26858b79ab"
      },
      "execution_count": 279,
      "outputs": [
        {
          "output_type": "stream",
          "name": "stdout",
          "text": [
            "<class 'pandas.core.frame.DataFrame'>\n",
            "Int64Index: 2189 entries, 0 to 3268\n",
            "Data columns (total 25 columns):\n",
            " #   Column                    Non-Null Count  Dtype  \n",
            "---  ------                    --------------  -----  \n",
            " 0   self_employed             2189 non-null   int64  \n",
            " 1   no_employees              2189 non-null   int64  \n",
            " 2   tech_company              2189 non-null   int64  \n",
            " 3   company_role              2189 non-null   int64  \n",
            " 4   benefits                  2189 non-null   int64  \n",
            " 5   care_options              2189 non-null   int64  \n",
            " 6   wellness_program          2189 non-null   int64  \n",
            " 7   seek_help                 2189 non-null   int64  \n",
            " 8   anonymity                 2189 non-null   int64  \n",
            " 9   leave                     2189 non-null   int64  \n",
            " 10  mental_importance         2189 non-null   int64  \n",
            " 11  neg_consequence_coworker  2189 non-null   int64  \n",
            " 12  discuss_mh                2189 non-null   int64  \n",
            " 13  work_interfere            2189 non-null   int64  \n",
            " 14  coworkers                 2189 non-null   int64  \n",
            " 15  supervisor                2189 non-null   int64  \n",
            " 16  mental_health_interview   2189 non-null   int64  \n",
            " 17  family_history            2189 non-null   int64  \n",
            " 18  past_mental_health        2189 non-null   int64  \n",
            " 19  mental_health             2189 non-null   int64  \n",
            " 20  mental_health_diagnosed   2189 non-null   float64\n",
            " 21  treatment                 2189 non-null   int64  \n",
            " 22  age                       2189 non-null   int64  \n",
            " 23  gender                    2189 non-null   int64  \n",
            " 24  country                   2189 non-null   int64  \n",
            "dtypes: float64(1), int64(24)\n",
            "memory usage: 444.6 KB\n"
          ]
        }
      ]
    },
    {
      "cell_type": "markdown",
      "source": [
        "#### **Hot Deck Imputation**"
      ],
      "metadata": {
        "id": "iOZmi11DXCyy"
      }
    },
    {
      "cell_type": "code",
      "source": [
        "data = pd.read_csv(\"Clean Mental Health.csv\")"
      ],
      "metadata": {
        "id": "mFiiC0G2XkC6"
      },
      "execution_count": 280,
      "outputs": []
    },
    {
      "cell_type": "code",
      "source": [
        "columns_to_impute = data.columns[data.columns != \"mental_health_diagnosed\"]\n",
        "imputed_data = data.copy()\n",
        "\n",
        "# Iterate through columns to impute missing values with mode\n",
        "for column in columns_to_impute:\n",
        "  vars_to_impute = [column]\n",
        "\n",
        "  for var in vars_to_impute:\n",
        "      # Create a donor pool consisting of cases without missing values for the current variable\n",
        "      donor_pool = imputed_data.dropna(subset=[var])\n",
        "\n",
        "      # Iterate over each case with a missing value for the current variable\n",
        "      for index, row in imputed_data[imputed_data[var].isnull()].iterrows():\n",
        "          # Check if there are any donor cases available\n",
        "          if not donor_pool.empty:\n",
        "              # Find the closest donor case based on a chosen similarity measure\n",
        "              similarity_scores = np.abs(donor_pool[vars_to_impute] - row[vars_to_impute])\n",
        "              closest_donor = donor_pool.iloc[similarity_scores.sum(axis=1).idxmin()]\n",
        "\n",
        "              # Impute the missing value with the value from the closest donor case\n",
        "              imputed_data.at[index, var] = closest_donor[var]\n",
        "          else:\n",
        "              # Handle the case where there are no donor cases available\n",
        "              # You can choose to skip imputation or use another imputation method\n",
        "              imputed_data.at[index, var] = np.nan  # or any other imputation approach\n",
        "\n",
        "data = imputed_data\n",
        "data.info()"
      ],
      "metadata": {
        "colab": {
          "base_uri": "https://localhost:8080/"
        },
        "id": "SdGtyDhcboMq",
        "outputId": "f8c29599-96ce-41da-f9d8-bd64bea70ad4"
      },
      "execution_count": 281,
      "outputs": [
        {
          "output_type": "stream",
          "name": "stdout",
          "text": [
            "<class 'pandas.core.frame.DataFrame'>\n",
            "RangeIndex: 3269 entries, 0 to 3268\n",
            "Data columns (total 25 columns):\n",
            " #   Column                    Non-Null Count  Dtype  \n",
            "---  ------                    --------------  -----  \n",
            " 0   self_employed             3269 non-null   int64  \n",
            " 1   no_employees              3269 non-null   float64\n",
            " 2   tech_company              3269 non-null   float64\n",
            " 3   company_role              3269 non-null   float64\n",
            " 4   benefits                  3269 non-null   float64\n",
            " 5   care_options              3269 non-null   float64\n",
            " 6   wellness_program          3269 non-null   float64\n",
            " 7   seek_help                 3269 non-null   float64\n",
            " 8   anonymity                 3269 non-null   float64\n",
            " 9   leave                     3269 non-null   float64\n",
            " 10  mental_importance         3269 non-null   float64\n",
            " 11  neg_consequence_coworker  3269 non-null   float64\n",
            " 12  discuss_mh                3269 non-null   float64\n",
            " 13  work_interfere            3269 non-null   float64\n",
            " 14  coworkers                 3269 non-null   float64\n",
            " 15  supervisor                3269 non-null   float64\n",
            " 16  mental_health_interview   3269 non-null   int64  \n",
            " 17  family_history            3269 non-null   int64  \n",
            " 18  past_mental_health        3269 non-null   float64\n",
            " 19  mental_health             3269 non-null   int64  \n",
            " 20  mental_health_diagnosed   2189 non-null   float64\n",
            " 21  treatment                 3269 non-null   int64  \n",
            " 22  age                       3269 non-null   float64\n",
            " 23  gender                    3269 non-null   int64  \n",
            " 24  country                   3269 non-null   int64  \n",
            "dtypes: float64(18), int64(7)\n",
            "memory usage: 638.6 KB\n"
          ]
        }
      ]
    },
    {
      "cell_type": "code",
      "source": [
        "columns_to_convert = [col for col in data.columns if col != 'mental_health_diagnosed']\n",
        "data[columns_to_convert] = data[columns_to_convert].astype('int64')\n",
        "\n",
        "data = data.dropna()\n",
        "hotdeck_imputed = data\n",
        "hotdeck_imputed.info()"
      ],
      "metadata": {
        "colab": {
          "base_uri": "https://localhost:8080/"
        },
        "id": "SBqdwRSbX337",
        "outputId": "e2647ae8-94cc-4efc-8895-d65a087caad2"
      },
      "execution_count": 282,
      "outputs": [
        {
          "output_type": "stream",
          "name": "stdout",
          "text": [
            "<class 'pandas.core.frame.DataFrame'>\n",
            "Int64Index: 2189 entries, 0 to 3268\n",
            "Data columns (total 25 columns):\n",
            " #   Column                    Non-Null Count  Dtype  \n",
            "---  ------                    --------------  -----  \n",
            " 0   self_employed             2189 non-null   int64  \n",
            " 1   no_employees              2189 non-null   int64  \n",
            " 2   tech_company              2189 non-null   int64  \n",
            " 3   company_role              2189 non-null   int64  \n",
            " 4   benefits                  2189 non-null   int64  \n",
            " 5   care_options              2189 non-null   int64  \n",
            " 6   wellness_program          2189 non-null   int64  \n",
            " 7   seek_help                 2189 non-null   int64  \n",
            " 8   anonymity                 2189 non-null   int64  \n",
            " 9   leave                     2189 non-null   int64  \n",
            " 10  mental_importance         2189 non-null   int64  \n",
            " 11  neg_consequence_coworker  2189 non-null   int64  \n",
            " 12  discuss_mh                2189 non-null   int64  \n",
            " 13  work_interfere            2189 non-null   int64  \n",
            " 14  coworkers                 2189 non-null   int64  \n",
            " 15  supervisor                2189 non-null   int64  \n",
            " 16  mental_health_interview   2189 non-null   int64  \n",
            " 17  family_history            2189 non-null   int64  \n",
            " 18  past_mental_health        2189 non-null   int64  \n",
            " 19  mental_health             2189 non-null   int64  \n",
            " 20  mental_health_diagnosed   2189 non-null   float64\n",
            " 21  treatment                 2189 non-null   int64  \n",
            " 22  age                       2189 non-null   int64  \n",
            " 23  gender                    2189 non-null   int64  \n",
            " 24  country                   2189 non-null   int64  \n",
            "dtypes: float64(1), int64(24)\n",
            "memory usage: 444.6 KB\n"
          ]
        }
      ]
    },
    {
      "cell_type": "markdown",
      "source": [
        "#### **K-NN Imputation**"
      ],
      "metadata": {
        "id": "Cou3lIvQYAI7"
      }
    },
    {
      "cell_type": "code",
      "source": [
        "data = pd.read_csv(\"Clean Mental Health.csv\")"
      ],
      "metadata": {
        "id": "wByl3vUnYG2i"
      },
      "execution_count": 283,
      "outputs": []
    },
    {
      "cell_type": "code",
      "source": [
        "target_column = 'mental_health_diagnosed'\n",
        "y = data[target_column]\n",
        "\n",
        "# Remove the target column from the DataFrame for imputation\n",
        "X = data.drop(columns=[target_column])\n",
        "\n",
        "# Perform KNN imputation\n",
        "imputer = KNNImputer(n_neighbors=5)  # You can adjust the number of neighbors (k) as needed\n",
        "X_imputed = imputer.fit_transform(X)\n",
        "\n",
        "# Convert the imputed array back to a DataFrame\n",
        "X_imputed_df = pd.DataFrame(X_imputed, columns=X.columns)\n",
        "\n",
        "# Combine the imputed data with the target column\n",
        "data_imputed = pd.concat([X_imputed_df, y], axis=1)\n",
        "\n",
        "data = data_imputed\n",
        "data.info()"
      ],
      "metadata": {
        "colab": {
          "base_uri": "https://localhost:8080/"
        },
        "id": "co1GelGXYf0y",
        "outputId": "f7e8f902-44e5-40c1-9f4f-10c381629319"
      },
      "execution_count": 284,
      "outputs": [
        {
          "output_type": "stream",
          "name": "stdout",
          "text": [
            "<class 'pandas.core.frame.DataFrame'>\n",
            "RangeIndex: 3269 entries, 0 to 3268\n",
            "Data columns (total 25 columns):\n",
            " #   Column                    Non-Null Count  Dtype  \n",
            "---  ------                    --------------  -----  \n",
            " 0   self_employed             3269 non-null   float64\n",
            " 1   no_employees              3269 non-null   float64\n",
            " 2   tech_company              3269 non-null   float64\n",
            " 3   company_role              3269 non-null   float64\n",
            " 4   benefits                  3269 non-null   float64\n",
            " 5   care_options              3269 non-null   float64\n",
            " 6   wellness_program          3269 non-null   float64\n",
            " 7   seek_help                 3269 non-null   float64\n",
            " 8   anonymity                 3269 non-null   float64\n",
            " 9   leave                     3269 non-null   float64\n",
            " 10  mental_importance         3269 non-null   float64\n",
            " 11  neg_consequence_coworker  3269 non-null   float64\n",
            " 12  discuss_mh                3269 non-null   float64\n",
            " 13  work_interfere            3269 non-null   float64\n",
            " 14  coworkers                 3269 non-null   float64\n",
            " 15  supervisor                3269 non-null   float64\n",
            " 16  mental_health_interview   3269 non-null   float64\n",
            " 17  family_history            3269 non-null   float64\n",
            " 18  past_mental_health        3269 non-null   float64\n",
            " 19  mental_health             3269 non-null   float64\n",
            " 20  treatment                 3269 non-null   float64\n",
            " 21  age                       3269 non-null   float64\n",
            " 22  gender                    3269 non-null   float64\n",
            " 23  country                   3269 non-null   float64\n",
            " 24  mental_health_diagnosed   2189 non-null   float64\n",
            "dtypes: float64(25)\n",
            "memory usage: 638.6 KB\n"
          ]
        }
      ]
    },
    {
      "cell_type": "code",
      "source": [
        "columns_to_convert = [col for col in data.columns if col != 'mental_health_diagnosed']\n",
        "data[columns_to_convert] = data[columns_to_convert].astype('int64')\n",
        "\n",
        "data = data.dropna()\n",
        "knn_imputed = data\n",
        "knn_imputed.info()"
      ],
      "metadata": {
        "colab": {
          "base_uri": "https://localhost:8080/"
        },
        "id": "u1tssJ8DYmta",
        "outputId": "1b0843db-a5bf-48de-8825-dfece63cf855"
      },
      "execution_count": 285,
      "outputs": [
        {
          "output_type": "stream",
          "name": "stdout",
          "text": [
            "<class 'pandas.core.frame.DataFrame'>\n",
            "Int64Index: 2189 entries, 0 to 3268\n",
            "Data columns (total 25 columns):\n",
            " #   Column                    Non-Null Count  Dtype  \n",
            "---  ------                    --------------  -----  \n",
            " 0   self_employed             2189 non-null   int64  \n",
            " 1   no_employees              2189 non-null   int64  \n",
            " 2   tech_company              2189 non-null   int64  \n",
            " 3   company_role              2189 non-null   int64  \n",
            " 4   benefits                  2189 non-null   int64  \n",
            " 5   care_options              2189 non-null   int64  \n",
            " 6   wellness_program          2189 non-null   int64  \n",
            " 7   seek_help                 2189 non-null   int64  \n",
            " 8   anonymity                 2189 non-null   int64  \n",
            " 9   leave                     2189 non-null   int64  \n",
            " 10  mental_importance         2189 non-null   int64  \n",
            " 11  neg_consequence_coworker  2189 non-null   int64  \n",
            " 12  discuss_mh                2189 non-null   int64  \n",
            " 13  work_interfere            2189 non-null   int64  \n",
            " 14  coworkers                 2189 non-null   int64  \n",
            " 15  supervisor                2189 non-null   int64  \n",
            " 16  mental_health_interview   2189 non-null   int64  \n",
            " 17  family_history            2189 non-null   int64  \n",
            " 18  past_mental_health        2189 non-null   int64  \n",
            " 19  mental_health             2189 non-null   int64  \n",
            " 20  treatment                 2189 non-null   int64  \n",
            " 21  age                       2189 non-null   int64  \n",
            " 22  gender                    2189 non-null   int64  \n",
            " 23  country                   2189 non-null   int64  \n",
            " 24  mental_health_diagnosed   2189 non-null   float64\n",
            "dtypes: float64(1), int64(24)\n",
            "memory usage: 444.6 KB\n"
          ]
        }
      ]
    },
    {
      "cell_type": "markdown",
      "source": [
        "### **Model Construction**"
      ],
      "metadata": {
        "id": "aliGEsa3ebAb"
      }
    },
    {
      "cell_type": "markdown",
      "source": [
        "#### **Define the Classifiers**"
      ],
      "metadata": {
        "id": "-GKHTl7jgrtp"
      }
    },
    {
      "cell_type": "code",
      "source": [
        "# Initialize classifiers\n",
        "classifiers = {\n",
        "    'LR': LogisticRegression(),\n",
        "    'RF': RandomForestClassifier(),\n",
        "    'SVM': SVC(),\n",
        "    'KNN': KNeighborsClassifier(),\n",
        "    'NB': GaussianNB(),\n",
        "}"
      ],
      "metadata": {
        "id": "Jctdl1uNgxV6"
      },
      "execution_count": 286,
      "outputs": []
    },
    {
      "cell_type": "markdown",
      "source": [
        "#### **Mode Imputation Model Results**"
      ],
      "metadata": {
        "id": "HiSinf3Mejqn"
      }
    },
    {
      "cell_type": "code",
      "source": [
        "X = mode_imputed.drop([\"mental_health_diagnosed\"], axis=1)\n",
        "y = mode_imputed['mental_health_diagnosed']\n",
        "\n",
        "X_train, X_test, y_train, y_test = train_test_split(X, y, test_size=0.2,stratify=y, random_state=42)"
      ],
      "metadata": {
        "id": "0Z2q8S7GhM5g"
      },
      "execution_count": 287,
      "outputs": []
    },
    {
      "cell_type": "code",
      "source": [
        "# Dictionary to store evaluation metrics\n",
        "results = {}\n",
        "modeCls = {}\n",
        "\n",
        "# Loop through each classifier\n",
        "for name, clf in classifiers.items():\n",
        "\n",
        "  # Train the classifier\n",
        "  clf.fit(X_train, y_train)\n",
        "\n",
        "  # Make predictions on the test set\n",
        "  y_pred = clf.predict(X_test)\n",
        "\n",
        "  modeCls[name] = clf\n",
        "\n",
        "  # Calculate evaluation metrics\n",
        "  accuracy = accuracy_score(y_test, y_pred)\n",
        "  precision = precision_score(y_test, y_pred)\n",
        "  recall = recall_score(y_test, y_pred)\n",
        "  f1 = f1_score(y_test, y_pred)\n",
        "  roc_auc = roc_auc_score(y_test, y_pred)\n",
        "  confusion = confusion_matrix(y_test, y_pred)\n",
        "\n",
        "  # Store the results in the dictionary\n",
        "  results[name] = {\n",
        "      \"Accuracy\": accuracy,\n",
        "      \"Precision\": precision,\n",
        "      \"Recall\": recall,\n",
        "      \"F1 Score\": f1,\n",
        "      \"ROC AUC\": roc_auc,\n",
        "      \"Confusion Matrix\": confusion,\n",
        "  }\n",
        "\n",
        "# Display the results\n",
        "print(f\"=== MODE IMPUTATION ===\")\n",
        "print()\n",
        "for name, metrics in results.items():\n",
        "    print(f\"--- {name} ---\")\n",
        "    print(\"Accuracy: {:.2f}\".format(metrics[\"Accuracy\"]))\n",
        "    print(\"Precision: {:.2f}\".format(metrics[\"Precision\"]))\n",
        "    print(\"Recall: {:.2f}\".format(metrics[\"Recall\"]))\n",
        "    print(\"F1 Score: {:.2f}\".format(metrics[\"F1 Score\"]))\n",
        "    print(\"ROC AUC: {:.2f}\".format(metrics[\"ROC AUC\"]))\n",
        "    print(\"Confusion Matrix:\")\n",
        "    print(metrics[\"Confusion Matrix\"])\n",
        "    print(\"\\n\")"
      ],
      "metadata": {
        "colab": {
          "base_uri": "https://localhost:8080/"
        },
        "id": "tT6iL-t-hfOR",
        "outputId": "ecf64fc6-72e1-43c6-9f9d-0d51a6115501"
      },
      "execution_count": 288,
      "outputs": [
        {
          "output_type": "stream",
          "name": "stdout",
          "text": [
            "=== MODE IMPUTATION ===\n",
            "\n",
            "--- LR ---\n",
            "Accuracy: 0.89\n",
            "Precision: 0.89\n",
            "Recall: 0.96\n",
            "F1 Score: 0.92\n",
            "ROC AUC: 0.86\n",
            "Confusion Matrix:\n",
            "[[112  36]\n",
            " [ 11 279]]\n",
            "\n",
            "\n",
            "--- RF ---\n",
            "Accuracy: 0.91\n",
            "Precision: 0.91\n",
            "Recall: 0.95\n",
            "F1 Score: 0.93\n",
            "ROC AUC: 0.88\n",
            "Confusion Matrix:\n",
            "[[121  27]\n",
            " [ 14 276]]\n",
            "\n",
            "\n",
            "--- SVM ---\n",
            "Accuracy: 0.66\n",
            "Precision: 0.66\n",
            "Recall: 1.00\n",
            "F1 Score: 0.80\n",
            "ROC AUC: 0.50\n",
            "Confusion Matrix:\n",
            "[[  0 148]\n",
            " [  0 290]]\n",
            "\n",
            "\n",
            "--- KNN ---\n",
            "Accuracy: 0.73\n",
            "Precision: 0.74\n",
            "Recall: 0.93\n",
            "F1 Score: 0.82\n",
            "ROC AUC: 0.64\n",
            "Confusion Matrix:\n",
            "[[ 51  97]\n",
            " [ 20 270]]\n",
            "\n",
            "\n",
            "--- NB ---\n",
            "Accuracy: 0.89\n",
            "Precision: 0.93\n",
            "Recall: 0.90\n",
            "F1 Score: 0.91\n",
            "ROC AUC: 0.88\n",
            "Confusion Matrix:\n",
            "[[128  20]\n",
            " [ 30 260]]\n",
            "\n",
            "\n"
          ]
        }
      ]
    },
    {
      "cell_type": "markdown",
      "source": [
        "#### **MICE Imputation Results**"
      ],
      "metadata": {
        "id": "lzRlzEMbm3TP"
      }
    },
    {
      "cell_type": "code",
      "source": [
        "X = mice_imputed.drop([\"mental_health_diagnosed\"], axis=1)\n",
        "y = mice_imputed['mental_health_diagnosed']\n",
        "\n",
        "X_train, X_test, y_train, y_test = train_test_split(X, y, test_size=0.2,stratify=y, random_state=42)"
      ],
      "metadata": {
        "id": "9Er51dhSm6Hx"
      },
      "execution_count": 289,
      "outputs": []
    },
    {
      "cell_type": "code",
      "source": [
        "# Dictionary to store evaluation metrics\n",
        "results = {}\n",
        "miceCls = {}\n",
        "\n",
        "# Loop through each classifier\n",
        "for name, clf in classifiers.items():\n",
        "\n",
        "  # Train the classifier\n",
        "  clf.fit(X_train, y_train)\n",
        "\n",
        "  miceCls[name] = clf\n",
        "\n",
        "  # Make predictions on the test set\n",
        "  y_pred = clf.predict(X_test)\n",
        "\n",
        "  # Calculate evaluation metrics\n",
        "  accuracy = accuracy_score(y_test, y_pred)\n",
        "  precision = precision_score(y_test, y_pred)\n",
        "  recall = recall_score(y_test, y_pred)\n",
        "  f1 = f1_score(y_test, y_pred)\n",
        "  roc_auc = roc_auc_score(y_test, y_pred)\n",
        "  confusion = confusion_matrix(y_test, y_pred)\n",
        "\n",
        "  # Store the results in the dictionary\n",
        "  results[name] = {\n",
        "      \"Accuracy\": accuracy,\n",
        "      \"Precision\": precision,\n",
        "      \"Recall\": recall,\n",
        "      \"F1 Score\": f1,\n",
        "      \"ROC AUC\": roc_auc,\n",
        "      \"Confusion Matrix\": confusion,\n",
        "  }\n",
        "\n",
        "# Display the results\n",
        "print(f\"=== MICE IMPUTATION ===\")\n",
        "print()\n",
        "for name, metrics in results.items():\n",
        "    print(f\"--- {name} ---\")\n",
        "    print(\"Accuracy: {:.2f}\".format(metrics[\"Accuracy\"]))\n",
        "    print(\"Precision: {:.2f}\".format(metrics[\"Precision\"]))\n",
        "    print(\"Recall: {:.2f}\".format(metrics[\"Recall\"]))\n",
        "    print(\"F1 Score: {:.2f}\".format(metrics[\"F1 Score\"]))\n",
        "    print(\"ROC AUC: {:.2f}\".format(metrics[\"ROC AUC\"]))\n",
        "    print(\"Confusion Matrix:\")\n",
        "    print(metrics[\"Confusion Matrix\"])\n",
        "    print(\"\\n\")"
      ],
      "metadata": {
        "colab": {
          "base_uri": "https://localhost:8080/"
        },
        "id": "EGqBQ-e8nHPi",
        "outputId": "0a980e7e-9ec1-40b8-e917-798e5b65e7df"
      },
      "execution_count": 290,
      "outputs": [
        {
          "output_type": "stream",
          "name": "stdout",
          "text": [
            "=== MICE IMPUTATION ===\n",
            "\n",
            "--- LR ---\n",
            "Accuracy: 0.89\n",
            "Precision: 0.89\n",
            "Recall: 0.96\n",
            "F1 Score: 0.92\n",
            "ROC AUC: 0.86\n",
            "Confusion Matrix:\n",
            "[[112  36]\n",
            " [ 12 278]]\n",
            "\n",
            "\n",
            "--- RF ---\n",
            "Accuracy: 0.91\n",
            "Precision: 0.91\n",
            "Recall: 0.96\n",
            "F1 Score: 0.94\n",
            "ROC AUC: 0.89\n",
            "Confusion Matrix:\n",
            "[[121  27]\n",
            " [ 11 279]]\n",
            "\n",
            "\n",
            "--- SVM ---\n",
            "Accuracy: 0.66\n",
            "Precision: 0.66\n",
            "Recall: 1.00\n",
            "F1 Score: 0.80\n",
            "ROC AUC: 0.50\n",
            "Confusion Matrix:\n",
            "[[  0 148]\n",
            " [  0 290]]\n",
            "\n",
            "\n",
            "--- KNN ---\n",
            "Accuracy: 0.72\n",
            "Precision: 0.73\n",
            "Recall: 0.92\n",
            "F1 Score: 0.82\n",
            "ROC AUC: 0.63\n",
            "Confusion Matrix:\n",
            "[[ 50  98]\n",
            " [ 23 267]]\n",
            "\n",
            "\n",
            "--- NB ---\n",
            "Accuracy: 0.89\n",
            "Precision: 0.92\n",
            "Recall: 0.91\n",
            "F1 Score: 0.91\n",
            "ROC AUC: 0.88\n",
            "Confusion Matrix:\n",
            "[[125  23]\n",
            " [ 27 263]]\n",
            "\n",
            "\n"
          ]
        }
      ]
    },
    {
      "cell_type": "markdown",
      "source": [
        "#### **Hot Deck Imputation Results**"
      ],
      "metadata": {
        "id": "U4eM6D8tnO3C"
      }
    },
    {
      "cell_type": "code",
      "source": [
        "X = hotdeck_imputed.drop([\"mental_health_diagnosed\"], axis=1)\n",
        "y = hotdeck_imputed['mental_health_diagnosed']\n",
        "\n",
        "X_train, X_test, y_train, y_test = train_test_split(X, y, test_size=0.2,stratify=y, random_state=42)"
      ],
      "metadata": {
        "id": "IhQa-zKvnRqB"
      },
      "execution_count": 291,
      "outputs": []
    },
    {
      "cell_type": "code",
      "source": [
        "# Dictionary to store evaluation metrics\n",
        "results = {}\n",
        "hdeckCls = {}\n",
        "\n",
        "# Loop through each classifier\n",
        "for name, clf in classifiers.items():\n",
        "\n",
        "  # Train the classifier\n",
        "  clf.fit(X_train, y_train)\n",
        "\n",
        "  hdeckCls[name] = clf\n",
        "\n",
        "  # Make predictions on the test set\n",
        "  y_pred = clf.predict(X_test)\n",
        "\n",
        "  # Calculate evaluation metrics\n",
        "  accuracy = accuracy_score(y_test, y_pred)\n",
        "  precision = precision_score(y_test, y_pred)\n",
        "  recall = recall_score(y_test, y_pred)\n",
        "  f1 = f1_score(y_test, y_pred)\n",
        "  roc_auc = roc_auc_score(y_test, y_pred)\n",
        "  confusion = confusion_matrix(y_test, y_pred)\n",
        "\n",
        "  # Store the results in the dictionary\n",
        "  results[name] = {\n",
        "      \"Accuracy\": accuracy,\n",
        "      \"Precision\": precision,\n",
        "      \"Recall\": recall,\n",
        "      \"F1 Score\": f1,\n",
        "      \"ROC AUC\": roc_auc,\n",
        "      \"Confusion Matrix\": confusion,\n",
        "  }\n",
        "\n",
        "# Display the results\n",
        "print(f\"=== HOT DECK IMPUTATION ===\")\n",
        "print()\n",
        "for name, metrics in results.items():\n",
        "    print(f\"--- {name} ---\")\n",
        "    print(\"Accuracy: {:.2f}\".format(metrics[\"Accuracy\"]))\n",
        "    print(\"Precision: {:.2f}\".format(metrics[\"Precision\"]))\n",
        "    print(\"Recall: {:.2f}\".format(metrics[\"Recall\"]))\n",
        "    print(\"F1 Score: {:.2f}\".format(metrics[\"F1 Score\"]))\n",
        "    print(\"ROC AUC: {:.2f}\".format(metrics[\"ROC AUC\"]))\n",
        "    print(\"Confusion Matrix:\")\n",
        "    print(metrics[\"Confusion Matrix\"])\n",
        "    print(\"\\n\")"
      ],
      "metadata": {
        "colab": {
          "base_uri": "https://localhost:8080/"
        },
        "id": "2C9wQbcmnWLv",
        "outputId": "a945b792-f814-4d13-e1e5-9437d7a2e2d1"
      },
      "execution_count": 292,
      "outputs": [
        {
          "output_type": "stream",
          "name": "stdout",
          "text": [
            "=== HOT DECK IMPUTATION ===\n",
            "\n",
            "--- LR ---\n",
            "Accuracy: 0.89\n",
            "Precision: 0.88\n",
            "Recall: 0.96\n",
            "F1 Score: 0.92\n",
            "ROC AUC: 0.86\n",
            "Confusion Matrix:\n",
            "[[111  37]\n",
            " [ 11 279]]\n",
            "\n",
            "\n",
            "--- RF ---\n",
            "Accuracy: 0.92\n",
            "Precision: 0.92\n",
            "Recall: 0.96\n",
            "F1 Score: 0.94\n",
            "ROC AUC: 0.90\n",
            "Confusion Matrix:\n",
            "[[123  25]\n",
            " [ 11 279]]\n",
            "\n",
            "\n",
            "--- SVM ---\n",
            "Accuracy: 0.66\n",
            "Precision: 0.66\n",
            "Recall: 1.00\n",
            "F1 Score: 0.80\n",
            "ROC AUC: 0.50\n",
            "Confusion Matrix:\n",
            "[[  0 148]\n",
            " [  0 290]]\n",
            "\n",
            "\n",
            "--- KNN ---\n",
            "Accuracy: 0.76\n",
            "Precision: 0.75\n",
            "Recall: 0.94\n",
            "F1 Score: 0.84\n",
            "ROC AUC: 0.67\n",
            "Confusion Matrix:\n",
            "[[ 59  89]\n",
            " [ 17 273]]\n",
            "\n",
            "\n",
            "--- NB ---\n",
            "Accuracy: 0.86\n",
            "Precision: 0.95\n",
            "Recall: 0.83\n",
            "F1 Score: 0.88\n",
            "ROC AUC: 0.87\n",
            "Confusion Matrix:\n",
            "[[134  14]\n",
            " [ 49 241]]\n",
            "\n",
            "\n"
          ]
        }
      ]
    },
    {
      "cell_type": "markdown",
      "source": [
        "#### **KNN Imputation Results**"
      ],
      "metadata": {
        "id": "Q36UexAVncpm"
      }
    },
    {
      "cell_type": "code",
      "source": [
        "X = knn_imputed.drop([\"mental_health_diagnosed\"], axis=1)\n",
        "y = knn_imputed['mental_health_diagnosed']\n",
        "\n",
        "X_train, X_test, y_train, y_test = train_test_split(X, y, test_size=0.2,stratify=y, random_state=42)"
      ],
      "metadata": {
        "id": "0AMNjAqBnfcp"
      },
      "execution_count": 293,
      "outputs": []
    },
    {
      "cell_type": "code",
      "source": [
        "# Dictionary to store evaluation metrics\n",
        "results = {}\n",
        "knnCls = {}\n",
        "\n",
        "# Loop through each classifier\n",
        "for name, clf in classifiers.items():\n",
        "\n",
        "  # Train the classifier\n",
        "  clf.fit(X_train, y_train)\n",
        "\n",
        "  knnCls[name] = clf\n",
        "\n",
        "  # Make predictions on the test set\n",
        "  y_pred = clf.predict(X_test)\n",
        "\n",
        "  # Calculate evaluation metrics\n",
        "  accuracy = accuracy_score(y_test, y_pred)\n",
        "  precision = precision_score(y_test, y_pred)\n",
        "  recall = recall_score(y_test, y_pred)\n",
        "  f1 = f1_score(y_test, y_pred)\n",
        "  roc_auc = roc_auc_score(y_test, y_pred)\n",
        "  confusion = confusion_matrix(y_test, y_pred)\n",
        "\n",
        "  # Store the results in the dictionary\n",
        "  results[name] = {\n",
        "      \"Accuracy\": accuracy,\n",
        "      \"Precision\": precision,\n",
        "      \"Recall\": recall,\n",
        "      \"F1 Score\": f1,\n",
        "      \"ROC AUC\": roc_auc,\n",
        "      \"Confusion Matrix\": confusion,\n",
        "  }\n",
        "\n",
        "# Display the results\n",
        "print(f\"=== KNN IMPUTATION ===\")\n",
        "print()\n",
        "for name, metrics in results.items():\n",
        "    print(f\"--- {name} ---\")\n",
        "    print(\"Accuracy: {:.2f}\".format(metrics[\"Accuracy\"]))\n",
        "    print(\"Precision: {:.2f}\".format(metrics[\"Precision\"]))\n",
        "    print(\"Recall: {:.2f}\".format(metrics[\"Recall\"]))\n",
        "    print(\"F1 Score: {:.2f}\".format(metrics[\"F1 Score\"]))\n",
        "    print(\"ROC AUC: {:.2f}\".format(metrics[\"ROC AUC\"]))\n",
        "    print(\"Confusion Matrix:\")\n",
        "    print(metrics[\"Confusion Matrix\"])\n",
        "    print(\"\\n\")"
      ],
      "metadata": {
        "colab": {
          "base_uri": "https://localhost:8080/"
        },
        "id": "Mf0UwyTrnhHe",
        "outputId": "e629fa8d-8626-4432-9c40-10cc6fbe7229"
      },
      "execution_count": 294,
      "outputs": [
        {
          "output_type": "stream",
          "name": "stdout",
          "text": [
            "=== KNN IMPUTATION ===\n",
            "\n",
            "--- LR ---\n",
            "Accuracy: 0.89\n",
            "Precision: 0.88\n",
            "Recall: 0.96\n",
            "F1 Score: 0.92\n",
            "ROC AUC: 0.85\n",
            "Confusion Matrix:\n",
            "[[111  37]\n",
            " [ 12 278]]\n",
            "\n",
            "\n",
            "--- RF ---\n",
            "Accuracy: 0.92\n",
            "Precision: 0.92\n",
            "Recall: 0.97\n",
            "F1 Score: 0.94\n",
            "ROC AUC: 0.89\n",
            "Confusion Matrix:\n",
            "[[122  26]\n",
            " [ 10 280]]\n",
            "\n",
            "\n",
            "--- SVM ---\n",
            "Accuracy: 0.66\n",
            "Precision: 0.66\n",
            "Recall: 1.00\n",
            "F1 Score: 0.80\n",
            "ROC AUC: 0.50\n",
            "Confusion Matrix:\n",
            "[[  0 148]\n",
            " [  0 290]]\n",
            "\n",
            "\n",
            "--- KNN ---\n",
            "Accuracy: 0.72\n",
            "Precision: 0.72\n",
            "Recall: 0.94\n",
            "F1 Score: 0.82\n",
            "ROC AUC: 0.62\n",
            "Confusion Matrix:\n",
            "[[ 43 105]\n",
            " [ 16 274]]\n",
            "\n",
            "\n",
            "--- NB ---\n",
            "Accuracy: 0.89\n",
            "Precision: 0.93\n",
            "Recall: 0.90\n",
            "F1 Score: 0.92\n",
            "ROC AUC: 0.88\n",
            "Confusion Matrix:\n",
            "[[128  20]\n",
            " [ 28 262]]\n",
            "\n",
            "\n"
          ]
        }
      ]
    },
    {
      "cell_type": "markdown",
      "source": [
        "### **Cross Validation**"
      ],
      "metadata": {
        "id": "2P2Hrk3AtutF"
      }
    },
    {
      "cell_type": "markdown",
      "source": [
        "#### **Mode Imputation CV results**"
      ],
      "metadata": {
        "id": "_Oo-pCOautPm"
      }
    },
    {
      "cell_type": "code",
      "source": [
        "X = mode_imputed.drop([\"mental_health_diagnosed\"], axis=1)\n",
        "y = mode_imputed['mental_health_diagnosed']\n",
        "\n",
        "# Set the number of folds for cross-validation\n",
        "num_folds = 5\n",
        "\n",
        "# Create a cross-validation object (KFold)\n",
        "kfold = KFold(n_splits=num_folds, shuffle=True, random_state=42)"
      ],
      "metadata": {
        "id": "2KAuD64ytxwf"
      },
      "execution_count": 295,
      "outputs": []
    },
    {
      "cell_type": "code",
      "source": [
        "# Dictionary to store evaluation metrics\n",
        "results = {}\n",
        "\n",
        "# Loop through each classifier\n",
        "for name, clf in classifiers.items():\n",
        "    cv_scores = cross_val_score(clf, X, y, cv=kfold, scoring='accuracy')\n",
        "\n",
        "    # Calculate the mean and standard deviation of the cross-validation scores\n",
        "    mean_cv_score = np.mean(cv_scores)\n",
        "    std_cv_score = np.std(cv_scores)\n",
        "\n",
        "    results[name] = {\n",
        "        \"MeanCVAccuracy\": mean_cv_score,\n",
        "        \"StdCVAccuracy\": std_cv_score\n",
        "    }\n",
        "\n",
        "print(f\"=== MODE IMPUTATION ===\")\n",
        "print()\n",
        "# Display the results\n",
        "for name, metrics in results.items():\n",
        "  print(f\"--- {name} ---\")\n",
        "  print(\"Mean Cross-Validation Accuracy:\", round(metrics[\"MeanCVAccuracy\"], 2))\n",
        "  print(\"Standard Deviation of Cross-Validation Accuracy:\", round(metrics[\"StdCVAccuracy\"], 2))\n",
        "  print(\"\\n\")"
      ],
      "metadata": {
        "colab": {
          "base_uri": "https://localhost:8080/"
        },
        "id": "L8sH8zo2vKrm",
        "outputId": "a6f32cf2-149d-4000-da4d-2ff797aa5861"
      },
      "execution_count": 296,
      "outputs": [
        {
          "output_type": "stream",
          "name": "stdout",
          "text": [
            "=== MODE IMPUTATION ===\n",
            "\n",
            "--- LR ---\n",
            "Mean Cross-Validation Accuracy: 0.89\n",
            "Standard Deviation of Cross-Validation Accuracy: 0.01\n",
            "\n",
            "\n",
            "--- RF ---\n",
            "Mean Cross-Validation Accuracy: 0.92\n",
            "Standard Deviation of Cross-Validation Accuracy: 0.01\n",
            "\n",
            "\n",
            "--- SVM ---\n",
            "Mean Cross-Validation Accuracy: 0.66\n",
            "Standard Deviation of Cross-Validation Accuracy: 0.01\n",
            "\n",
            "\n",
            "--- KNN ---\n",
            "Mean Cross-Validation Accuracy: 0.74\n",
            "Standard Deviation of Cross-Validation Accuracy: 0.02\n",
            "\n",
            "\n",
            "--- NB ---\n",
            "Mean Cross-Validation Accuracy: 0.88\n",
            "Standard Deviation of Cross-Validation Accuracy: 0.01\n",
            "\n",
            "\n"
          ]
        }
      ]
    },
    {
      "cell_type": "markdown",
      "source": [
        "#### **MICE Imputation CV Results**"
      ],
      "metadata": {
        "id": "uIaWHJFHvWZs"
      }
    },
    {
      "cell_type": "code",
      "source": [
        "X = mice_imputed.drop([\"mental_health_diagnosed\"], axis=1)\n",
        "y = mice_imputed['mental_health_diagnosed']\n",
        "\n",
        "# Set the number of folds for cross-validation\n",
        "num_folds = 5\n",
        "\n",
        "# Create a cross-validation object (KFold)\n",
        "kfold = KFold(n_splits=num_folds, shuffle=True, random_state=42)"
      ],
      "metadata": {
        "id": "ZH7mY4nRvcdN"
      },
      "execution_count": 297,
      "outputs": []
    },
    {
      "cell_type": "code",
      "source": [
        "# Dictionary to store evaluation metrics\n",
        "results = {}\n",
        "\n",
        "# Loop through each classifier\n",
        "for name, clf in classifiers.items():\n",
        "    cv_scores = cross_val_score(clf, X, y, cv=kfold, scoring='accuracy')\n",
        "\n",
        "    # Calculate the mean and standard deviation of the cross-validation scores\n",
        "    mean_cv_score = np.mean(cv_scores)\n",
        "    std_cv_score = np.std(cv_scores)\n",
        "\n",
        "    results[name] = {\n",
        "        \"MeanCVAccuracy\": mean_cv_score,\n",
        "        \"StdCVAccuracy\": std_cv_score\n",
        "    }\n",
        "\n",
        "print(f\"=== MICE IMPUTATION ===\")\n",
        "print()\n",
        "# Display the results\n",
        "for name, metrics in results.items():\n",
        "  print(f\"--- {name} ---\")\n",
        "  print(\"Mean Cross-Validation Accuracy:\", round(metrics[\"MeanCVAccuracy\"], 2))\n",
        "  print(\"Standard Deviation of Cross-Validation Accuracy:\", round(metrics[\"StdCVAccuracy\"], 2))\n",
        "  print(\"\\n\")"
      ],
      "metadata": {
        "colab": {
          "base_uri": "https://localhost:8080/"
        },
        "id": "8jIPptHevet2",
        "outputId": "f7a47035-35a9-46a4-f34d-b1ac8fc75321"
      },
      "execution_count": 298,
      "outputs": [
        {
          "output_type": "stream",
          "name": "stdout",
          "text": [
            "=== MICE IMPUTATION ===\n",
            "\n",
            "--- LR ---\n",
            "Mean Cross-Validation Accuracy: 0.89\n",
            "Standard Deviation of Cross-Validation Accuracy: 0.01\n",
            "\n",
            "\n",
            "--- RF ---\n",
            "Mean Cross-Validation Accuracy: 0.92\n",
            "Standard Deviation of Cross-Validation Accuracy: 0.01\n",
            "\n",
            "\n",
            "--- SVM ---\n",
            "Mean Cross-Validation Accuracy: 0.66\n",
            "Standard Deviation of Cross-Validation Accuracy: 0.01\n",
            "\n",
            "\n",
            "--- KNN ---\n",
            "Mean Cross-Validation Accuracy: 0.74\n",
            "Standard Deviation of Cross-Validation Accuracy: 0.01\n",
            "\n",
            "\n",
            "--- NB ---\n",
            "Mean Cross-Validation Accuracy: 0.89\n",
            "Standard Deviation of Cross-Validation Accuracy: 0.02\n",
            "\n",
            "\n"
          ]
        }
      ]
    },
    {
      "cell_type": "markdown",
      "source": [
        "#### **Hot Deck Imputation CV Results**"
      ],
      "metadata": {
        "id": "GCrRZb1h3j-e"
      }
    },
    {
      "cell_type": "code",
      "source": [
        "X = hotdeck_imputed.drop([\"mental_health_diagnosed\"], axis=1)\n",
        "y = hotdeck_imputed['mental_health_diagnosed']\n",
        "\n",
        "# Set the number of folds for cross-validation\n",
        "num_folds = 5\n",
        "\n",
        "# Create a cross-validation object (KFold)\n",
        "kfold = KFold(n_splits=num_folds, shuffle=True, random_state=42)"
      ],
      "metadata": {
        "id": "eC1iVZJg3njV"
      },
      "execution_count": 299,
      "outputs": []
    },
    {
      "cell_type": "code",
      "source": [
        "# Dictionary to store evaluation metrics\n",
        "results = {}\n",
        "\n",
        "# Loop through each classifier\n",
        "for name, clf in classifiers.items():\n",
        "    cv_scores = cross_val_score(clf, X, y, cv=kfold, scoring='accuracy')\n",
        "\n",
        "    # Calculate the mean and standard deviation of the cross-validation scores\n",
        "    mean_cv_score = np.mean(cv_scores)\n",
        "    std_cv_score = np.std(cv_scores)\n",
        "\n",
        "    results[name] = {\n",
        "        \"MeanCVAccuracy\": mean_cv_score,\n",
        "        \"StdCVAccuracy\": std_cv_score\n",
        "    }\n",
        "\n",
        "print(f\"=== HOT DECK IMPUTATION ===\")\n",
        "print()\n",
        "# Display the results\n",
        "for name, metrics in results.items():\n",
        "  print(f\"--- {name} ---\")\n",
        "  print(\"Mean Cross-Validation Accuracy:\", round(metrics[\"MeanCVAccuracy\"], 2))\n",
        "  print(\"Standard Deviation of Cross-Validation Accuracy:\", round(metrics[\"StdCVAccuracy\"], 2))\n",
        "  print(\"\\n\")"
      ],
      "metadata": {
        "colab": {
          "base_uri": "https://localhost:8080/"
        },
        "id": "a50hc_Fk3pD0",
        "outputId": "eb8bb2b8-406f-415d-9b62-2048c39b1b35"
      },
      "execution_count": 300,
      "outputs": [
        {
          "output_type": "stream",
          "name": "stdout",
          "text": [
            "=== HOT DECK IMPUTATION ===\n",
            "\n",
            "--- LR ---\n",
            "Mean Cross-Validation Accuracy: 0.89\n",
            "Standard Deviation of Cross-Validation Accuracy: 0.01\n",
            "\n",
            "\n",
            "--- RF ---\n",
            "Mean Cross-Validation Accuracy: 0.92\n",
            "Standard Deviation of Cross-Validation Accuracy: 0.01\n",
            "\n",
            "\n",
            "--- SVM ---\n",
            "Mean Cross-Validation Accuracy: 0.66\n",
            "Standard Deviation of Cross-Validation Accuracy: 0.01\n",
            "\n",
            "\n",
            "--- KNN ---\n",
            "Mean Cross-Validation Accuracy: 0.74\n",
            "Standard Deviation of Cross-Validation Accuracy: 0.02\n",
            "\n",
            "\n",
            "--- NB ---\n",
            "Mean Cross-Validation Accuracy: 0.86\n",
            "Standard Deviation of Cross-Validation Accuracy: 0.02\n",
            "\n",
            "\n"
          ]
        }
      ]
    },
    {
      "cell_type": "markdown",
      "source": [
        "#### **KNN Imputation CV Results**"
      ],
      "metadata": {
        "id": "AxjgESCG3ycm"
      }
    },
    {
      "cell_type": "code",
      "source": [
        "X = knn_imputed.drop([\"mental_health_diagnosed\"], axis=1)\n",
        "y = knn_imputed['mental_health_diagnosed']\n",
        "\n",
        "# Set the number of folds for cross-validation\n",
        "num_folds = 5\n",
        "\n",
        "# Create a cross-validation object (KFold)\n",
        "kfold = KFold(n_splits=num_folds, shuffle=True, random_state=42)"
      ],
      "metadata": {
        "id": "BJIljIRF37i1"
      },
      "execution_count": 301,
      "outputs": []
    },
    {
      "cell_type": "code",
      "source": [
        "# Dictionary to store evaluation metrics\n",
        "results = {}\n",
        "\n",
        "# Loop through each classifier\n",
        "for name, clf in classifiers.items():\n",
        "    cv_scores = cross_val_score(clf, X, y, cv=kfold, scoring='accuracy')\n",
        "\n",
        "    # Calculate the mean and standard deviation of the cross-validation scores\n",
        "    mean_cv_score = np.mean(cv_scores)\n",
        "    std_cv_score = np.std(cv_scores)\n",
        "\n",
        "    results[name] = {\n",
        "        \"MeanCVAccuracy\": mean_cv_score,\n",
        "        \"StdCVAccuracy\": std_cv_score\n",
        "    }\n",
        "\n",
        "print(f\"=== HOT DECK IMPUTATION ===\")\n",
        "print()\n",
        "# Display the results\n",
        "for name, metrics in results.items():\n",
        "  print(f\"--- {name} ---\")\n",
        "  print(\"Mean Cross-Validation Accuracy:\", round(metrics[\"MeanCVAccuracy\"], 2))\n",
        "  print(\"Standard Deviation of Cross-Validation Accuracy:\", round(metrics[\"StdCVAccuracy\"], 2))\n",
        "  print(\"\\n\")"
      ],
      "metadata": {
        "colab": {
          "base_uri": "https://localhost:8080/"
        },
        "id": "bxf2j6UB3-r_",
        "outputId": "dcf7d95b-2f9d-49c9-8026-38d3f1a21d13"
      },
      "execution_count": 302,
      "outputs": [
        {
          "output_type": "stream",
          "name": "stdout",
          "text": [
            "=== HOT DECK IMPUTATION ===\n",
            "\n",
            "--- LR ---\n",
            "Mean Cross-Validation Accuracy: 0.89\n",
            "Standard Deviation of Cross-Validation Accuracy: 0.01\n",
            "\n",
            "\n",
            "--- RF ---\n",
            "Mean Cross-Validation Accuracy: 0.91\n",
            "Standard Deviation of Cross-Validation Accuracy: 0.01\n",
            "\n",
            "\n",
            "--- SVM ---\n",
            "Mean Cross-Validation Accuracy: 0.66\n",
            "Standard Deviation of Cross-Validation Accuracy: 0.01\n",
            "\n",
            "\n",
            "--- KNN ---\n",
            "Mean Cross-Validation Accuracy: 0.73\n",
            "Standard Deviation of Cross-Validation Accuracy: 0.02\n",
            "\n",
            "\n",
            "--- NB ---\n",
            "Mean Cross-Validation Accuracy: 0.89\n",
            "Standard Deviation of Cross-Validation Accuracy: 0.02\n",
            "\n",
            "\n"
          ]
        }
      ]
    },
    {
      "cell_type": "markdown",
      "source": [
        "### **Ensemble Methods Using the Best Imputation**"
      ],
      "metadata": {
        "id": "Abfg1arXFsWp"
      }
    },
    {
      "cell_type": "markdown",
      "source": [
        "#### **Bagging Ensemble Methods**"
      ],
      "metadata": {
        "id": "xqXZun0mF1QB"
      }
    },
    {
      "cell_type": "code",
      "source": [
        "# Create a list of base classifiers\n",
        "base_classifiers = [knnCls[\"LR\"], knnCls[\"RF\"]]\n",
        "\n",
        "# Create a list of bagging classifiers, each using a different base classifier\n",
        "bagging_classifiers = []\n",
        "n_estimators = 2  # Number of base estimators\n",
        "\n",
        "for classifier in base_classifiers:\n",
        "    bagging_model = BaggingClassifier(estimator=classifier, n_estimators=n_estimators)\n",
        "    bagging_classifiers.append(bagging_model)\n",
        "\n",
        "# Train the ensemble\n",
        "for bagging_model in bagging_classifiers:\n",
        "    bagging_model.fit(X_train, y_train)\n",
        "\n",
        "y_pred = bagging_model.predict(X_test)\n",
        "\n",
        "# Calculate evaluation metrics\n",
        "accuracy = accuracy_score(y_test, y_pred)\n",
        "precision = precision_score(y_test, y_pred)\n",
        "recall = recall_score(y_test, y_pred)\n",
        "f1 = f1_score(y_test, y_pred)\n",
        "roc_auc = roc_auc_score(y_test, y_pred)\n",
        "confusion = confusion_matrix(y_test, y_pred)\n",
        "\n",
        "print(\"Accuracy: {:.2f}\".format(accuracy))\n",
        "print(\"Precision: {:.2f}\".format(precision))\n",
        "print(\"Recall: {:.2f}\".format(recall))\n",
        "print(\"F1 Score: {:.2f}\".format(f1))\n",
        "print(\"ROC AUC: {:.2f}\".format(roc_auc))\n",
        "print(\"Confusion Matrix:\")\n",
        "print(confusion)\n",
        "print(\"\\n\")"
      ],
      "metadata": {
        "colab": {
          "base_uri": "https://localhost:8080/"
        },
        "id": "bTXlzPySd9do",
        "outputId": "93f32d2c-3c00-4bd8-bac7-1a9bc00755d1"
      },
      "execution_count": 303,
      "outputs": [
        {
          "output_type": "stream",
          "name": "stdout",
          "text": [
            "Accuracy: 0.91\n",
            "Precision: 0.91\n",
            "Recall: 0.96\n",
            "F1 Score: 0.93\n",
            "ROC AUC: 0.89\n",
            "Confusion Matrix:\n",
            "[[121  27]\n",
            " [ 12 278]]\n",
            "\n",
            "\n"
          ]
        }
      ]
    },
    {
      "cell_type": "markdown",
      "source": [
        "#### **Boosting Ensemble Method**"
      ],
      "metadata": {
        "id": "Z3b5xMqZk_fy"
      }
    },
    {
      "cell_type": "code",
      "source": [
        "# Create a list of base classifiers\n",
        "base_classifiers = [knnCls[\"LR\"], knnCls[\"RF\"]]\n",
        "\n",
        "# Create a list of boosting classifiers, each using a different base classifier\n",
        "boosting_classifiers = []\n",
        "n_estimators = 3  # Number of boosting iterations\n",
        "\n",
        "for classifier in base_classifiers:\n",
        "    boosting_model = AdaBoostClassifier(estimator=classifier, n_estimators=n_estimators)\n",
        "    boosting_classifiers.append(boosting_model)\n",
        "\n",
        "# Train the ensemble\n",
        "boosting_model.fit(X_train, y_train)\n",
        "\n",
        "# Make predictions on the test set using the new model\n",
        "y_pred = boosting_model.predict(X_test)\n",
        "\n",
        "# Calculate evaluation metrics\n",
        "accuracy = accuracy_score(y_test, y_pred)\n",
        "precision = precision_score(y_test, y_pred)\n",
        "recall = recall_score(y_test, y_pred)\n",
        "f1 = f1_score(y_test, y_pred)\n",
        "roc_auc = roc_auc_score(y_test, y_pred)\n",
        "confusion = confusion_matrix(y_test, y_pred)\n",
        "\n",
        "print(\"Accuracy: {:.2f}\".format(accuracy))\n",
        "print(\"Precision: {:.2f}\".format(precision))\n",
        "print(\"Recall: {:.2f}\".format(recall))\n",
        "print(\"F1 Score: {:.2f}\".format(f1))\n",
        "print(\"ROC AUC: {:.2f}\".format(roc_auc))\n",
        "print(\"Confusion Matrix:\")\n",
        "print(confusion)\n",
        "print(\"\\n\")"
      ],
      "metadata": {
        "id": "vjInN6bve5ie",
        "colab": {
          "base_uri": "https://localhost:8080/"
        },
        "outputId": "f02e6f8f-13c5-4be0-c780-63f72c2e2e95"
      },
      "execution_count": 304,
      "outputs": [
        {
          "output_type": "stream",
          "name": "stdout",
          "text": [
            "Accuracy: 0.92\n",
            "Precision: 0.92\n",
            "Recall: 0.96\n",
            "F1 Score: 0.94\n",
            "ROC AUC: 0.90\n",
            "Confusion Matrix:\n",
            "[[123  25]\n",
            " [ 11 279]]\n",
            "\n",
            "\n"
          ]
        }
      ]
    },
    {
      "cell_type": "markdown",
      "source": [
        "#### **Stacking Ensemble Method**"
      ],
      "metadata": {
        "id": "6PkDjD6mlW4T"
      }
    },
    {
      "cell_type": "code",
      "source": [
        "estimators = [\n",
        "    ('RF', knnCls[\"RF\"]),\n",
        "    ('KNN', knnCls[\"KNN\"]),\n",
        "    ('NB', knnCls[\"NB\"]),\n",
        "    ('LR', knnCls[\"LR\"]),\n",
        "    ('SVM', knnCls[\"SVM\"])\n",
        "]\n",
        "stacking_model = StackingClassifier(estimators=estimators, final_estimator= knnCls[\"LR\"])\n",
        "\n",
        "# Train the ensemble\n",
        "stacking_model.fit(X_train, y_train)\n",
        "\n",
        "# Make predictions on the test set using the new model\n",
        "y_pred = stacking_model.predict(X_test)\n",
        "\n",
        "# Calculate evaluation metrics\n",
        "accuracy = accuracy_score(y_test, y_pred)\n",
        "precision = precision_score(y_test, y_pred)\n",
        "recall = recall_score(y_test, y_pred)\n",
        "f1 = f1_score(y_test, y_pred)\n",
        "roc_auc = roc_auc_score(y_test, y_pred)\n",
        "confusion = confusion_matrix(y_test, y_pred)\n",
        "\n",
        "print(\"Accuracy: {:.2f}\".format(accuracy))\n",
        "print(\"Precision: {:.2f}\".format(precision))\n",
        "print(\"Recall: {:.2f}\".format(recall))\n",
        "print(\"F1 Score: {:.2f}\".format(f1))\n",
        "print(\"ROC AUC: {:.2f}\".format(roc_auc))\n",
        "print(\"Confusion Matrix:\")\n",
        "print(confusion)\n",
        "print(\"\\n\")\n"
      ],
      "metadata": {
        "colab": {
          "base_uri": "https://localhost:8080/"
        },
        "id": "6_4yMpwClb9D",
        "outputId": "734ecebf-c856-420a-b081-4da2ccc6236d"
      },
      "execution_count": 305,
      "outputs": [
        {
          "output_type": "stream",
          "name": "stdout",
          "text": [
            "Accuracy: 0.92\n",
            "Precision: 0.92\n",
            "Recall: 0.97\n",
            "F1 Score: 0.94\n",
            "ROC AUC: 0.90\n",
            "Confusion Matrix:\n",
            "[[124  24]\n",
            " [ 10 280]]\n",
            "\n",
            "\n"
          ]
        }
      ]
    }
  ]
}